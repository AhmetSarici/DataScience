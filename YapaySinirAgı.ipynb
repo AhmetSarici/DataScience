{
  "nbformat": 4,
  "nbformat_minor": 0,
  "metadata": {
    "colab": {
      "name": "YapaySinirAgı.ipynb",
      "provenance": [],
      "collapsed_sections": [],
      "authorship_tag": "ABX9TyOsNtyxQVcS6kd8Z0MdrvtA",
      "include_colab_link": true
    },
    "kernelspec": {
      "name": "python3",
      "display_name": "Python 3"
    },
    "language_info": {
      "name": "python"
    }
  },
  "cells": [
    {
      "cell_type": "markdown",
      "metadata": {
        "id": "view-in-github",
        "colab_type": "text"
      },
      "source": [
        "<a href=\"https://colab.research.google.com/github/AhmetSarici/DataScience/blob/ML/YapaySinirAg%C4%B1.ipynb\" target=\"_parent\"><img src=\"https://colab.research.google.com/assets/colab-badge.svg\" alt=\"Open In Colab\"/></a>"
      ]
    },
    {
      "cell_type": "markdown",
      "metadata": {
        "id": "wLSyUnqCcHgK"
      },
      "source": [
        "# Yapay Sinir Ağları (Çok Katmanlı Algılayıcı)"
      ]
    },
    {
      "cell_type": "code",
      "execution_count": null,
      "metadata": {
        "id": "h_vTLujhcHgL"
      },
      "outputs": [],
      "source": [
        "hit = pd.read_csv(\"Hitters.csv\")\n",
        "df = hit.copy()\n",
        "df = df.dropna()\n",
        "dms = pd.get_dummies(df[['League', 'Division', 'NewLeague']])\n",
        "y = df[\"Salary\"]\n",
        "X_ = df.drop(['Salary', 'League', 'Division', 'NewLeague'], axis=1).astype('float64')\n",
        "X = pd.concat([X_, dms[['League_N', 'Division_W', 'NewLeague_N']]], axis=1)\n",
        "\n",
        "X_train, X_test, y_train, y_test = train_test_split(X, y, \n",
        "                                                    test_size=0.25, \n",
        "                                                    random_state=42)"
      ]
    },
    {
      "cell_type": "code",
      "execution_count": null,
      "metadata": {
        "id": "KfqmuQYmcHgL"
      },
      "outputs": [],
      "source": [
        "from sklearn.preprocessing import StandardScaler"
      ]
    },
    {
      "cell_type": "code",
      "execution_count": null,
      "metadata": {
        "id": "TjAOoz7ScHgL",
        "colab": {
          "base_uri": "https://localhost:8080/"
        },
        "outputId": "cd252bbc-ac17-4469-9120-bce6e37f2861"
      },
      "outputs": [
        {
          "output_type": "execute_result",
          "data": {
            "text/plain": [
              "StandardScaler()"
            ]
          },
          "metadata": {},
          "execution_count": 7
        }
      ],
      "source": [
        "#Değişken standartlaştırma\n",
        "scaler = StandardScaler()\n",
        "scaler.fit(X_train)"
      ]
    },
    {
      "cell_type": "code",
      "execution_count": null,
      "metadata": {
        "id": "mdKe_eqZcHgL"
      },
      "outputs": [],
      "source": [
        "#Dönüştürme işlemi\n",
        "X_train_scaled = scaler.transform(X_train)"
      ]
    },
    {
      "cell_type": "code",
      "execution_count": null,
      "metadata": {
        "id": "7K5uBdj_cHgL"
      },
      "outputs": [],
      "source": [
        "X_test_scaled = scaler.transform(X_test)"
      ]
    },
    {
      "cell_type": "code",
      "execution_count": null,
      "metadata": {
        "id": "CPhU6ON9cHgM"
      },
      "outputs": [],
      "source": [
        "from sklearn.neural_network import MLPRegressor"
      ]
    },
    {
      "cell_type": "code",
      "execution_count": null,
      "metadata": {
        "id": "cwvYBgW0cHgM"
      },
      "outputs": [],
      "source": [
        "#Model kurulumu\n",
        "mlp_model = MLPRegressor(hidden_layer_sizes = (100,20)).fit(X_train_scaled, y_train)"
      ]
    },
    {
      "cell_type": "code",
      "execution_count": null,
      "metadata": {
        "id": "MyA6lR9NcHgM",
        "colab": {
          "base_uri": "https://localhost:8080/"
        },
        "outputId": "93e740d6-78c4-48b8-8389-d473e8026cf4"
      },
      "outputs": [
        {
          "output_type": "execute_result",
          "data": {
            "text/plain": [
              "MLPRegressor(hidden_layer_sizes=(100, 20))"
            ]
          },
          "metadata": {},
          "execution_count": 12
        }
      ],
      "source": [
        "mlp_model"
      ]
    },
    {
      "cell_type": "code",
      "execution_count": null,
      "metadata": {
        "id": "wExYhxqCcHgM",
        "colab": {
          "base_uri": "https://localhost:8080/"
        },
        "outputId": "48541753-435e-422b-ddb3-3994e100f3a9"
      },
      "outputs": [
        {
          "output_type": "execute_result",
          "data": {
            "text/plain": [
              "4"
            ]
          },
          "metadata": {},
          "execution_count": 13
        }
      ],
      "source": [
        "#Katman sayısı(Genel Framework)\n",
        "mlp_model.n_layers_"
      ]
    },
    {
      "cell_type": "code",
      "execution_count": null,
      "metadata": {
        "id": "qkBYtY7scHgM",
        "colab": {
          "base_uri": "https://localhost:8080/"
        },
        "outputId": "965b1f95-a500-4cd6-d3e7-eada2bb142d9"
      },
      "outputs": [
        {
          "output_type": "execute_result",
          "data": {
            "text/plain": [
              "(100, 20)"
            ]
          },
          "metadata": {},
          "execution_count": 14
        }
      ],
      "source": [
        "#Gizli katman sayısı\n",
        "mlp_model.hidden_layer_sizes"
      ]
    },
    {
      "cell_type": "markdown",
      "metadata": {
        "id": "MpI3HZD1cHgN"
      },
      "source": [
        "## Tahmin"
      ]
    },
    {
      "cell_type": "code",
      "execution_count": null,
      "metadata": {
        "id": "ela51228cHgN"
      },
      "outputs": [],
      "source": [
        "y_pred = mlp_model.predict(X_test_scaled)"
      ]
    },
    {
      "cell_type": "code",
      "execution_count": null,
      "metadata": {
        "id": "xNo6GtuycHgN",
        "colab": {
          "base_uri": "https://localhost:8080/"
        },
        "outputId": "8dd84030-8aa7-496a-a51d-8b229ecb713f"
      },
      "outputs": [
        {
          "output_type": "execute_result",
          "data": {
            "text/plain": [
              "494.46728720790645"
            ]
          },
          "metadata": {},
          "execution_count": 16
        }
      ],
      "source": [
        "np.sqrt(mean_squared_error(y_test, y_pred))"
      ]
    },
    {
      "cell_type": "markdown",
      "metadata": {
        "id": "7AFh2hMXcHgN"
      },
      "source": [
        "## Model Tuning"
      ]
    },
    {
      "cell_type": "code",
      "execution_count": null,
      "metadata": {
        "id": "3-IikYA2cHgN",
        "colab": {
          "base_uri": "https://localhost:8080/"
        },
        "outputId": "4d0d9350-d15b-4a49-a413-09f48e296ebc"
      },
      "outputs": [
        {
          "output_type": "execute_result",
          "data": {
            "text/plain": [
              "MLPRegressor(hidden_layer_sizes=(100, 20))"
            ]
          },
          "metadata": {},
          "execution_count": 17
        }
      ],
      "source": [
        "mlp_model"
      ]
    },
    {
      "cell_type": "code",
      "execution_count": null,
      "metadata": {
        "id": "HmJgy2_6cHgO"
      },
      "outputs": [],
      "source": [
        "mlp_params = {'alpha': [0.1, 0.01,0.02,0.005],\n",
        "             'hidden_layer_sizes': [(20,20),(100,50,150),(300,200,150)],\n",
        "             'activation': ['relu','logistic']}"
      ]
    },
    {
      "cell_type": "code",
      "execution_count": null,
      "metadata": {
        "id": "SGwGgZ5ZcHgO"
      },
      "outputs": [],
      "source": [
        "mlp_cv_model = GridSearchCV(mlp_model, mlp_params, cv = 10)"
      ]
    },
    {
      "cell_type": "code",
      "execution_count": null,
      "metadata": {
        "id": "WJK-DvbCcHgO",
        "colab": {
          "base_uri": "https://localhost:8080/"
        },
        "outputId": "35caa48d-ccdf-4637-dd2c-d92dd0ce8271"
      },
      "outputs": [
        {
          "output_type": "execute_result",
          "data": {
            "text/plain": [
              "GridSearchCV(cv=10, estimator=MLPRegressor(hidden_layer_sizes=(100, 20)),\n",
              "             param_grid={'activation': ['relu', 'logistic'],\n",
              "                         'alpha': [0.1, 0.01, 0.02, 0.005],\n",
              "                         'hidden_layer_sizes': [(20, 20), (100, 50, 150),\n",
              "                                                (300, 200, 150)]})"
            ]
          },
          "metadata": {},
          "execution_count": 20
        }
      ],
      "source": [
        "mlp_cv_model.fit(X_train_scaled, y_train)"
      ]
    },
    {
      "cell_type": "code",
      "execution_count": null,
      "metadata": {
        "id": "zAobA088cHgO",
        "colab": {
          "base_uri": "https://localhost:8080/"
        },
        "outputId": "78e90d68-201a-4d1b-ad20-768fa2402571"
      },
      "outputs": [
        {
          "output_type": "execute_result",
          "data": {
            "text/plain": [
              "{'activation': 'relu', 'alpha': 0.005, 'hidden_layer_sizes': (100, 50, 150)}"
            ]
          },
          "metadata": {},
          "execution_count": 21
        }
      ],
      "source": [
        "mlp_cv_model.best_params_"
      ]
    },
    {
      "cell_type": "code",
      "source": [
        "mlp_cv_model.estimator"
      ],
      "metadata": {
        "colab": {
          "base_uri": "https://localhost:8080/"
        },
        "id": "7NTfAcA_BniE",
        "outputId": "ed1e291e-d00e-43b2-966e-ae3d600aaed4"
      },
      "execution_count": null,
      "outputs": [
        {
          "output_type": "execute_result",
          "data": {
            "text/plain": [
              "MLPRegressor(hidden_layer_sizes=(100, 20))"
            ]
          },
          "metadata": {},
          "execution_count": 26
        }
      ]
    },
    {
      "cell_type": "code",
      "source": [
        "mlp_cv_model.best_index_"
      ],
      "metadata": {
        "colab": {
          "base_uri": "https://localhost:8080/"
        },
        "id": "LUyX3-DRDCdk",
        "outputId": "501c06f1-d8b2-490b-b589-24b10851a8d3"
      },
      "execution_count": null,
      "outputs": [
        {
          "output_type": "execute_result",
          "data": {
            "text/plain": [
              "10"
            ]
          },
          "metadata": {},
          "execution_count": 30
        }
      ]
    },
    {
      "cell_type": "code",
      "execution_count": null,
      "metadata": {
        "id": "L5G76g1HcHgO"
      },
      "outputs": [],
      "source": [
        "mlp_tuned = MLPRegressor(alpha = 0.02, \n",
        "                         hidden_layer_sizes = (100,50,150))"
      ]
    },
    {
      "cell_type": "code",
      "source": [
        "mlp_tuned2 = MLPRegressor(alpha = 0.05, \n",
        "                         hidden_layer_sizes = (100,50,150))"
      ],
      "metadata": {
        "id": "3LPH0B4rQwjX"
      },
      "execution_count": null,
      "outputs": []
    },
    {
      "cell_type": "code",
      "execution_count": null,
      "metadata": {
        "id": "eUbzLt-YcHgP",
        "colab": {
          "base_uri": "https://localhost:8080/"
        },
        "outputId": "fb90e802-ccf3-4da6-efb6-6ea3ae918ffa"
      },
      "outputs": [
        {
          "output_type": "execute_result",
          "data": {
            "text/plain": [
              "MLPRegressor(alpha=0.02, hidden_layer_sizes=(100, 50, 150))"
            ]
          },
          "metadata": {},
          "execution_count": 34
        }
      ],
      "source": [
        "mlp_tuned.fit(X_train_scaled, y_train)"
      ]
    },
    {
      "cell_type": "code",
      "source": [
        "mlp_tuned2.fit(X_train_scaled, y_train)"
      ],
      "metadata": {
        "colab": {
          "base_uri": "https://localhost:8080/"
        },
        "id": "KibsT72rQ2XD",
        "outputId": "e44e89f9-1a01-4a24-fb13-d0156607dcad"
      },
      "execution_count": null,
      "outputs": [
        {
          "output_type": "execute_result",
          "data": {
            "text/plain": [
              "MLPRegressor(alpha=0.05, hidden_layer_sizes=(100, 50, 150))"
            ]
          },
          "metadata": {},
          "execution_count": 35
        }
      ]
    },
    {
      "cell_type": "code",
      "execution_count": null,
      "metadata": {
        "id": "wpnjUukrcHgP"
      },
      "outputs": [],
      "source": [
        "y_pred = mlp_tuned.predict(X_test_scaled)"
      ]
    },
    {
      "cell_type": "code",
      "source": [
        "y_pred2 = mlp_tuned2.predict(X_test_scaled)"
      ],
      "metadata": {
        "id": "PzMCxR4-Q8eP"
      },
      "execution_count": null,
      "outputs": []
    },
    {
      "cell_type": "code",
      "execution_count": null,
      "metadata": {
        "id": "KHh-XXqvcHgP",
        "colab": {
          "base_uri": "https://localhost:8080/"
        },
        "outputId": "832ff116-aca7-4a00-c686-813fec07501b"
      },
      "outputs": [
        {
          "output_type": "execute_result",
          "data": {
            "text/plain": [
              "358.2605454839141"
            ]
          },
          "metadata": {},
          "execution_count": 40
        }
      ],
      "source": [
        "np.sqrt(mean_squared_error(y_test, y_pred))"
      ]
    },
    {
      "cell_type": "code",
      "source": [
        "np.sqrt(mean_squared_error(y_test, y_pred2))"
      ],
      "metadata": {
        "colab": {
          "base_uri": "https://localhost:8080/"
        },
        "id": "toc2EZMjRBds",
        "outputId": "47d649e7-b81d-4cbf-c6b9-7f1a2e01f28f"
      },
      "execution_count": null,
      "outputs": [
        {
          "output_type": "execute_result",
          "data": {
            "text/plain": [
              "361.75638589977535"
            ]
          },
          "metadata": {},
          "execution_count": 43
        }
      ]
    }
  ]
}