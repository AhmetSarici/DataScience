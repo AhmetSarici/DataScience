{
  "nbformat": 4,
  "nbformat_minor": 0,
  "metadata": {
    "colab": {
      "name": "DoğrusalOlmayanSVR.ipynb",
      "provenance": [],
      "collapsed_sections": [],
      "authorship_tag": "ABX9TyOfd3JOtWUf/gXzZqY9OQb9",
      "include_colab_link": true
    },
    "kernelspec": {
      "name": "python3",
      "display_name": "Python 3"
    },
    "language_info": {
      "name": "python"
    }
  },
  "cells": [
    {
      "cell_type": "markdown",
      "metadata": {
        "id": "view-in-github",
        "colab_type": "text"
      },
      "source": [
        "<a href=\"https://colab.research.google.com/github/AhmetSarici/DataScience/blob/ML/Do%C4%9FrusalOlmayanSVR.ipynb\" target=\"_parent\"><img src=\"https://colab.research.google.com/assets/colab-badge.svg\" alt=\"Open In Colab\"/></a>"
      ]
    },
    {
      "cell_type": "markdown",
      "metadata": {
        "id": "dIz7rxCucHgH"
      },
      "source": [
        "# Doğrusal Olmayan SVR"
      ]
    },
    {
      "cell_type": "code",
      "execution_count": null,
      "metadata": {
        "id": "iUemBpaecHgH"
      },
      "outputs": [],
      "source": [
        "np.random.seed(3)\n",
        "\n",
        "x_sim = np.random.uniform(2, 10, 145)\n",
        "y_sim = np.sin(x_sim) + np.random.normal(0, 0.4, 145)\n",
        "\n",
        "x_outliers = np.arange(2.5, 5, 0.5)\n",
        "y_outliers = -5*np.ones(5)\n",
        "\n",
        "x_sim_idx = np.argsort(np.concatenate([x_sim, x_outliers]))\n",
        "x_sim = np.concatenate([x_sim, x_outliers])[x_sim_idx]\n",
        "y_sim = np.concatenate([y_sim, y_outliers])[x_sim_idx]"
      ]
    },
    {
      "cell_type": "code",
      "execution_count": null,
      "metadata": {
        "id": "Om_KOgGOcHgH"
      },
      "outputs": [],
      "source": [
        "\n",
        "from sklearn.linear_model import LinearRegression\n",
        "ols = LinearRegression()\n",
        "ols.fit(np.sin(x_sim[:, np.newaxis]), y_sim)\n",
        "ols_pred = ols.predict(np.sin(x_sim[:, np.newaxis]))\n",
        "\n",
        "from sklearn.svm import SVR\n",
        "eps = 0.1\n",
        "svr = SVR(kernel='rbf', epsilon = eps)\n",
        "svr.fit(x_sim[:, np.newaxis], y_sim)\n",
        "svr_pred = svr.predict(x_sim[:, np.newaxis])"
      ]
    },
    {
      "cell_type": "code",
      "execution_count": null,
      "metadata": {
        "id": "hC-IegazcHgI",
        "colab": {
          "base_uri": "https://localhost:8080/",
          "height": 280
        },
        "outputId": "ec6fda0b-83ce-4580-bbd9-4341d939372b"
      },
      "outputs": [
        {
          "output_type": "display_data",
          "data": {
            "text/plain": [
              "<Figure size 432x288 with 1 Axes>"
            ],
            "image/png": "[encoded data removed]"
          },
          "metadata": {
            "needs_background": "light"
          }
        }
      ],
      "source": [
        "plt.scatter(x_sim, y_sim, alpha=0.5, s=26)\n",
        "plt_ols, = plt.plot(x_sim, ols_pred, 'g')\n",
        "plt_svr, = plt.plot(x_sim, svr_pred, color='r')\n",
        "plt.xlabel(\"Bağımsız Değişken\")\n",
        "plt.ylabel(\"Bağımlı Değişken\")\n",
        "plt.ylim(-5.2, 2.2)\n",
        "plt.legend([plt_ols, plt_svr], ['EKK', 'SVR'], loc = 4);"
      ]
    },
    {
      "cell_type": "code",
      "execution_count": null,
      "metadata": {
        "id": "uL9r_gF7cHgI"
      },
      "outputs": [],
      "source": [
        "hit = pd.read_csv(\"Hitters.csv\")\n",
        "df = hit.copy()\n",
        "df = df.dropna()\n",
        "dms = pd.get_dummies(df[['League', 'Division', 'NewLeague']])\n",
        "y = df[\"Salary\"]\n",
        "X_ = df.drop(['Salary', 'League', 'Division', 'NewLeague'], axis=1).astype('float64')\n",
        "X = pd.concat([X_, dms[['League_N', 'Division_W', 'NewLeague_N']]], axis=1)\n",
        "\n",
        "X_train, X_test, y_train, y_test = train_test_split(X, y, \n",
        "                                                    test_size=0.25, \n",
        "                                                    random_state=42)"
      ]
    },
    {
      "cell_type": "code",
      "execution_count": null,
      "metadata": {
        "id": "fV4gsW4dcHgI"
      },
      "outputs": [],
      "source": [
        "#Doğrusal olmayan kurulum\n",
        "svr_rbf = SVR(kernel=\"rbf\").fit(X_train, y_train)"
      ]
    },
    {
      "cell_type": "markdown",
      "metadata": {
        "id": "SQTxzJwecHgI"
      },
      "source": [
        "## Tahmin"
      ]
    },
    {
      "cell_type": "code",
      "execution_count": null,
      "metadata": {
        "id": "7sbvDFL8cHgJ"
      },
      "outputs": [],
      "source": [
        "#Tahmin\n",
        "y_pred = svr_rbf.predict(X_test)"
      ]
    },
    {
      "cell_type": "code",
      "execution_count": null,
      "metadata": {
        "id": "nHRP_rUCcHgJ",
        "colab": {
          "base_uri": "https://localhost:8080/"
        },
        "outputId": "23975a7e-3e94-4be2-d123-43bc6252940e"
      },
      "outputs": [
        {
          "output_type": "execute_result",
          "data": {
            "text/plain": [
              "460.0032657244849"
            ]
          },
          "metadata": {},
          "execution_count": 63
        }
      ],
      "source": [
        "#Hata\n",
        "np.sqrt(mean_squared_error(y_test, y_pred))"
      ]
    },
    {
      "cell_type": "markdown",
      "metadata": {
        "id": "tQ6gpiXRcHgJ"
      },
      "source": [
        "## Model Tuning"
      ]
    },
    {
      "cell_type": "code",
      "execution_count": null,
      "metadata": {
        "id": "9ngSsetbcHgJ",
        "colab": {
          "base_uri": "https://localhost:8080/"
        },
        "outputId": "8d23b61f-16d4-43f6-a6c9-ff88fff7e667"
      },
      "outputs": [
        {
          "output_type": "execute_result",
          "data": {
            "text/plain": [
              "SVR()"
            ]
          },
          "metadata": {},
          "execution_count": 64
        }
      ],
      "source": [
        "svr_rbf"
      ]
    },
    {
      "cell_type": "code",
      "execution_count": null,
      "metadata": {
        "id": "89Vlu6_NcHgK",
        "colab": {
          "base_uri": "https://localhost:8080/"
        },
        "outputId": "6fed0da7-d72e-4a0d-eb3f-c34044fa103a"
      },
      "outputs": [
        {
          "output_type": "execute_result",
          "data": {
            "text/plain": [
              "GridSearchCV(cv=10, estimator=SVR(),\n",
              "             param_grid={'C': [0.01, 0.1, 0.4, 5, 10, 20, 30, 40, 50]})"
            ]
          },
          "metadata": {},
          "execution_count": 65
        }
      ],
      "source": [
        "#Ceza optimum parametre belirleme\n",
        "svr_params = {\"C\": [0.01, 0.1,0.4,5,10,20,30,40,50]}\n",
        "svr_cv_model = GridSearchCV(svr_rbf,svr_params, cv = 10)\n",
        "svr_cv_model.fit(X_train, y_train)"
      ]
    },
    {
      "cell_type": "code",
      "execution_count": null,
      "metadata": {
        "id": "CJ2hHNUXcHgK",
        "colab": {
          "base_uri": "https://localhost:8080/"
        },
        "outputId": "02a8d617-a4e3-4962-b8dc-1934d76becd6"
      },
      "outputs": [
        {
          "output_type": "execute_result",
          "data": {
            "text/plain": [
              "50"
            ]
          },
          "metadata": {},
          "execution_count": 66
        }
      ],
      "source": [
        "pd.Series(svr_cv_model.best_params_)[0]"
      ]
    },
    {
      "cell_type": "code",
      "execution_count": null,
      "metadata": {
        "id": "LpndfOgOcHgK"
      },
      "outputs": [],
      "source": [
        "svr_tuned = SVR(kernel=\"rbf\", C = pd.Series(svr_cv_model.best_params_)[0]).fit(X_train, \n",
        "                                                                        y_train)\n"
      ]
    },
    {
      "cell_type": "code",
      "execution_count": null,
      "metadata": {
        "id": "YEQnzrH4cHgK",
        "colab": {
          "base_uri": "https://localhost:8080/"
        },
        "outputId": "af3925eb-9b48-4885-d1bd-bcfdcd2bfb51"
      },
      "outputs": [
        {
          "output_type": "execute_result",
          "data": {
            "text/plain": [
              "428.00406888095694"
            ]
          },
          "metadata": {},
          "execution_count": 68
        }
      ],
      "source": [
        "y_pred = svr_tuned.predict(X_test)\n",
        "\n",
        "np.sqrt(mean_squared_error(y_test, y_pred))"
      ]
    }
  ]
}