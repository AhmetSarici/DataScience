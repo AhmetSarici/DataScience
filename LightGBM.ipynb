{
  "nbformat": 4,
  "nbformat_minor": 0,
  "metadata": {
    "colab": {
      "name": "LightGBM.ipynb",
      "provenance": [],
      "collapsed_sections": [],
      "authorship_tag": "ABX9TyOhAKXXFa2u4tLq1iZQtYiE",
      "include_colab_link": true
    },
    "kernelspec": {
      "name": "python3",
      "display_name": "Python 3"
    },
    "language_info": {
      "name": "python"
    }
  },
  "cells": [
    {
      "cell_type": "markdown",
      "metadata": {
        "id": "view-in-github",
        "colab_type": "text"
      },
      "source": [
        "<a href=\"https://colab.research.google.com/github/AhmetSarici/DataScience/blob/ML/LightGBM.ipynb\" target=\"_parent\"><img src=\"https://colab.research.google.com/assets/colab-badge.svg\" alt=\"Open In Colab\"/></a>"
      ]
    },
    {
      "cell_type": "markdown",
      "metadata": {
        "id": "XYuz1jV3cHg1"
      },
      "source": [
        "# Light GBM"
      ]
    },
    {
      "cell_type": "markdown",
      "source": [
        "XGBoost    : Değişkenleri ayırmak ve farklı bölme noktaları araştırmak keşfetmek için karar ağaçları kullanılıyor ve bu işleme Level-wise stratejisi deniyor.\n",
        "\n",
        "                   BFS (Breadth-first search) : Daha geniş kapsamlı bir ilk arama yapar.\n",
        "\n",
        "Light GBM : Leaf-wise büyüme stratejisi(splitlere odaklanıyor)\n",
        "\n",
        "                    DFS (Dept-First Search): Derinlemesine arama yapar."
      ],
      "metadata": {
        "id": "IGGWxJD0cvmA"
      }
    },
    {
      "cell_type": "code",
      "execution_count": null,
      "metadata": {
        "id": "0i2yVaSjcHg2"
      },
      "outputs": [],
      "source": [
        "hit = pd.read_csv(\"Hitters.csv\")\n",
        "df = hit.copy()\n",
        "df = df.dropna()\n",
        "dms = pd.get_dummies(df[['League', 'Division', 'NewLeague']])\n",
        "y = df[\"Salary\"]\n",
        "X_ = df.drop(['Salary', 'League', 'Division', 'NewLeague'], axis=1).astype('float64')\n",
        "X = pd.concat([X_, dms[['League_N', 'Division_W', 'NewLeague_N']]], axis=1)\n",
        "X_train, X_test, y_train, y_test = train_test_split(X, y, \n",
        "                                                    test_size=0.25, \n",
        "                                                    random_state=42)\n"
      ]
    },
    {
      "cell_type": "code",
      "execution_count": null,
      "metadata": {
        "id": "bXzgccOdcHg2"
      },
      "outputs": [],
      "source": [
        "#!pip install lightgbm"
      ]
    },
    {
      "cell_type": "code",
      "execution_count": null,
      "metadata": {
        "id": "Ak2w-vG0cHg2"
      },
      "outputs": [],
      "source": [
        "from lightgbm import LGBMRegressor"
      ]
    },
    {
      "cell_type": "code",
      "execution_count": null,
      "metadata": {
        "id": "Phmf9gKocHg2"
      },
      "outputs": [],
      "source": [
        "#conda install -c conda-forge lightgbm"
      ]
    },
    {
      "cell_type": "code",
      "execution_count": null,
      "metadata": {
        "id": "DurvjGQrcHg2"
      },
      "outputs": [],
      "source": [
        "from lightgbm import LGBMRegressor"
      ]
    },
    {
      "cell_type": "code",
      "execution_count": null,
      "metadata": {
        "id": "SniWvAOdcHg3"
      },
      "outputs": [],
      "source": [
        "lgbm = LGBMRegressor()\n",
        "lgbm_model = lgbm.fit(X_train, y_train)"
      ]
    },
    {
      "cell_type": "markdown",
      "metadata": {
        "id": "BdVMR4tccHg3"
      },
      "source": [
        "## Tahmin"
      ]
    },
    {
      "cell_type": "code",
      "execution_count": null,
      "metadata": {
        "id": "UUMCpwRqcHg3"
      },
      "outputs": [],
      "source": [
        "y_pred = lgbm_model.predict(X_test, \n",
        "                            num_iteration = lgbm_model.best_iteration_)"
      ]
    },
    {
      "cell_type": "code",
      "execution_count": null,
      "metadata": {
        "id": "9SeDBUUHcHg3",
        "colab": {
          "base_uri": "https://localhost:8080/"
        },
        "outputId": "3354f1ed-4f8c-4512-9874-289e1726f89f"
      },
      "outputs": [
        {
          "output_type": "execute_result",
          "data": {
            "text/plain": [
              "363.8712087611089"
            ]
          },
          "metadata": {},
          "execution_count": 92
        }
      ],
      "source": [
        "np.sqrt(mean_squared_error(y_test, y_pred))"
      ]
    },
    {
      "cell_type": "markdown",
      "metadata": {
        "id": "VGnosWXXcHg4"
      },
      "source": [
        "## Model Tuning"
      ]
    },
    {
      "cell_type": "code",
      "execution_count": null,
      "metadata": {
        "id": "oGsbMXP9cHg4",
        "colab": {
          "base_uri": "https://localhost:8080/"
        },
        "outputId": "80372afc-a6ae-40c2-aa6c-4697e62cce2b"
      },
      "outputs": [
        {
          "output_type": "execute_result",
          "data": {
            "text/plain": [
              "LGBMRegressor()"
            ]
          },
          "metadata": {},
          "execution_count": 93
        }
      ],
      "source": [
        "lgbm_model"
      ]
    },
    {
      "cell_type": "code",
      "execution_count": null,
      "metadata": {
        "id": "WYmrfRXmcHg4"
      },
      "outputs": [],
      "source": [
        "lgbm_grid = {\n",
        "    'colsample_bytree': [0.4, 0.5,0.6,0.9,1],\n",
        "    'learning_rate': [0.01, 0.1, 0.5,1],\n",
        "    'n_estimators': [20, 40, 100, 200, 500,1000],\n",
        "    'max_depth': [1,2,3,4,5,6,7,8] }\n",
        "\n",
        "lgbm = LGBMRegressor()\n",
        "lgbm_cv_model = GridSearchCV(lgbm, lgbm_grid, cv=10, n_jobs = -1, verbose = 2)"
      ]
    },
    {
      "cell_type": "code",
      "execution_count": null,
      "metadata": {
        "id": "pD6d6cg-cHg4",
        "colab": {
          "base_uri": "https://localhost:8080/"
        },
        "outputId": "7bd903e8-ccdd-47a0-8033-50b94a569720"
      },
      "outputs": [
        {
          "output_type": "stream",
          "name": "stdout",
          "text": [
            "Fitting 10 folds for each of 960 candidates, totalling 9600 fits\n"
          ]
        },
        {
          "output_type": "execute_result",
          "data": {
            "text/plain": [
              "GridSearchCV(cv=10, estimator=LGBMRegressor(), n_jobs=-1,\n",
              "             param_grid={'colsample_bytree': [0.4, 0.5, 0.6, 0.9, 1],\n",
              "                         'learning_rate': [0.01, 0.1, 0.5, 1],\n",
              "                         'max_depth': [1, 2, 3, 4, 5, 6, 7, 8],\n",
              "                         'n_estimators': [20, 40, 100, 200, 500, 1000]},\n",
              "             verbose=2)"
            ]
          },
          "metadata": {},
          "execution_count": 95
        }
      ],
      "source": [
        "lgbm_cv_model.fit(X_train, y_train)"
      ]
    },
    {
      "cell_type": "code",
      "execution_count": null,
      "metadata": {
        "id": "08oE1bHfcHg4",
        "colab": {
          "base_uri": "https://localhost:8080/"
        },
        "outputId": "4c355ca5-94d0-43af-a1a2-c367b1e9fd2e"
      },
      "outputs": [
        {
          "output_type": "execute_result",
          "data": {
            "text/plain": [
              "{'colsample_bytree': 0.4,\n",
              " 'learning_rate': 0.1,\n",
              " 'max_depth': 6,\n",
              " 'n_estimators': 20}"
            ]
          },
          "metadata": {},
          "execution_count": 96
        }
      ],
      "source": [
        "lgbm_cv_model.best_params_"
      ]
    },
    {
      "cell_type": "code",
      "execution_count": null,
      "metadata": {
        "id": "eunpzHN0cHg4"
      },
      "outputs": [],
      "source": [
        "lgbm_tuned = LGBMRegressor(learning_rate = 0.1, \n",
        "                           max_depth = 7, \n",
        "                           n_estimators = 40,\n",
        "                          colsample_bytree = 0.6)\n",
        "\n",
        "lgbm_tuned = lgbm_tuned.fit(X_train,y_train)"
      ]
    },
    {
      "cell_type": "code",
      "execution_count": null,
      "metadata": {
        "id": "LZ4F6lrhcHg5"
      },
      "outputs": [],
      "source": [
        "y_pred = lgbm_tuned.predict(X_test)"
      ]
    },
    {
      "cell_type": "code",
      "execution_count": null,
      "metadata": {
        "id": "CnPd3EPycHg5",
        "colab": {
          "base_uri": "https://localhost:8080/"
        },
        "outputId": "675b41e2-74c5-4dea-d3de-105188cb9e19"
      },
      "outputs": [
        {
          "output_type": "execute_result",
          "data": {
            "text/plain": [
              "370.0492876350467"
            ]
          },
          "metadata": {},
          "execution_count": 111
        }
      ],
      "source": [
        "np.sqrt(mean_squared_error(y_test, y_pred))"
      ]
    },
    {
      "cell_type": "code",
      "source": [
        "lgbm_tuned2 = LGBMRegressor(learning_rate = 0.15, \n",
        "                           max_depth = 6, \n",
        "                           n_estimators = 40,\n",
        "                          colsample_bytree = 0.6)\n",
        "\n",
        "lgbm_tuned2 = lgbm_tuned2.fit(X_train,y_train)"
      ],
      "metadata": {
        "id": "Ny5cR3RJdLKA"
      },
      "execution_count": null,
      "outputs": []
    },
    {
      "cell_type": "code",
      "execution_count": null,
      "metadata": {
        "id": "3aHyLtLOdd3Z"
      },
      "outputs": [],
      "source": [
        "y_pred2 = lgbm_tuned2.predict(X_test)"
      ]
    },
    {
      "cell_type": "code",
      "execution_count": null,
      "metadata": {
        "colab": {
          "base_uri": "https://localhost:8080/"
        },
        "outputId": "8f830ae3-d005-410f-d673-886d48804903",
        "id": "ZMhPDYRKdd3a"
      },
      "outputs": [
        {
          "output_type": "execute_result",
          "data": {
            "text/plain": [
              "367.59566573036506"
            ]
          },
          "metadata": {},
          "execution_count": 132
        }
      ],
      "source": [
        "np.sqrt(mean_squared_error(y_test, y_pred2))"
      ]
    }
  ]
}