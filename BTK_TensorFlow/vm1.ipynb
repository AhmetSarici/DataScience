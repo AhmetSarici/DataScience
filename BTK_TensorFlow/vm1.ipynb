{
 "cells": [
  {
   "cell_type": "code",
   "execution_count": 1,
   "id": "a992bd57-5b3e-4f02-b711-df899ebf8ff0",
   "metadata": {},
   "outputs": [
    {
     "name": "stdout",
     "output_type": "stream",
     "text": [
      "merhaba dünya\n"
     ]
    }
   ],
   "source": [
    "print(\"merhaba dünya\")"
   ]
  },
  {
   "cell_type": "markdown",
   "id": "c8bdd739-4516-46e7-ac8b-e3425486ee98",
   "metadata": {
    "tags": []
   },
   "source": [
    "# Numpy"
   ]
  },
  {
   "cell_type": "markdown",
   "id": "9daf9286-f75e-41e4-bf73-b6d306fc28e6",
   "metadata": {},
   "source": [
    "Numerical-Python\n",
    "\n",
    "Bilimsel Hesaplama \n",
    "\n",
    "Array/çok boyutlu arraylar\n",
    "\n",
    "Sabit Tip\n",
    "\n",
    "Listelere Benzer"
   ]
  },
  {
   "cell_type": "code",
   "execution_count": 2,
   "id": "e2ff76ba-6506-4d1d-900f-c0de16fe4d59",
   "metadata": {},
   "outputs": [
    {
     "data": {
      "text/plain": [
       "[1, 2, 3, 4]"
      ]
     },
     "execution_count": 2,
     "metadata": {},
     "output_type": "execute_result"
    }
   ],
   "source": [
    "a=[1,2,3,4]\n",
    "b=[2,3,4,5]\n",
    "a"
   ]
  },
  {
   "cell_type": "code",
   "execution_count": 3,
   "id": "cdcce756-66b0-4721-b0e5-db8c08680084",
   "metadata": {},
   "outputs": [
    {
     "data": {
      "text/plain": [
       "[2, 3, 4, 5]"
      ]
     },
     "execution_count": 3,
     "metadata": {},
     "output_type": "execute_result"
    }
   ],
   "source": [
    "b"
   ]
  },
  {
   "cell_type": "code",
   "execution_count": 4,
   "id": "362bd611-db28-4b59-86b4-86c2f7371ed7",
   "metadata": {},
   "outputs": [],
   "source": [
    "ab=[]"
   ]
  },
  {
   "cell_type": "code",
   "execution_count": 5,
   "id": "4f137209-2c72-4309-a0f3-22e6fab79bf3",
   "metadata": {},
   "outputs": [
    {
     "data": {
      "text/plain": [
       "[2, 6, 12, 20]"
      ]
     },
     "execution_count": 5,
     "metadata": {},
     "output_type": "execute_result"
    }
   ],
   "source": [
    "for i in range(0,len(a)):\n",
    "    ab.append(a[i]*b[i])\n",
    "\n",
    "ab    "
   ]
  },
  {
   "cell_type": "code",
   "execution_count": 6,
   "id": "56041c2d-890e-4393-800e-434c93139e78",
   "metadata": {},
   "outputs": [],
   "source": [
    "import numpy as np"
   ]
  },
  {
   "cell_type": "code",
   "execution_count": 7,
   "id": "8aa415ff-6fb4-4fb1-9acc-0c06d9e874dd",
   "metadata": {},
   "outputs": [
    {
     "data": {
      "text/plain": [
       "array([ 2,  6, 12, 20])"
      ]
     },
     "execution_count": 7,
     "metadata": {},
     "output_type": "execute_result"
    }
   ],
   "source": [
    "a2=np.array([1,2,3,4])\n",
    "b2=np.array([2,3,4,5])\n",
    "a2*b2"
   ]
  },
  {
   "cell_type": "markdown",
   "id": "fdd94071-1aaa-42ec-a41d-4daff2fb2335",
   "metadata": {
    "tags": []
   },
   "source": [
    "## Numpy Array'i oluşturma"
   ]
  },
  {
   "cell_type": "code",
   "execution_count": 8,
   "id": "6ed43542-c4c0-494b-a868-666a6716d121",
   "metadata": {},
   "outputs": [
    {
     "data": {
      "text/plain": [
       "array([1, 2, 3, 4, 5])"
      ]
     },
     "execution_count": 8,
     "metadata": {},
     "output_type": "execute_result"
    }
   ],
   "source": [
    "a3=np.array([1,2,3,4,5])\n",
    "a3"
   ]
  },
  {
   "cell_type": "code",
   "execution_count": 9,
   "id": "ea7839a0-72ea-47aa-9e34-678e60f4e6bb",
   "metadata": {},
   "outputs": [
    {
     "data": {
      "text/plain": [
       "numpy.ndarray"
      ]
     },
     "execution_count": 9,
     "metadata": {},
     "output_type": "execute_result"
    }
   ],
   "source": [
    "type(a3)"
   ]
  },
  {
   "cell_type": "code",
   "execution_count": 10,
   "id": "9389c291-8624-4120-8fa7-e50a471ff07a",
   "metadata": {},
   "outputs": [
    {
     "data": {
      "text/plain": [
       "array([1. , 2.5, 3. , 4. , 5. ])"
      ]
     },
     "execution_count": 10,
     "metadata": {},
     "output_type": "execute_result"
    }
   ],
   "source": [
    "a4=np.array([1,2.5,3,4,5])\n",
    "a4"
   ]
  },
  {
   "cell_type": "code",
   "execution_count": 11,
   "id": "f74206ea-1278-41f7-b468-e43bbae78e78",
   "metadata": {},
   "outputs": [
    {
     "data": {
      "text/plain": [
       "array([1, 2, 3, 4, 5])"
      ]
     },
     "execution_count": 11,
     "metadata": {},
     "output_type": "execute_result"
    }
   ],
   "source": [
    "a5=np.array([1,2.5,3,4,5], dtype=int)\n",
    "a5"
   ]
  },
  {
   "cell_type": "markdown",
   "id": "4036000e-6b86-4b46-9b3d-f329bf6fb531",
   "metadata": {
    "tags": []
   },
   "source": [
    "## Sıfırdan Array Oluşturma"
   ]
  },
  {
   "cell_type": "code",
   "execution_count": 12,
   "id": "372f75f5-a573-40ed-872c-080717cc8507",
   "metadata": {},
   "outputs": [
    {
     "data": {
      "text/plain": [
       "array([0, 0, 0, 0, 0, 0, 0, 0, 0, 0])"
      ]
     },
     "execution_count": 12,
     "metadata": {},
     "output_type": "execute_result"
    }
   ],
   "source": [
    "np.zeros(10, dtype=int)"
   ]
  },
  {
   "cell_type": "code",
   "execution_count": 13,
   "id": "a68d6721-1b5a-48f1-b393-0090de3a49d0",
   "metadata": {},
   "outputs": [
    {
     "data": {
      "text/plain": [
       "array([[1, 1, 1, 1, 1],\n",
       "       [1, 1, 1, 1, 1],\n",
       "       [1, 1, 1, 1, 1]])"
      ]
     },
     "execution_count": 13,
     "metadata": {},
     "output_type": "execute_result"
    }
   ],
   "source": [
    "np.ones((3,5),dtype=int)"
   ]
  },
  {
   "cell_type": "code",
   "execution_count": 14,
   "id": "dfe06a71-c661-4117-898e-9e84d5fed527",
   "metadata": {},
   "outputs": [
    {
     "data": {
      "text/plain": [
       "array([[6, 6, 6, 6, 6],\n",
       "       [6, 6, 6, 6, 6],\n",
       "       [6, 6, 6, 6, 6]])"
      ]
     },
     "execution_count": 14,
     "metadata": {},
     "output_type": "execute_result"
    }
   ],
   "source": [
    "np.full((3,5),6)"
   ]
  },
  {
   "cell_type": "code",
   "execution_count": 15,
   "id": "51a9aafc-a0f5-481d-b2a6-1a5654e0c3fc",
   "metadata": {},
   "outputs": [
    {
     "data": {
      "text/plain": [
       "array([ 0,  3,  6,  9, 12, 15, 18, 21, 24, 27, 30])"
      ]
     },
     "execution_count": 15,
     "metadata": {},
     "output_type": "execute_result"
    }
   ],
   "source": [
    "np.arange(0,31,3)"
   ]
  },
  {
   "cell_type": "code",
   "execution_count": 16,
   "id": "64305dc3-84ac-43f7-aede-acd89aff306d",
   "metadata": {},
   "outputs": [
    {
     "data": {
      "text/plain": [
       "array([0.        , 0.11111111, 0.22222222, 0.33333333, 0.44444444,\n",
       "       0.55555556, 0.66666667, 0.77777778, 0.88888889, 1.        ])"
      ]
     },
     "execution_count": 16,
     "metadata": {},
     "output_type": "execute_result"
    }
   ],
   "source": [
    "np.linspace(0,1,10) #0-1 arası 10 sayı üret"
   ]
  },
  {
   "cell_type": "code",
   "execution_count": 17,
   "id": "34bd8b4f-48c5-42cf-b251-a52c67a6bb24",
   "metadata": {},
   "outputs": [
    {
     "data": {
      "text/plain": [
       "array([[ 8.54044698,  9.55170209, 11.8794776 , 13.04726464],\n",
       "       [17.31192837,  7.63618055, 16.53963274, 10.24625164],\n",
       "       [ 8.21540972, 17.00141786,  8.32453105, 11.25271617]])"
      ]
     },
     "execution_count": 17,
     "metadata": {},
     "output_type": "execute_result"
    }
   ],
   "source": [
    "np.random.normal(10,4,(3,4)) #ortalaması 10\n",
    "                            #std 4"
   ]
  },
  {
   "cell_type": "code",
   "execution_count": 18,
   "id": "6312c9ee-cf6c-4d83-8291-dc8a0263cf09",
   "metadata": {},
   "outputs": [
    {
     "data": {
      "text/plain": [
       "array([[7, 8, 5],\n",
       "       [7, 5, 8],\n",
       "       [7, 9, 4]])"
      ]
     },
     "execution_count": 18,
     "metadata": {},
     "output_type": "execute_result"
    }
   ],
   "source": [
    "np.random.randint(0,10,(3,3))"
   ]
  },
  {
   "cell_type": "markdown",
   "id": "c75e5bcd-09e8-4523-a8a6-df957cc77d6d",
   "metadata": {
    "tags": []
   },
   "source": [
    "## Özellikleri\n",
    "* ndim : boyut sayısı\n",
    "* shape: boyut bilgisi\n",
    "* size : toplam eleman sayısı\n",
    "* dtype: array veri tipi"
   ]
  },
  {
   "cell_type": "code",
   "execution_count": 19,
   "id": "aaaf0727-a3a2-4231-a364-43bcc3d17e17",
   "metadata": {},
   "outputs": [
    {
     "data": {
      "text/plain": [
       "array([2, 7, 6, 4, 0, 5, 9, 4, 1, 7])"
      ]
     },
     "execution_count": 19,
     "metadata": {},
     "output_type": "execute_result"
    }
   ],
   "source": [
    "a6=np.random.randint(10, size=10)\n",
    "a6"
   ]
  },
  {
   "cell_type": "code",
   "execution_count": 20,
   "id": "cdb2ec9c-62ec-4623-91d4-e5b4a0224f28",
   "metadata": {},
   "outputs": [
    {
     "data": {
      "text/plain": [
       "array([2, 0, 8, 9, 4, 4, 1, 8, 3, 1])"
      ]
     },
     "execution_count": 20,
     "metadata": {},
     "output_type": "execute_result"
    }
   ],
   "source": [
    "a7=np.random.randint(0,10,10)\n",
    "a7"
   ]
  },
  {
   "cell_type": "code",
   "execution_count": 21,
   "id": "ed1593e7-5076-46e2-b51b-fdfbe0d5b629",
   "metadata": {},
   "outputs": [
    {
     "data": {
      "text/plain": [
       "1"
      ]
     },
     "execution_count": 21,
     "metadata": {},
     "output_type": "execute_result"
    }
   ],
   "source": [
    "a6.ndim"
   ]
  },
  {
   "cell_type": "code",
   "execution_count": 22,
   "id": "b766cf97-0785-434a-b97c-47a67e1e1327",
   "metadata": {},
   "outputs": [
    {
     "data": {
      "text/plain": [
       "(10,)"
      ]
     },
     "execution_count": 22,
     "metadata": {},
     "output_type": "execute_result"
    }
   ],
   "source": [
    "a6.shape"
   ]
  },
  {
   "cell_type": "code",
   "execution_count": 23,
   "id": "7ba6eb7c-9155-4d2a-b809-599dff9ebf06",
   "metadata": {},
   "outputs": [
    {
     "data": {
      "text/plain": [
       "10"
      ]
     },
     "execution_count": 23,
     "metadata": {},
     "output_type": "execute_result"
    }
   ],
   "source": [
    "a6.size"
   ]
  },
  {
   "cell_type": "code",
   "execution_count": 24,
   "id": "5273735f-53db-4112-b16e-f4fa16fd8386",
   "metadata": {},
   "outputs": [
    {
     "data": {
      "text/plain": [
       "dtype('int32')"
      ]
     },
     "execution_count": 24,
     "metadata": {},
     "output_type": "execute_result"
    }
   ],
   "source": [
    "a6.dtype"
   ]
  },
  {
   "cell_type": "code",
   "execution_count": 25,
   "id": "92cf8ae8-01dd-417d-aef5-8e9077e961c8",
   "metadata": {},
   "outputs": [
    {
     "data": {
      "text/plain": [
       "array([[2, 0, 9, 9, 6],\n",
       "       [7, 6, 0, 6, 0],\n",
       "       [6, 5, 2, 1, 2]])"
      ]
     },
     "execution_count": 25,
     "metadata": {},
     "output_type": "execute_result"
    }
   ],
   "source": [
    "b3= np.random.randint(10, size=(3,5))\n",
    "b3"
   ]
  },
  {
   "cell_type": "code",
   "execution_count": 26,
   "id": "8d6ce440-c536-44d8-8637-4cf606ef1760",
   "metadata": {},
   "outputs": [
    {
     "data": {
      "text/plain": [
       "2"
      ]
     },
     "execution_count": 26,
     "metadata": {},
     "output_type": "execute_result"
    }
   ],
   "source": [
    "b3.ndim"
   ]
  },
  {
   "cell_type": "code",
   "execution_count": 27,
   "id": "b1e235d5-756d-4091-94d1-5d3c79b60d27",
   "metadata": {},
   "outputs": [
    {
     "data": {
      "text/plain": [
       "(3, 5)"
      ]
     },
     "execution_count": 27,
     "metadata": {},
     "output_type": "execute_result"
    }
   ],
   "source": [
    "b3.shape"
   ]
  },
  {
   "cell_type": "code",
   "execution_count": 28,
   "id": "9e6ec21d-45e1-4e1d-8700-7b5ce98df2f4",
   "metadata": {},
   "outputs": [
    {
     "data": {
      "text/plain": [
       "15"
      ]
     },
     "execution_count": 28,
     "metadata": {},
     "output_type": "execute_result"
    }
   ],
   "source": [
    "b3.size"
   ]
  },
  {
   "cell_type": "code",
   "execution_count": 29,
   "id": "c02e14b0-9d18-495e-9314-58325f12081c",
   "metadata": {},
   "outputs": [
    {
     "data": {
      "text/plain": [
       "dtype('int32')"
      ]
     },
     "execution_count": 29,
     "metadata": {},
     "output_type": "execute_result"
    }
   ],
   "source": [
    "b3.dtype"
   ]
  },
  {
   "cell_type": "markdown",
   "id": "338b612b-2825-452d-8c01-6d648cd91db0",
   "metadata": {
    "tags": []
   },
   "source": [
    "## Yeniden Boyutlandırma (Reshape)"
   ]
  },
  {
   "cell_type": "code",
   "execution_count": 30,
   "id": "449838f6-53b6-40e4-84da-e32c3787f125",
   "metadata": {},
   "outputs": [],
   "source": [
    "import numpy as np"
   ]
  },
  {
   "cell_type": "code",
   "execution_count": 31,
   "id": "174e3aff-1b17-4664-9018-05c794ae0ea6",
   "metadata": {},
   "outputs": [
    {
     "data": {
      "text/plain": [
       "array([1, 2, 3, 4, 5, 6, 7, 8, 9])"
      ]
     },
     "execution_count": 31,
     "metadata": {},
     "output_type": "execute_result"
    }
   ],
   "source": [
    "b4=np.arange(1,10)\n",
    "b4"
   ]
  },
  {
   "cell_type": "code",
   "execution_count": 32,
   "id": "9075f267-c965-4e7d-874a-dfb590c898b5",
   "metadata": {},
   "outputs": [
    {
     "data": {
      "text/plain": [
       "array([[1, 2, 3],\n",
       "       [4, 5, 6],\n",
       "       [7, 8, 9]])"
      ]
     },
     "execution_count": 32,
     "metadata": {},
     "output_type": "execute_result"
    }
   ],
   "source": [
    "np.arange(1,10).reshape((3,3))"
   ]
  },
  {
   "cell_type": "code",
   "execution_count": 33,
   "id": "e8451d57-ae4e-44f7-aaef-0212fa8dd0b6",
   "metadata": {},
   "outputs": [
    {
     "data": {
      "text/plain": [
       "array([[1, 2, 3, 4, 5, 6, 7, 8, 9]])"
      ]
     },
     "execution_count": 33,
     "metadata": {},
     "output_type": "execute_result"
    }
   ],
   "source": [
    "b5=b4.reshape((1,9))\n",
    "b5"
   ]
  },
  {
   "cell_type": "code",
   "execution_count": 34,
   "id": "34acea00-0f08-48fd-9e8d-426667bec8fa",
   "metadata": {},
   "outputs": [
    {
     "data": {
      "text/plain": [
       "1"
      ]
     },
     "execution_count": 34,
     "metadata": {},
     "output_type": "execute_result"
    }
   ],
   "source": [
    "b4.ndim"
   ]
  },
  {
   "cell_type": "code",
   "execution_count": 35,
   "id": "d0f4b279-3e99-42ec-b393-b5af9de48c31",
   "metadata": {},
   "outputs": [
    {
     "data": {
      "text/plain": [
       "2"
      ]
     },
     "execution_count": 35,
     "metadata": {},
     "output_type": "execute_result"
    }
   ],
   "source": [
    "b5.ndim"
   ]
  },
  {
   "cell_type": "markdown",
   "id": "4d916132-12c9-4ade-8bbd-544758dcf5d5",
   "metadata": {},
   "source": [
    "## Concat"
   ]
  },
  {
   "cell_type": "code",
   "execution_count": 36,
   "id": "88e9fa1e-e4c7-44e7-999a-d04d06f799e4",
   "metadata": {},
   "outputs": [
    {
     "data": {
      "text/plain": [
       "array([1, 2, 3, 4, 5, 6])"
      ]
     },
     "execution_count": 36,
     "metadata": {},
     "output_type": "execute_result"
    }
   ],
   "source": [
    "x1=np.array([1,2,3])\n",
    "y1=np.array([4,5,6])\n",
    "c=np.concatenate([x1,y1])\n",
    "c"
   ]
  },
  {
   "cell_type": "code",
   "execution_count": 37,
   "id": "67e76b69-c6d9-4824-9b13-f6191db385d4",
   "metadata": {},
   "outputs": [
    {
     "data": {
      "text/plain": [
       "array([1, 2, 3, 4, 5, 6, 7, 8, 9])"
      ]
     },
     "execution_count": 37,
     "metadata": {},
     "output_type": "execute_result"
    }
   ],
   "source": [
    "z1=np.array([7,8,9])\n",
    "np.concatenate([x1,y1,z1])"
   ]
  },
  {
   "cell_type": "code",
   "execution_count": 38,
   "id": "bb293e6c-b02d-494a-8353-87a491df94d3",
   "metadata": {},
   "outputs": [
    {
     "data": {
      "text/plain": [
       "array([1, 2, 3, 4, 5, 6, 1, 2, 3, 4, 5, 6])"
      ]
     },
     "execution_count": 38,
     "metadata": {},
     "output_type": "execute_result"
    }
   ],
   "source": [
    "np.concatenate([c,c])"
   ]
  },
  {
   "cell_type": "code",
   "execution_count": 39,
   "id": "88a5eb6f-8955-4d68-ba42-733fe51be9bc",
   "metadata": {},
   "outputs": [
    {
     "data": {
      "text/plain": [
       "array([[1, 2, 3],\n",
       "       [4, 5, 6],\n",
       "       [1, 2, 3],\n",
       "       [4, 5, 6]])"
      ]
     },
     "execution_count": 39,
     "metadata": {},
     "output_type": "execute_result"
    }
   ],
   "source": [
    "x2=np.array([[1,2,3],[4,5,6]])\n",
    "c2=np.concatenate([x2,x2], axis=0)\n",
    "c2"
   ]
  },
  {
   "cell_type": "code",
   "execution_count": 40,
   "id": "53214a57-7200-4351-bd00-eb03025c34f8",
   "metadata": {},
   "outputs": [
    {
     "data": {
      "text/plain": [
       "array([[1, 2, 3, 1, 2, 3],\n",
       "       [4, 5, 6, 4, 5, 6]])"
      ]
     },
     "execution_count": 40,
     "metadata": {},
     "output_type": "execute_result"
    }
   ],
   "source": [
    "x3=np.array([[1,2,3],[4,5,6]])\n",
    "c3=np.concatenate([x3,x3], axis=1)\n",
    "c3"
   ]
  },
  {
   "cell_type": "markdown",
   "id": "0abf6dae-9d51-46fb-bb2c-4ad1eaa013a0",
   "metadata": {},
   "source": [
    "## Array Ayırma (Split)"
   ]
  },
  {
   "cell_type": "code",
   "execution_count": 41,
   "id": "ecd708d7-2672-480c-99d6-4d3fe66b219d",
   "metadata": {},
   "outputs": [
    {
     "data": {
      "text/plain": [
       "array([ 1,  2,  3, 99, 99,  3,  2,  1])"
      ]
     },
     "execution_count": 41,
     "metadata": {},
     "output_type": "execute_result"
    }
   ],
   "source": [
    "f=np.array([1,2,3,99,99,3,2,1])\n",
    "f"
   ]
  },
  {
   "cell_type": "code",
   "execution_count": 42,
   "id": "c602d03b-7dd5-4f7b-b9fe-41e6e1868de3",
   "metadata": {},
   "outputs": [
    {
     "data": {
      "text/plain": [
       "[array([1, 2, 3]), array([99, 99]), array([3, 2, 1])]"
      ]
     },
     "execution_count": 42,
     "metadata": {},
     "output_type": "execute_result"
    }
   ],
   "source": [
    "np.split(f,[3,5]) #ilk 3'ü bir, gerisi 5'e kadar"
   ]
  },
  {
   "cell_type": "code",
   "execution_count": 43,
   "id": "deda9783-f372-4852-9bdc-f856870f8bd8",
   "metadata": {},
   "outputs": [
    {
     "data": {
      "text/plain": [
       "array([99, 99])"
      ]
     },
     "execution_count": 43,
     "metadata": {},
     "output_type": "execute_result"
    }
   ],
   "source": [
    "f1,f2,f3 =np.split(f,[3,5]) #ilk 3'ü bir, gerisi 5'e kadar\n",
    "f2"
   ]
  },
  {
   "cell_type": "code",
   "execution_count": 44,
   "id": "5243c348-c293-43c6-8411-dde757e01601",
   "metadata": {},
   "outputs": [
    {
     "data": {
      "text/plain": [
       "array([[ 0,  1,  2,  3],\n",
       "       [ 4,  5,  6,  7],\n",
       "       [ 8,  9, 10, 11],\n",
       "       [12, 13, 14, 15]])"
      ]
     },
     "execution_count": 44,
     "metadata": {},
     "output_type": "execute_result"
    }
   ],
   "source": [
    "#iki boyutlu ayırma\n",
    "\n",
    "m=np.arange(16).reshape(4,4)\n",
    "m"
   ]
  },
  {
   "cell_type": "code",
   "execution_count": 45,
   "id": "09702a6c-6f57-4e19-bc89-c8856cb8e32a",
   "metadata": {},
   "outputs": [
    {
     "data": {
      "text/plain": [
       "[array([[0, 1, 2, 3],\n",
       "        [4, 5, 6, 7]]),\n",
       " array([[ 8,  9, 10, 11],\n",
       "        [12, 13, 14, 15]])]"
      ]
     },
     "execution_count": 45,
     "metadata": {},
     "output_type": "execute_result"
    }
   ],
   "source": [
    "np.vsplit(m,[2]) #2'ye kadar, 2. satıra"
   ]
  },
  {
   "cell_type": "code",
   "execution_count": 46,
   "id": "2df28151-7035-48e4-8e81-7cc7b3a89e63",
   "metadata": {},
   "outputs": [
    {
     "data": {
      "text/plain": [
       "[array([[ 0,  1],\n",
       "        [ 4,  5],\n",
       "        [ 8,  9],\n",
       "        [12, 13]]),\n",
       " array([[ 2,  3],\n",
       "        [ 6,  7],\n",
       "        [10, 11],\n",
       "        [14, 15]])]"
      ]
     },
     "execution_count": 46,
     "metadata": {},
     "output_type": "execute_result"
    }
   ],
   "source": [
    "np.hsplit(m,[2]) #2'ye kadar, 2. satıra"
   ]
  },
  {
   "cell_type": "markdown",
   "id": "990cdba2-2fcd-45c4-8537-fbcaa998c80c",
   "metadata": {},
   "source": [
    "## Array Sıralama (Sorting)"
   ]
  },
  {
   "cell_type": "code",
   "execution_count": 47,
   "id": "68c863fb-f62f-4bba-afb9-e832240c26a8",
   "metadata": {},
   "outputs": [
    {
     "data": {
      "text/plain": [
       "array([2, 1, 4, 3, 5])"
      ]
     },
     "execution_count": 47,
     "metadata": {},
     "output_type": "execute_result"
    }
   ],
   "source": [
    "v=np.array([2,1,4,3,5])\n",
    "v"
   ]
  },
  {
   "cell_type": "code",
   "execution_count": 48,
   "id": "5e140607-c93c-4f4f-967f-9698c0efd23e",
   "metadata": {},
   "outputs": [
    {
     "data": {
      "text/plain": [
       "array([1, 2, 3, 4, 5])"
      ]
     },
     "execution_count": 48,
     "metadata": {},
     "output_type": "execute_result"
    }
   ],
   "source": [
    "np.sort(v)"
   ]
  },
  {
   "cell_type": "code",
   "execution_count": 49,
   "id": "87650282-d4eb-4389-a977-2d5ee7da5478",
   "metadata": {},
   "outputs": [
    {
     "data": {
      "text/plain": [
       "array([2, 1, 4, 3, 5])"
      ]
     },
     "execution_count": 49,
     "metadata": {},
     "output_type": "execute_result"
    }
   ],
   "source": [
    "v"
   ]
  },
  {
   "cell_type": "code",
   "execution_count": 50,
   "id": "3a3aaace-c772-4bfe-b8e5-847972845117",
   "metadata": {},
   "outputs": [
    {
     "data": {
      "text/plain": [
       "array([ 5, 10, 15])"
      ]
     },
     "execution_count": 50,
     "metadata": {},
     "output_type": "execute_result"
    }
   ],
   "source": [
    "5*np.array([1, 2,3])"
   ]
  },
  {
   "cell_type": "code",
   "execution_count": null,
   "id": "f2140938-bb11-466c-bc1c-01f9b6fafdfb",
   "metadata": {},
   "outputs": [],
   "source": []
  }
 ],
 "metadata": {
  "kernelspec": {
   "display_name": "Python 3 (ipykernel)",
   "language": "python",
   "name": "python3"
  },
  "language_info": {
   "codemirror_mode": {
    "name": "ipython",
    "version": 3
   },
   "file_extension": ".py",
   "mimetype": "text/x-python",
   "name": "python",
   "nbconvert_exporter": "python",
   "pygments_lexer": "ipython3",
   "version": "3.9.7"
  }
 },
 "nbformat": 4,
 "nbformat_minor": 5
}
