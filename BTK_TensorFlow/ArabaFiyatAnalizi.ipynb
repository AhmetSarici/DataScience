{
  "nbformat": 4,
  "nbformat_minor": 0,
  "metadata": {
    "colab": {
      "name": "ArabaFiyatAnalizi.ipynb",
      "provenance": [],
      "collapsed_sections": [],
      "authorship_tag": "ABX9TyPeodZuxqpYOXTVqTQXEe8Q",
      "include_colab_link": true
    },
    "kernelspec": {
      "name": "python3",
      "display_name": "Python 3"
    },
    "language_info": {
      "name": "python"
    }
  },
  "cells": [
    {
      "cell_type": "markdown",
      "metadata": {
        "id": "view-in-github",
        "colab_type": "text"
      },
      "source": [
        "<a href=\"https://colab.research.google.com/github/AhmetSarici/DataScience/blob/main/BTK_TensorFlow/ArabaFiyatAnalizi.ipynb\" target=\"_parent\"><img src=\"https://colab.research.google.com/assets/colab-badge.svg\" alt=\"Open In Colab\"/></a>"
      ]
    },
    {
      "cell_type": "code",
      "execution_count": null,
      "metadata": {
        "id": "zgCD_e2h_I1C"
      },
      "outputs": [],
      "source": [
        "import pandas as pd\n",
        "import numpy as np\n",
        "import matplotlib.pyplot as plt\n",
        "import seaborn as sns"
      ]
    },
    {
      "cell_type": "code",
      "source": [
        "data = pd.read_excel(\"merc.xlsx\")\n",
        "data.head()"
      ],
      "metadata": {
        "colab": {
          "base_uri": "https://localhost:8080/",
          "height": 206
        },
        "id": "tOvcPZUnAVVO",
        "outputId": "a5acad95-6c0e-479d-f8cb-88e266321fa6"
      },
      "execution_count": null,
      "outputs": [
        {
          "output_type": "execute_result",
          "data": {
            "text/html": [
              "\n",
              "  <div id=\"df-bbd34b63-c75a-4ee0-bbba-ac418feefbc4\">\n",
              "    <div class=\"colab-df-container\">\n",
              "      <div>\n",
              "<style scoped>\n",
              "    .dataframe tbody tr th:only-of-type {\n",
              "        vertical-align: middle;\n",
              "    }\n",
              "\n",
              "    .dataframe tbody tr th {\n",
              "        vertical-align: top;\n",
              "    }\n",
              "\n",
              "    .dataframe thead th {\n",
              "        text-align: right;\n",
              "    }\n",
              "</style>\n",
              "<table border=\"1\" class=\"dataframe\">\n",
              "  <thead>\n",
              "    <tr style=\"text-align: right;\">\n",
              "      <th></th>\n",
              "      <th>year</th>\n",
              "      <th>price</th>\n",
              "      <th>transmission</th>\n",
              "      <th>mileage</th>\n",
              "      <th>tax</th>\n",
              "      <th>mpg</th>\n",
              "      <th>engineSize</th>\n",
              "    </tr>\n",
              "  </thead>\n",
              "  <tbody>\n",
              "    <tr>\n",
              "      <th>0</th>\n",
              "      <td>2005</td>\n",
              "      <td>5200</td>\n",
              "      <td>Automatic</td>\n",
              "      <td>63000</td>\n",
              "      <td>325</td>\n",
              "      <td>32.1</td>\n",
              "      <td>1.8</td>\n",
              "    </tr>\n",
              "    <tr>\n",
              "      <th>1</th>\n",
              "      <td>2017</td>\n",
              "      <td>34948</td>\n",
              "      <td>Automatic</td>\n",
              "      <td>27000</td>\n",
              "      <td>20</td>\n",
              "      <td>61.4</td>\n",
              "      <td>2.1</td>\n",
              "    </tr>\n",
              "    <tr>\n",
              "      <th>2</th>\n",
              "      <td>2016</td>\n",
              "      <td>49948</td>\n",
              "      <td>Automatic</td>\n",
              "      <td>6200</td>\n",
              "      <td>555</td>\n",
              "      <td>28.0</td>\n",
              "      <td>5.5</td>\n",
              "    </tr>\n",
              "    <tr>\n",
              "      <th>3</th>\n",
              "      <td>2016</td>\n",
              "      <td>61948</td>\n",
              "      <td>Automatic</td>\n",
              "      <td>16000</td>\n",
              "      <td>325</td>\n",
              "      <td>30.4</td>\n",
              "      <td>4.0</td>\n",
              "    </tr>\n",
              "    <tr>\n",
              "      <th>4</th>\n",
              "      <td>2016</td>\n",
              "      <td>73948</td>\n",
              "      <td>Automatic</td>\n",
              "      <td>4000</td>\n",
              "      <td>325</td>\n",
              "      <td>30.1</td>\n",
              "      <td>4.0</td>\n",
              "    </tr>\n",
              "  </tbody>\n",
              "</table>\n",
              "</div>\n",
              "      <button class=\"colab-df-convert\" onclick=\"convertToInteractive('df-bbd34b63-c75a-4ee0-bbba-ac418feefbc4')\"\n",
              "              title=\"Convert this dataframe to an interactive table.\"\n",
              "              style=\"display:none;\">\n",
              "        \n",
              "  <svg xmlns=\"http://www.w3.org/2000/svg\" height=\"24px\"viewBox=\"0 0 24 24\"\n",
              "       width=\"24px\">\n",
              "    <path d=\"M0 0h24v24H0V0z\" fill=\"none\"/>\n",
              "    <path d=\"M18.56 5.44l.94 2.06.94-2.06 2.06-.94-2.06-.94-.94-2.06-.94 2.06-2.06.94zm-11 1L8.5 8.5l.94-2.06 2.06-.94-2.06-.94L8.5 2.5l-.94 2.06-2.06.94zm10 10l.94 2.06.94-2.06 2.06-.94-2.06-.94-.94-2.06-.94 2.06-2.06.94z\"/><path d=\"M17.41 7.96l-1.37-1.37c-.4-.4-.92-.59-1.43-.59-.52 0-1.04.2-1.43.59L10.3 9.45l-7.72 7.72c-.78.78-.78 2.05 0 2.83L4 21.41c.39.39.9.59 1.41.59.51 0 1.02-.2 1.41-.59l7.78-7.78 2.81-2.81c.8-.78.8-2.07 0-2.86zM5.41 20L4 18.59l7.72-7.72 1.47 1.35L5.41 20z\"/>\n",
              "  </svg>\n",
              "      </button>\n",
              "      \n",
              "  <style>\n",
              "    .colab-df-container {\n",
              "      display:flex;\n",
              "      flex-wrap:wrap;\n",
              "      gap: 12px;\n",
              "    }\n",
              "\n",
              "    .colab-df-convert {\n",
              "      background-color: #E8F0FE;\n",
              "      border: none;\n",
              "      border-radius: 50%;\n",
              "      cursor: pointer;\n",
              "      display: none;\n",
              "      fill: #1967D2;\n",
              "      height: 32px;\n",
              "      padding: 0 0 0 0;\n",
              "      width: 32px;\n",
              "    }\n",
              "\n",
              "    .colab-df-convert:hover {\n",
              "      background-color: #E2EBFA;\n",
              "      box-shadow: 0px 1px 2px rgba(60, 64, 67, 0.3), 0px 1px 3px 1px rgba(60, 64, 67, 0.15);\n",
              "      fill: #174EA6;\n",
              "    }\n",
              "\n",
              "    [theme=dark] .colab-df-convert {\n",
              "      background-color: #3B4455;\n",
              "      fill: #D2E3FC;\n",
              "    }\n",
              "\n",
              "    [theme=dark] .colab-df-convert:hover {\n",
              "      background-color: #434B5C;\n",
              "      box-shadow: 0px 1px 3px 1px rgba(0, 0, 0, 0.15);\n",
              "      filter: drop-shadow(0px 1px 2px rgba(0, 0, 0, 0.3));\n",
              "      fill: #FFFFFF;\n",
              "    }\n",
              "  </style>\n",
              "\n",
              "      <script>\n",
              "        const buttonEl =\n",
              "          document.querySelector('#df-bbd34b63-c75a-4ee0-bbba-ac418feefbc4 button.colab-df-convert');\n",
              "        buttonEl.style.display =\n",
              "          google.colab.kernel.accessAllowed ? 'block' : 'none';\n",
              "\n",
              "        async function convertToInteractive(key) {\n",
              "          const element = document.querySelector('#df-bbd34b63-c75a-4ee0-bbba-ac418feefbc4');\n",
              "          const dataTable =\n",
              "            await google.colab.kernel.invokeFunction('convertToInteractive',\n",
              "                                                     [key], {});\n",
              "          if (!dataTable) return;\n",
              "\n",
              "          const docLinkHtml = 'Like what you see? Visit the ' +\n",
              "            '<a target=\"_blank\" href=https://colab.research.google.com/notebooks/data_table.ipynb>data table notebook</a>'\n",
              "            + ' to learn more about interactive tables.';\n",
              "          element.innerHTML = '';\n",
              "          dataTable['output_type'] = 'display_data';\n",
              "          await google.colab.output.renderOutput(dataTable, element);\n",
              "          const docLink = document.createElement('div');\n",
              "          docLink.innerHTML = docLinkHtml;\n",
              "          element.appendChild(docLink);\n",
              "        }\n",
              "      </script>\n",
              "    </div>\n",
              "  </div>\n",
              "  "
            ],
            "text/plain": [
              "   year  price transmission  mileage  tax   mpg  engineSize\n",
              "0  2005   5200    Automatic    63000  325  32.1         1.8\n",
              "1  2017  34948    Automatic    27000   20  61.4         2.1\n",
              "2  2016  49948    Automatic     6200  555  28.0         5.5\n",
              "3  2016  61948    Automatic    16000  325  30.4         4.0\n",
              "4  2016  73948    Automatic     4000  325  30.1         4.0"
            ]
          },
          "metadata": {},
          "execution_count": 4
        }
      ]
    },
    {
      "cell_type": "code",
      "source": [
        "data.describe()"
      ],
      "metadata": {
        "colab": {
          "base_uri": "https://localhost:8080/",
          "height": 300
        },
        "id": "3WFAUmc7AXHf",
        "outputId": "6ad0d51f-695a-4cce-965c-8865a2136129"
      },
      "execution_count": null,
      "outputs": [
        {
          "output_type": "execute_result",
          "data": {
            "text/html": [
              "\n",
              "  <div id=\"df-d7303bf9-317c-470c-8277-c70f328c5dfc\">\n",
              "    <div class=\"colab-df-container\">\n",
              "      <div>\n",
              "<style scoped>\n",
              "    .dataframe tbody tr th:only-of-type {\n",
              "        vertical-align: middle;\n",
              "    }\n",
              "\n",
              "    .dataframe tbody tr th {\n",
              "        vertical-align: top;\n",
              "    }\n",
              "\n",
              "    .dataframe thead th {\n",
              "        text-align: right;\n",
              "    }\n",
              "</style>\n",
              "<table border=\"1\" class=\"dataframe\">\n",
              "  <thead>\n",
              "    <tr style=\"text-align: right;\">\n",
              "      <th></th>\n",
              "      <th>year</th>\n",
              "      <th>price</th>\n",
              "      <th>mileage</th>\n",
              "      <th>tax</th>\n",
              "      <th>mpg</th>\n",
              "      <th>engineSize</th>\n",
              "    </tr>\n",
              "  </thead>\n",
              "  <tbody>\n",
              "    <tr>\n",
              "      <th>count</th>\n",
              "      <td>13119.000000</td>\n",
              "      <td>13119.000000</td>\n",
              "      <td>13119.000000</td>\n",
              "      <td>13119.000000</td>\n",
              "      <td>13119.000000</td>\n",
              "      <td>13119.000000</td>\n",
              "    </tr>\n",
              "    <tr>\n",
              "      <th>mean</th>\n",
              "      <td>2017.296288</td>\n",
              "      <td>24698.596920</td>\n",
              "      <td>21949.559037</td>\n",
              "      <td>129.972178</td>\n",
              "      <td>55.155843</td>\n",
              "      <td>2.071530</td>\n",
              "    </tr>\n",
              "    <tr>\n",
              "      <th>std</th>\n",
              "      <td>2.224709</td>\n",
              "      <td>11842.675542</td>\n",
              "      <td>21176.512267</td>\n",
              "      <td>65.260286</td>\n",
              "      <td>15.220082</td>\n",
              "      <td>0.572426</td>\n",
              "    </tr>\n",
              "    <tr>\n",
              "      <th>min</th>\n",
              "      <td>1970.000000</td>\n",
              "      <td>650.000000</td>\n",
              "      <td>1.000000</td>\n",
              "      <td>0.000000</td>\n",
              "      <td>1.100000</td>\n",
              "      <td>0.000000</td>\n",
              "    </tr>\n",
              "    <tr>\n",
              "      <th>25%</th>\n",
              "      <td>2016.000000</td>\n",
              "      <td>17450.000000</td>\n",
              "      <td>6097.500000</td>\n",
              "      <td>125.000000</td>\n",
              "      <td>45.600000</td>\n",
              "      <td>1.800000</td>\n",
              "    </tr>\n",
              "    <tr>\n",
              "      <th>50%</th>\n",
              "      <td>2018.000000</td>\n",
              "      <td>22480.000000</td>\n",
              "      <td>15189.000000</td>\n",
              "      <td>145.000000</td>\n",
              "      <td>56.500000</td>\n",
              "      <td>2.000000</td>\n",
              "    </tr>\n",
              "    <tr>\n",
              "      <th>75%</th>\n",
              "      <td>2019.000000</td>\n",
              "      <td>28980.000000</td>\n",
              "      <td>31779.500000</td>\n",
              "      <td>145.000000</td>\n",
              "      <td>64.200000</td>\n",
              "      <td>2.100000</td>\n",
              "    </tr>\n",
              "    <tr>\n",
              "      <th>max</th>\n",
              "      <td>2020.000000</td>\n",
              "      <td>159999.000000</td>\n",
              "      <td>259000.000000</td>\n",
              "      <td>580.000000</td>\n",
              "      <td>217.300000</td>\n",
              "      <td>6.200000</td>\n",
              "    </tr>\n",
              "  </tbody>\n",
              "</table>\n",
              "</div>\n",
              "      <button class=\"colab-df-convert\" onclick=\"convertToInteractive('df-d7303bf9-317c-470c-8277-c70f328c5dfc')\"\n",
              "              title=\"Convert this dataframe to an interactive table.\"\n",
              "              style=\"display:none;\">\n",
              "        \n",
              "  <svg xmlns=\"http://www.w3.org/2000/svg\" height=\"24px\"viewBox=\"0 0 24 24\"\n",
              "       width=\"24px\">\n",
              "    <path d=\"M0 0h24v24H0V0z\" fill=\"none\"/>\n",
              "    <path d=\"M18.56 5.44l.94 2.06.94-2.06 2.06-.94-2.06-.94-.94-2.06-.94 2.06-2.06.94zm-11 1L8.5 8.5l.94-2.06 2.06-.94-2.06-.94L8.5 2.5l-.94 2.06-2.06.94zm10 10l.94 2.06.94-2.06 2.06-.94-2.06-.94-.94-2.06-.94 2.06-2.06.94z\"/><path d=\"M17.41 7.96l-1.37-1.37c-.4-.4-.92-.59-1.43-.59-.52 0-1.04.2-1.43.59L10.3 9.45l-7.72 7.72c-.78.78-.78 2.05 0 2.83L4 21.41c.39.39.9.59 1.41.59.51 0 1.02-.2 1.41-.59l7.78-7.78 2.81-2.81c.8-.78.8-2.07 0-2.86zM5.41 20L4 18.59l7.72-7.72 1.47 1.35L5.41 20z\"/>\n",
              "  </svg>\n",
              "      </button>\n",
              "      \n",
              "  <style>\n",
              "    .colab-df-container {\n",
              "      display:flex;\n",
              "      flex-wrap:wrap;\n",
              "      gap: 12px;\n",
              "    }\n",
              "\n",
              "    .colab-df-convert {\n",
              "      background-color: #E8F0FE;\n",
              "      border: none;\n",
              "      border-radius: 50%;\n",
              "      cursor: pointer;\n",
              "      display: none;\n",
              "      fill: #1967D2;\n",
              "      height: 32px;\n",
              "      padding: 0 0 0 0;\n",
              "      width: 32px;\n",
              "    }\n",
              "\n",
              "    .colab-df-convert:hover {\n",
              "      background-color: #E2EBFA;\n",
              "      box-shadow: 0px 1px 2px rgba(60, 64, 67, 0.3), 0px 1px 3px 1px rgba(60, 64, 67, 0.15);\n",
              "      fill: #174EA6;\n",
              "    }\n",
              "\n",
              "    [theme=dark] .colab-df-convert {\n",
              "      background-color: #3B4455;\n",
              "      fill: #D2E3FC;\n",
              "    }\n",
              "\n",
              "    [theme=dark] .colab-df-convert:hover {\n",
              "      background-color: #434B5C;\n",
              "      box-shadow: 0px 1px 3px 1px rgba(0, 0, 0, 0.15);\n",
              "      filter: drop-shadow(0px 1px 2px rgba(0, 0, 0, 0.3));\n",
              "      fill: #FFFFFF;\n",
              "    }\n",
              "  </style>\n",
              "\n",
              "      <script>\n",
              "        const buttonEl =\n",
              "          document.querySelector('#df-d7303bf9-317c-470c-8277-c70f328c5dfc button.colab-df-convert');\n",
              "        buttonEl.style.display =\n",
              "          google.colab.kernel.accessAllowed ? 'block' : 'none';\n",
              "\n",
              "        async function convertToInteractive(key) {\n",
              "          const element = document.querySelector('#df-d7303bf9-317c-470c-8277-c70f328c5dfc');\n",
              "          const dataTable =\n",
              "            await google.colab.kernel.invokeFunction('convertToInteractive',\n",
              "                                                     [key], {});\n",
              "          if (!dataTable) return;\n",
              "\n",
              "          const docLinkHtml = 'Like what you see? Visit the ' +\n",
              "            '<a target=\"_blank\" href=https://colab.research.google.com/notebooks/data_table.ipynb>data table notebook</a>'\n",
              "            + ' to learn more about interactive tables.';\n",
              "          element.innerHTML = '';\n",
              "          dataTable['output_type'] = 'display_data';\n",
              "          await google.colab.output.renderOutput(dataTable, element);\n",
              "          const docLink = document.createElement('div');\n",
              "          docLink.innerHTML = docLinkHtml;\n",
              "          element.appendChild(docLink);\n",
              "        }\n",
              "      </script>\n",
              "    </div>\n",
              "  </div>\n",
              "  "
            ],
            "text/plain": [
              "               year          price  ...           mpg    engineSize\n",
              "count  13119.000000   13119.000000  ...  13119.000000  13119.000000\n",
              "mean    2017.296288   24698.596920  ...     55.155843      2.071530\n",
              "std        2.224709   11842.675542  ...     15.220082      0.572426\n",
              "min     1970.000000     650.000000  ...      1.100000      0.000000\n",
              "25%     2016.000000   17450.000000  ...     45.600000      1.800000\n",
              "50%     2018.000000   22480.000000  ...     56.500000      2.000000\n",
              "75%     2019.000000   28980.000000  ...     64.200000      2.100000\n",
              "max     2020.000000  159999.000000  ...    217.300000      6.200000\n",
              "\n",
              "[8 rows x 6 columns]"
            ]
          },
          "metadata": {},
          "execution_count": 5
        }
      ]
    },
    {
      "cell_type": "code",
      "source": [
        "#null bir veri var mı? Kaç adet?\n",
        "data.isnull().sum()"
      ],
      "metadata": {
        "colab": {
          "base_uri": "https://localhost:8080/"
        },
        "id": "oF40GvFvBTuP",
        "outputId": "d522c5a6-fe7c-4611-b210-012a65b3b209"
      },
      "execution_count": null,
      "outputs": [
        {
          "output_type": "execute_result",
          "data": {
            "text/plain": [
              "year            0\n",
              "price           0\n",
              "transmission    0\n",
              "mileage         0\n",
              "tax             0\n",
              "mpg             0\n",
              "engineSize      0\n",
              "dtype: int64"
            ]
          },
          "metadata": {},
          "execution_count": 9
        }
      ]
    },
    {
      "cell_type": "code",
      "source": [
        "plt.figure(figsize=(7,5))\n",
        "sns.distplot(data[\"price\"]);"
      ],
      "metadata": {
        "colab": {
          "base_uri": "https://localhost:8080/",
          "height": 402
        },
        "id": "F5ymj1jvBCUC",
        "outputId": "fa71b0c6-bd56-42aa-eabf-318aca6393d9"
      },
      "execution_count": null,
      "outputs": [
        {
          "output_type": "stream",
          "name": "stderr",
          "text": [
            "/usr/local/lib/python3.7/dist-packages/seaborn/distributions.py:2619: FutureWarning: `distplot` is a deprecated function and will be removed in a future version. Please adapt your code to use either `displot` (a figure-level function with similar flexibility) or `histplot` (an axes-level function for histograms).\n",
            "  warnings.warn(msg, FutureWarning)\n"
          ]
        },
        {
          "output_type": "display_data",
          "data": {
            "image/png": "[encoded data removed]",
            "text/plain": [
              "<Figure size 504x360 with 1 Axes>"
            ]
          },
          "metadata": {
            "needs_background": "light"
          }
        }
      ]
    },
    {
      "cell_type": "code",
      "source": [
        "#Hangi yılda ne kadar veri var?\n",
        "sns.countplot(data[\"year\"]);"
      ],
      "metadata": {
        "colab": {
          "base_uri": "https://localhost:8080/",
          "height": 335
        },
        "id": "501SQHZ6Bzw3",
        "outputId": "4bf3b591-d904-4336-fc28-389897659071"
      },
      "execution_count": null,
      "outputs": [
        {
          "output_type": "stream",
          "name": "stderr",
          "text": [
            "/usr/local/lib/python3.7/dist-packages/seaborn/_decorators.py:43: FutureWarning: Pass the following variable as a keyword arg: x. From version 0.12, the only valid positional argument will be `data`, and passing other arguments without an explicit keyword will result in an error or misinterpretation.\n",
            "  FutureWarning\n"
          ]
        },
        {
          "output_type": "display_data",
          "data": {
            "image/png": "[encoded data removed]",
            "text/plain": [
              "<Figure size 432x288 with 1 Axes>"
            ]
          },
          "metadata": {
            "needs_background": "light"
          }
        }
      ]
    },
    {
      "cell_type": "code",
      "source": [
        "data.corr()"
      ],
      "metadata": {
        "colab": {
          "base_uri": "https://localhost:8080/",
          "height": 237
        },
        "id": "UFqPB0q7Alnm",
        "outputId": "5c802763-314c-436d-eb80-04cbee18d0cc"
      },
      "execution_count": null,
      "outputs": [
        {
          "output_type": "execute_result",
          "data": {
            "text/html": [
              "\n",
              "  <div id=\"df-e406dd29-46ab-408b-8abd-589b6260f9e4\">\n",
              "    <div class=\"colab-df-container\">\n",
              "      <div>\n",
              "<style scoped>\n",
              "    .dataframe tbody tr th:only-of-type {\n",
              "        vertical-align: middle;\n",
              "    }\n",
              "\n",
              "    .dataframe tbody tr th {\n",
              "        vertical-align: top;\n",
              "    }\n",
              "\n",
              "    .dataframe thead th {\n",
              "        text-align: right;\n",
              "    }\n",
              "</style>\n",
              "<table border=\"1\" class=\"dataframe\">\n",
              "  <thead>\n",
              "    <tr style=\"text-align: right;\">\n",
              "      <th></th>\n",
              "      <th>year</th>\n",
              "      <th>price</th>\n",
              "      <th>mileage</th>\n",
              "      <th>tax</th>\n",
              "      <th>mpg</th>\n",
              "      <th>engineSize</th>\n",
              "    </tr>\n",
              "  </thead>\n",
              "  <tbody>\n",
              "    <tr>\n",
              "      <th>year</th>\n",
              "      <td>1.000000</td>\n",
              "      <td>0.520712</td>\n",
              "      <td>-0.738027</td>\n",
              "      <td>0.012480</td>\n",
              "      <td>-0.094626</td>\n",
              "      <td>-0.142147</td>\n",
              "    </tr>\n",
              "    <tr>\n",
              "      <th>price</th>\n",
              "      <td>0.520712</td>\n",
              "      <td>1.000000</td>\n",
              "      <td>-0.537214</td>\n",
              "      <td>0.268717</td>\n",
              "      <td>-0.438445</td>\n",
              "      <td>0.516126</td>\n",
              "    </tr>\n",
              "    <tr>\n",
              "      <th>mileage</th>\n",
              "      <td>-0.738027</td>\n",
              "      <td>-0.537214</td>\n",
              "      <td>1.000000</td>\n",
              "      <td>-0.160223</td>\n",
              "      <td>0.202850</td>\n",
              "      <td>0.063652</td>\n",
              "    </tr>\n",
              "    <tr>\n",
              "      <th>tax</th>\n",
              "      <td>0.012480</td>\n",
              "      <td>0.268717</td>\n",
              "      <td>-0.160223</td>\n",
              "      <td>1.000000</td>\n",
              "      <td>-0.513742</td>\n",
              "      <td>0.338341</td>\n",
              "    </tr>\n",
              "    <tr>\n",
              "      <th>mpg</th>\n",
              "      <td>-0.094626</td>\n",
              "      <td>-0.438445</td>\n",
              "      <td>0.202850</td>\n",
              "      <td>-0.513742</td>\n",
              "      <td>1.000000</td>\n",
              "      <td>-0.339862</td>\n",
              "    </tr>\n",
              "    <tr>\n",
              "      <th>engineSize</th>\n",
              "      <td>-0.142147</td>\n",
              "      <td>0.516126</td>\n",
              "      <td>0.063652</td>\n",
              "      <td>0.338341</td>\n",
              "      <td>-0.339862</td>\n",
              "      <td>1.000000</td>\n",
              "    </tr>\n",
              "  </tbody>\n",
              "</table>\n",
              "</div>\n",
              "      <button class=\"colab-df-convert\" onclick=\"convertToInteractive('df-e406dd29-46ab-408b-8abd-589b6260f9e4')\"\n",
              "              title=\"Convert this dataframe to an interactive table.\"\n",
              "              style=\"display:none;\">\n",
              "        \n",
              "  <svg xmlns=\"http://www.w3.org/2000/svg\" height=\"24px\"viewBox=\"0 0 24 24\"\n",
              "       width=\"24px\">\n",
              "    <path d=\"M0 0h24v24H0V0z\" fill=\"none\"/>\n",
              "    <path d=\"M18.56 5.44l.94 2.06.94-2.06 2.06-.94-2.06-.94-.94-2.06-.94 2.06-2.06.94zm-11 1L8.5 8.5l.94-2.06 2.06-.94-2.06-.94L8.5 2.5l-.94 2.06-2.06.94zm10 10l.94 2.06.94-2.06 2.06-.94-2.06-.94-.94-2.06-.94 2.06-2.06.94z\"/><path d=\"M17.41 7.96l-1.37-1.37c-.4-.4-.92-.59-1.43-.59-.52 0-1.04.2-1.43.59L10.3 9.45l-7.72 7.72c-.78.78-.78 2.05 0 2.83L4 21.41c.39.39.9.59 1.41.59.51 0 1.02-.2 1.41-.59l7.78-7.78 2.81-2.81c.8-.78.8-2.07 0-2.86zM5.41 20L4 18.59l7.72-7.72 1.47 1.35L5.41 20z\"/>\n",
              "  </svg>\n",
              "      </button>\n",
              "      \n",
              "  <style>\n",
              "    .colab-df-container {\n",
              "      display:flex;\n",
              "      flex-wrap:wrap;\n",
              "      gap: 12px;\n",
              "    }\n",
              "\n",
              "    .colab-df-convert {\n",
              "      background-color: #E8F0FE;\n",
              "      border: none;\n",
              "      border-radius: 50%;\n",
              "      cursor: pointer;\n",
              "      display: none;\n",
              "      fill: #1967D2;\n",
              "      height: 32px;\n",
              "      padding: 0 0 0 0;\n",
              "      width: 32px;\n",
              "    }\n",
              "\n",
              "    .colab-df-convert:hover {\n",
              "      background-color: #E2EBFA;\n",
              "      box-shadow: 0px 1px 2px rgba(60, 64, 67, 0.3), 0px 1px 3px 1px rgba(60, 64, 67, 0.15);\n",
              "      fill: #174EA6;\n",
              "    }\n",
              "\n",
              "    [theme=dark] .colab-df-convert {\n",
              "      background-color: #3B4455;\n",
              "      fill: #D2E3FC;\n",
              "    }\n",
              "\n",
              "    [theme=dark] .colab-df-convert:hover {\n",
              "      background-color: #434B5C;\n",
              "      box-shadow: 0px 1px 3px 1px rgba(0, 0, 0, 0.15);\n",
              "      filter: drop-shadow(0px 1px 2px rgba(0, 0, 0, 0.3));\n",
              "      fill: #FFFFFF;\n",
              "    }\n",
              "  </style>\n",
              "\n",
              "      <script>\n",
              "        const buttonEl =\n",
              "          document.querySelector('#df-e406dd29-46ab-408b-8abd-589b6260f9e4 button.colab-df-convert');\n",
              "        buttonEl.style.display =\n",
              "          google.colab.kernel.accessAllowed ? 'block' : 'none';\n",
              "\n",
              "        async function convertToInteractive(key) {\n",
              "          const element = document.querySelector('#df-e406dd29-46ab-408b-8abd-589b6260f9e4');\n",
              "          const dataTable =\n",
              "            await google.colab.kernel.invokeFunction('convertToInteractive',\n",
              "                                                     [key], {});\n",
              "          if (!dataTable) return;\n",
              "\n",
              "          const docLinkHtml = 'Like what you see? Visit the ' +\n",
              "            '<a target=\"_blank\" href=https://colab.research.google.com/notebooks/data_table.ipynb>data table notebook</a>'\n",
              "            + ' to learn more about interactive tables.';\n",
              "          element.innerHTML = '';\n",
              "          dataTable['output_type'] = 'display_data';\n",
              "          await google.colab.output.renderOutput(dataTable, element);\n",
              "          const docLink = document.createElement('div');\n",
              "          docLink.innerHTML = docLinkHtml;\n",
              "          element.appendChild(docLink);\n",
              "        }\n",
              "      </script>\n",
              "    </div>\n",
              "  </div>\n",
              "  "
            ],
            "text/plain": [
              "                year     price   mileage       tax       mpg  engineSize\n",
              "year        1.000000  0.520712 -0.738027  0.012480 -0.094626   -0.142147\n",
              "price       0.520712  1.000000 -0.537214  0.268717 -0.438445    0.516126\n",
              "mileage    -0.738027 -0.537214  1.000000 -0.160223  0.202850    0.063652\n",
              "tax         0.012480  0.268717 -0.160223  1.000000 -0.513742    0.338341\n",
              "mpg        -0.094626 -0.438445  0.202850 -0.513742  1.000000   -0.339862\n",
              "engineSize -0.142147  0.516126  0.063652  0.338341 -0.339862    1.000000"
            ]
          },
          "metadata": {},
          "execution_count": 6
        }
      ]
    },
    {
      "cell_type": "code",
      "source": [
        "#sadece price colonunu ile diğerleri arasındaki ilişki\n",
        "data.corr()[\"price\"].sort_values()"
      ],
      "metadata": {
        "colab": {
          "base_uri": "https://localhost:8080/"
        },
        "id": "LPie_iNuCU8N",
        "outputId": "92226dd2-e9e5-4f90-fb20-d44143703e46"
      },
      "execution_count": null,
      "outputs": [
        {
          "output_type": "execute_result",
          "data": {
            "text/plain": [
              "mileage      -0.537214\n",
              "mpg          -0.438445\n",
              "tax           0.268717\n",
              "engineSize    0.516126\n",
              "year          0.520712\n",
              "price         1.000000\n",
              "Name: price, dtype: float64"
            ]
          },
          "metadata": {},
          "execution_count": 21
        }
      ]
    },
    {
      "cell_type": "code",
      "source": [
        "data.info()"
      ],
      "metadata": {
        "colab": {
          "base_uri": "https://localhost:8080/"
        },
        "id": "wp8IZjhvCrue",
        "outputId": "45d14f94-8cf8-4a56-ec67-8849ab6a6b10"
      },
      "execution_count": 23,
      "outputs": [
        {
          "output_type": "stream",
          "name": "stdout",
          "text": [
            "<class 'pandas.core.frame.DataFrame'>\n",
            "RangeIndex: 13119 entries, 0 to 13118\n",
            "Data columns (total 7 columns):\n",
            " #   Column        Non-Null Count  Dtype  \n",
            "---  ------        --------------  -----  \n",
            " 0   year          13119 non-null  int64  \n",
            " 1   price         13119 non-null  int64  \n",
            " 2   transmission  13119 non-null  object \n",
            " 3   mileage       13119 non-null  int64  \n",
            " 4   tax           13119 non-null  int64  \n",
            " 5   mpg           13119 non-null  float64\n",
            " 6   engineSize    13119 non-null  float64\n",
            "dtypes: float64(2), int64(4), object(1)\n",
            "memory usage: 717.6+ KB\n"
          ]
        }
      ]
    },
    {
      "cell_type": "code",
      "source": [
        "sns.scatterplot(x=\"year\",y=\"price\",data=data);"
      ],
      "metadata": {
        "id": "BZ-vhM6BDj7t",
        "colab": {
          "base_uri": "https://localhost:8080/",
          "height": 279
        },
        "outputId": "754c3251-2dd2-4e74-e8b3-59f2aa5d6515"
      },
      "execution_count": 26,
      "outputs": [
        {
          "output_type": "display_data",
          "data": {
            "image/png": "[encoded data removed]",
            "text/plain": [
              "<Figure size 432x288 with 1 Axes>"
            ]
          },
          "metadata": {
            "needs_background": "light"
          }
        }
      ]
    },
    {
      "cell_type": "code",
      "source": [
        "#En yüksek fiyatlı 20 araç\n",
        "data.sort_values(\"price\",ascending=False).head(20)"
      ],
      "metadata": {
        "colab": {
          "base_uri": "https://localhost:8080/",
          "height": 676
        },
        "id": "ls7-BOq8LQnm",
        "outputId": "93bc2f8c-4d12-4904-d2e4-5868a29cf8a2"
      },
      "execution_count": 28,
      "outputs": [
        {
          "output_type": "execute_result",
          "data": {
            "text/html": [
              "\n",
              "  <div id=\"df-0e244527-d2b8-4c31-a12d-186c02e6d4c8\">\n",
              "    <div class=\"colab-df-container\">\n",
              "      <div>\n",
              "<style scoped>\n",
              "    .dataframe tbody tr th:only-of-type {\n",
              "        vertical-align: middle;\n",
              "    }\n",
              "\n",
              "    .dataframe tbody tr th {\n",
              "        vertical-align: top;\n",
              "    }\n",
              "\n",
              "    .dataframe thead th {\n",
              "        text-align: right;\n",
              "    }\n",
              "</style>\n",
              "<table border=\"1\" class=\"dataframe\">\n",
              "  <thead>\n",
              "    <tr style=\"text-align: right;\">\n",
              "      <th></th>\n",
              "      <th>year</th>\n",
              "      <th>price</th>\n",
              "      <th>transmission</th>\n",
              "      <th>mileage</th>\n",
              "      <th>tax</th>\n",
              "      <th>mpg</th>\n",
              "      <th>engineSize</th>\n",
              "    </tr>\n",
              "  </thead>\n",
              "  <tbody>\n",
              "    <tr>\n",
              "      <th>6199</th>\n",
              "      <td>2020</td>\n",
              "      <td>159999</td>\n",
              "      <td>Semi-Auto</td>\n",
              "      <td>1350</td>\n",
              "      <td>145</td>\n",
              "      <td>21.4</td>\n",
              "      <td>4.0</td>\n",
              "    </tr>\n",
              "    <tr>\n",
              "      <th>10044</th>\n",
              "      <td>2020</td>\n",
              "      <td>154998</td>\n",
              "      <td>Automatic</td>\n",
              "      <td>3000</td>\n",
              "      <td>150</td>\n",
              "      <td>21.4</td>\n",
              "      <td>4.0</td>\n",
              "    </tr>\n",
              "    <tr>\n",
              "      <th>5</th>\n",
              "      <td>2011</td>\n",
              "      <td>149948</td>\n",
              "      <td>Automatic</td>\n",
              "      <td>3000</td>\n",
              "      <td>570</td>\n",
              "      <td>21.4</td>\n",
              "      <td>6.2</td>\n",
              "    </tr>\n",
              "    <tr>\n",
              "      <th>8737</th>\n",
              "      <td>2019</td>\n",
              "      <td>140319</td>\n",
              "      <td>Semi-Auto</td>\n",
              "      <td>785</td>\n",
              "      <td>150</td>\n",
              "      <td>22.1</td>\n",
              "      <td>4.0</td>\n",
              "    </tr>\n",
              "    <tr>\n",
              "      <th>6386</th>\n",
              "      <td>2018</td>\n",
              "      <td>139995</td>\n",
              "      <td>Semi-Auto</td>\n",
              "      <td>13046</td>\n",
              "      <td>145</td>\n",
              "      <td>21.4</td>\n",
              "      <td>4.0</td>\n",
              "    </tr>\n",
              "    <tr>\n",
              "      <th>8</th>\n",
              "      <td>2019</td>\n",
              "      <td>139948</td>\n",
              "      <td>Automatic</td>\n",
              "      <td>12000</td>\n",
              "      <td>145</td>\n",
              "      <td>21.4</td>\n",
              "      <td>4.0</td>\n",
              "    </tr>\n",
              "    <tr>\n",
              "      <th>9133</th>\n",
              "      <td>2019</td>\n",
              "      <td>139559</td>\n",
              "      <td>Semi-Auto</td>\n",
              "      <td>1000</td>\n",
              "      <td>145</td>\n",
              "      <td>22.1</td>\n",
              "      <td>4.0</td>\n",
              "    </tr>\n",
              "    <tr>\n",
              "      <th>8821</th>\n",
              "      <td>2020</td>\n",
              "      <td>138439</td>\n",
              "      <td>Semi-Auto</td>\n",
              "      <td>1000</td>\n",
              "      <td>145</td>\n",
              "      <td>22.1</td>\n",
              "      <td>4.0</td>\n",
              "    </tr>\n",
              "    <tr>\n",
              "      <th>5902</th>\n",
              "      <td>2018</td>\n",
              "      <td>135771</td>\n",
              "      <td>Semi-Auto</td>\n",
              "      <td>19000</td>\n",
              "      <td>145</td>\n",
              "      <td>21.4</td>\n",
              "      <td>4.0</td>\n",
              "    </tr>\n",
              "    <tr>\n",
              "      <th>7864</th>\n",
              "      <td>2018</td>\n",
              "      <td>135124</td>\n",
              "      <td>Semi-Auto</td>\n",
              "      <td>18234</td>\n",
              "      <td>150</td>\n",
              "      <td>21.4</td>\n",
              "      <td>4.0</td>\n",
              "    </tr>\n",
              "    <tr>\n",
              "      <th>8673</th>\n",
              "      <td>2019</td>\n",
              "      <td>134219</td>\n",
              "      <td>Semi-Auto</td>\n",
              "      <td>1000</td>\n",
              "      <td>145</td>\n",
              "      <td>24.8</td>\n",
              "      <td>4.0</td>\n",
              "    </tr>\n",
              "    <tr>\n",
              "      <th>6210</th>\n",
              "      <td>2019</td>\n",
              "      <td>129990</td>\n",
              "      <td>Automatic</td>\n",
              "      <td>1000</td>\n",
              "      <td>145</td>\n",
              "      <td>24.8</td>\n",
              "      <td>4.0</td>\n",
              "    </tr>\n",
              "    <tr>\n",
              "      <th>4759</th>\n",
              "      <td>2019</td>\n",
              "      <td>126000</td>\n",
              "      <td>Automatic</td>\n",
              "      <td>250</td>\n",
              "      <td>145</td>\n",
              "      <td>24.6</td>\n",
              "      <td>4.0</td>\n",
              "    </tr>\n",
              "    <tr>\n",
              "      <th>2647</th>\n",
              "      <td>2019</td>\n",
              "      <td>125796</td>\n",
              "      <td>Automatic</td>\n",
              "      <td>637</td>\n",
              "      <td>145</td>\n",
              "      <td>24.8</td>\n",
              "      <td>4.0</td>\n",
              "    </tr>\n",
              "    <tr>\n",
              "      <th>6223</th>\n",
              "      <td>2019</td>\n",
              "      <td>124999</td>\n",
              "      <td>Automatic</td>\n",
              "      <td>1500</td>\n",
              "      <td>145</td>\n",
              "      <td>31.7</td>\n",
              "      <td>4.0</td>\n",
              "    </tr>\n",
              "    <tr>\n",
              "      <th>4094</th>\n",
              "      <td>2019</td>\n",
              "      <td>124366</td>\n",
              "      <td>Semi-Auto</td>\n",
              "      <td>880</td>\n",
              "      <td>145</td>\n",
              "      <td>24.8</td>\n",
              "      <td>4.0</td>\n",
              "    </tr>\n",
              "    <tr>\n",
              "      <th>2629</th>\n",
              "      <td>2019</td>\n",
              "      <td>123846</td>\n",
              "      <td>Semi-Auto</td>\n",
              "      <td>2951</td>\n",
              "      <td>145</td>\n",
              "      <td>22.1</td>\n",
              "      <td>4.0</td>\n",
              "    </tr>\n",
              "    <tr>\n",
              "      <th>7134</th>\n",
              "      <td>2019</td>\n",
              "      <td>115359</td>\n",
              "      <td>Semi-Auto</td>\n",
              "      <td>1000</td>\n",
              "      <td>145</td>\n",
              "      <td>30.1</td>\n",
              "      <td>4.0</td>\n",
              "    </tr>\n",
              "    <tr>\n",
              "      <th>9159</th>\n",
              "      <td>2019</td>\n",
              "      <td>114199</td>\n",
              "      <td>Semi-Auto</td>\n",
              "      <td>891</td>\n",
              "      <td>145</td>\n",
              "      <td>22.6</td>\n",
              "      <td>4.0</td>\n",
              "    </tr>\n",
              "    <tr>\n",
              "      <th>1980</th>\n",
              "      <td>2019</td>\n",
              "      <td>109995</td>\n",
              "      <td>Semi-Auto</td>\n",
              "      <td>4688</td>\n",
              "      <td>150</td>\n",
              "      <td>31.7</td>\n",
              "      <td>4.0</td>\n",
              "    </tr>\n",
              "  </tbody>\n",
              "</table>\n",
              "</div>\n",
              "      <button class=\"colab-df-convert\" onclick=\"convertToInteractive('df-0e244527-d2b8-4c31-a12d-186c02e6d4c8')\"\n",
              "              title=\"Convert this dataframe to an interactive table.\"\n",
              "              style=\"display:none;\">\n",
              "        \n",
              "  <svg xmlns=\"http://www.w3.org/2000/svg\" height=\"24px\"viewBox=\"0 0 24 24\"\n",
              "       width=\"24px\">\n",
              "    <path d=\"M0 0h24v24H0V0z\" fill=\"none\"/>\n",
              "    <path d=\"M18.56 5.44l.94 2.06.94-2.06 2.06-.94-2.06-.94-.94-2.06-.94 2.06-2.06.94zm-11 1L8.5 8.5l.94-2.06 2.06-.94-2.06-.94L8.5 2.5l-.94 2.06-2.06.94zm10 10l.94 2.06.94-2.06 2.06-.94-2.06-.94-.94-2.06-.94 2.06-2.06.94z\"/><path d=\"M17.41 7.96l-1.37-1.37c-.4-.4-.92-.59-1.43-.59-.52 0-1.04.2-1.43.59L10.3 9.45l-7.72 7.72c-.78.78-.78 2.05 0 2.83L4 21.41c.39.39.9.59 1.41.59.51 0 1.02-.2 1.41-.59l7.78-7.78 2.81-2.81c.8-.78.8-2.07 0-2.86zM5.41 20L4 18.59l7.72-7.72 1.47 1.35L5.41 20z\"/>\n",
              "  </svg>\n",
              "      </button>\n",
              "      \n",
              "  <style>\n",
              "    .colab-df-container {\n",
              "      display:flex;\n",
              "      flex-wrap:wrap;\n",
              "      gap: 12px;\n",
              "    }\n",
              "\n",
              "    .colab-df-convert {\n",
              "      background-color: #E8F0FE;\n",
              "      border: none;\n",
              "      border-radius: 50%;\n",
              "      cursor: pointer;\n",
              "      display: none;\n",
              "      fill: #1967D2;\n",
              "      height: 32px;\n",
              "      padding: 0 0 0 0;\n",
              "      width: 32px;\n",
              "    }\n",
              "\n",
              "    .colab-df-convert:hover {\n",
              "      background-color: #E2EBFA;\n",
              "      box-shadow: 0px 1px 2px rgba(60, 64, 67, 0.3), 0px 1px 3px 1px rgba(60, 64, 67, 0.15);\n",
              "      fill: #174EA6;\n",
              "    }\n",
              "\n",
              "    [theme=dark] .colab-df-convert {\n",
              "      background-color: #3B4455;\n",
              "      fill: #D2E3FC;\n",
              "    }\n",
              "\n",
              "    [theme=dark] .colab-df-convert:hover {\n",
              "      background-color: #434B5C;\n",
              "      box-shadow: 0px 1px 3px 1px rgba(0, 0, 0, 0.15);\n",
              "      filter: drop-shadow(0px 1px 2px rgba(0, 0, 0, 0.3));\n",
              "      fill: #FFFFFF;\n",
              "    }\n",
              "  </style>\n",
              "\n",
              "      <script>\n",
              "        const buttonEl =\n",
              "          document.querySelector('#df-0e244527-d2b8-4c31-a12d-186c02e6d4c8 button.colab-df-convert');\n",
              "        buttonEl.style.display =\n",
              "          google.colab.kernel.accessAllowed ? 'block' : 'none';\n",
              "\n",
              "        async function convertToInteractive(key) {\n",
              "          const element = document.querySelector('#df-0e244527-d2b8-4c31-a12d-186c02e6d4c8');\n",
              "          const dataTable =\n",
              "            await google.colab.kernel.invokeFunction('convertToInteractive',\n",
              "                                                     [key], {});\n",
              "          if (!dataTable) return;\n",
              "\n",
              "          const docLinkHtml = 'Like what you see? Visit the ' +\n",
              "            '<a target=\"_blank\" href=https://colab.research.google.com/notebooks/data_table.ipynb>data table notebook</a>'\n",
              "            + ' to learn more about interactive tables.';\n",
              "          element.innerHTML = '';\n",
              "          dataTable['output_type'] = 'display_data';\n",
              "          await google.colab.output.renderOutput(dataTable, element);\n",
              "          const docLink = document.createElement('div');\n",
              "          docLink.innerHTML = docLinkHtml;\n",
              "          element.appendChild(docLink);\n",
              "        }\n",
              "      </script>\n",
              "    </div>\n",
              "  </div>\n",
              "  "
            ],
            "text/plain": [
              "       year   price transmission  mileage  tax   mpg  engineSize\n",
              "6199   2020  159999    Semi-Auto     1350  145  21.4         4.0\n",
              "10044  2020  154998    Automatic     3000  150  21.4         4.0\n",
              "5      2011  149948    Automatic     3000  570  21.4         6.2\n",
              "8737   2019  140319    Semi-Auto      785  150  22.1         4.0\n",
              "6386   2018  139995    Semi-Auto    13046  145  21.4         4.0\n",
              "8      2019  139948    Automatic    12000  145  21.4         4.0\n",
              "9133   2019  139559    Semi-Auto     1000  145  22.1         4.0\n",
              "8821   2020  138439    Semi-Auto     1000  145  22.1         4.0\n",
              "5902   2018  135771    Semi-Auto    19000  145  21.4         4.0\n",
              "7864   2018  135124    Semi-Auto    18234  150  21.4         4.0\n",
              "8673   2019  134219    Semi-Auto     1000  145  24.8         4.0\n",
              "6210   2019  129990    Automatic     1000  145  24.8         4.0\n",
              "4759   2019  126000    Automatic      250  145  24.6         4.0\n",
              "2647   2019  125796    Automatic      637  145  24.8         4.0\n",
              "6223   2019  124999    Automatic     1500  145  31.7         4.0\n",
              "4094   2019  124366    Semi-Auto      880  145  24.8         4.0\n",
              "2629   2019  123846    Semi-Auto     2951  145  22.1         4.0\n",
              "7134   2019  115359    Semi-Auto     1000  145  30.1         4.0\n",
              "9159   2019  114199    Semi-Auto      891  145  22.6         4.0\n",
              "1980   2019  109995    Semi-Auto     4688  150  31.7         4.0"
            ]
          },
          "metadata": {},
          "execution_count": 28
        }
      ]
    },
    {
      "cell_type": "code",
      "source": [
        "len(data)"
      ],
      "metadata": {
        "colab": {
          "base_uri": "https://localhost:8080/"
        },
        "id": "aQ478h8CLe0s",
        "outputId": "70ad49c4-8cac-4d63-ffa0-83003f160480"
      },
      "execution_count": 29,
      "outputs": [
        {
          "output_type": "execute_result",
          "data": {
            "text/plain": [
              "13119"
            ]
          },
          "metadata": {},
          "execution_count": 29
        }
      ]
    },
    {
      "cell_type": "code",
      "source": [
        "#en yüksek fiyatlıları azaltmak adına %99'u ile işlem yapmak için\n",
        "len(data)*0.01"
      ],
      "metadata": {
        "colab": {
          "base_uri": "https://localhost:8080/"
        },
        "id": "3628Pn_8Lz3v",
        "outputId": "b8b81933-774c-4f40-c991-1cc9b1d83609"
      },
      "execution_count": 31,
      "outputs": [
        {
          "output_type": "execute_result",
          "data": {
            "text/plain": [
              "131.19"
            ]
          },
          "metadata": {},
          "execution_count": 31
        }
      ]
    },
    {
      "cell_type": "code",
      "source": [
        "ydoksandokuz= data.sort_values(\"price\",ascending=False).iloc[131:]\n",
        "ydoksandokuz.describe()"
      ],
      "metadata": {
        "colab": {
          "base_uri": "https://localhost:8080/",
          "height": 300
        },
        "id": "VwCkzcxVL-MO",
        "outputId": "8e81b236-ab72-4d4d-81bd-a640faee54ba"
      },
      "execution_count": 33,
      "outputs": [
        {
          "output_type": "execute_result",
          "data": {
            "text/html": [
              "\n",
              "  <div id=\"df-8fefb85b-252a-4722-b6fd-24834271ffe9\">\n",
              "    <div class=\"colab-df-container\">\n",
              "      <div>\n",
              "<style scoped>\n",
              "    .dataframe tbody tr th:only-of-type {\n",
              "        vertical-align: middle;\n",
              "    }\n",
              "\n",
              "    .dataframe tbody tr th {\n",
              "        vertical-align: top;\n",
              "    }\n",
              "\n",
              "    .dataframe thead th {\n",
              "        text-align: right;\n",
              "    }\n",
              "</style>\n",
              "<table border=\"1\" class=\"dataframe\">\n",
              "  <thead>\n",
              "    <tr style=\"text-align: right;\">\n",
              "      <th></th>\n",
              "      <th>year</th>\n",
              "      <th>price</th>\n",
              "      <th>mileage</th>\n",
              "      <th>tax</th>\n",
              "      <th>mpg</th>\n",
              "      <th>engineSize</th>\n",
              "    </tr>\n",
              "  </thead>\n",
              "  <tbody>\n",
              "    <tr>\n",
              "      <th>count</th>\n",
              "      <td>12988.000000</td>\n",
              "      <td>12988.000000</td>\n",
              "      <td>12988.000000</td>\n",
              "      <td>12988.000000</td>\n",
              "      <td>12988.000000</td>\n",
              "      <td>12988.000000</td>\n",
              "    </tr>\n",
              "    <tr>\n",
              "      <th>mean</th>\n",
              "      <td>2017.281876</td>\n",
              "      <td>24074.926933</td>\n",
              "      <td>22132.741146</td>\n",
              "      <td>129.689714</td>\n",
              "      <td>55.437142</td>\n",
              "      <td>2.050901</td>\n",
              "    </tr>\n",
              "    <tr>\n",
              "      <th>std</th>\n",
              "      <td>2.228515</td>\n",
              "      <td>9866.224575</td>\n",
              "      <td>21196.776401</td>\n",
              "      <td>65.183076</td>\n",
              "      <td>15.025999</td>\n",
              "      <td>0.532596</td>\n",
              "    </tr>\n",
              "    <tr>\n",
              "      <th>min</th>\n",
              "      <td>1970.000000</td>\n",
              "      <td>650.000000</td>\n",
              "      <td>1.000000</td>\n",
              "      <td>0.000000</td>\n",
              "      <td>1.100000</td>\n",
              "      <td>0.000000</td>\n",
              "    </tr>\n",
              "    <tr>\n",
              "      <th>25%</th>\n",
              "      <td>2016.000000</td>\n",
              "      <td>17357.500000</td>\n",
              "      <td>6322.000000</td>\n",
              "      <td>125.000000</td>\n",
              "      <td>45.600000</td>\n",
              "      <td>1.675000</td>\n",
              "    </tr>\n",
              "    <tr>\n",
              "      <th>50%</th>\n",
              "      <td>2018.000000</td>\n",
              "      <td>22299.000000</td>\n",
              "      <td>15369.500000</td>\n",
              "      <td>145.000000</td>\n",
              "      <td>56.500000</td>\n",
              "      <td>2.000000</td>\n",
              "    </tr>\n",
              "    <tr>\n",
              "      <th>75%</th>\n",
              "      <td>2019.000000</td>\n",
              "      <td>28706.000000</td>\n",
              "      <td>31982.250000</td>\n",
              "      <td>145.000000</td>\n",
              "      <td>64.200000</td>\n",
              "      <td>2.100000</td>\n",
              "    </tr>\n",
              "    <tr>\n",
              "      <th>max</th>\n",
              "      <td>2020.000000</td>\n",
              "      <td>65990.000000</td>\n",
              "      <td>259000.000000</td>\n",
              "      <td>580.000000</td>\n",
              "      <td>217.300000</td>\n",
              "      <td>6.200000</td>\n",
              "    </tr>\n",
              "  </tbody>\n",
              "</table>\n",
              "</div>\n",
              "      <button class=\"colab-df-convert\" onclick=\"convertToInteractive('df-8fefb85b-252a-4722-b6fd-24834271ffe9')\"\n",
              "              title=\"Convert this dataframe to an interactive table.\"\n",
              "              style=\"display:none;\">\n",
              "        \n",
              "  <svg xmlns=\"http://www.w3.org/2000/svg\" height=\"24px\"viewBox=\"0 0 24 24\"\n",
              "       width=\"24px\">\n",
              "    <path d=\"M0 0h24v24H0V0z\" fill=\"none\"/>\n",
              "    <path d=\"M18.56 5.44l.94 2.06.94-2.06 2.06-.94-2.06-.94-.94-2.06-.94 2.06-2.06.94zm-11 1L8.5 8.5l.94-2.06 2.06-.94-2.06-.94L8.5 2.5l-.94 2.06-2.06.94zm10 10l.94 2.06.94-2.06 2.06-.94-2.06-.94-.94-2.06-.94 2.06-2.06.94z\"/><path d=\"M17.41 7.96l-1.37-1.37c-.4-.4-.92-.59-1.43-.59-.52 0-1.04.2-1.43.59L10.3 9.45l-7.72 7.72c-.78.78-.78 2.05 0 2.83L4 21.41c.39.39.9.59 1.41.59.51 0 1.02-.2 1.41-.59l7.78-7.78 2.81-2.81c.8-.78.8-2.07 0-2.86zM5.41 20L4 18.59l7.72-7.72 1.47 1.35L5.41 20z\"/>\n",
              "  </svg>\n",
              "      </button>\n",
              "      \n",
              "  <style>\n",
              "    .colab-df-container {\n",
              "      display:flex;\n",
              "      flex-wrap:wrap;\n",
              "      gap: 12px;\n",
              "    }\n",
              "\n",
              "    .colab-df-convert {\n",
              "      background-color: #E8F0FE;\n",
              "      border: none;\n",
              "      border-radius: 50%;\n",
              "      cursor: pointer;\n",
              "      display: none;\n",
              "      fill: #1967D2;\n",
              "      height: 32px;\n",
              "      padding: 0 0 0 0;\n",
              "      width: 32px;\n",
              "    }\n",
              "\n",
              "    .colab-df-convert:hover {\n",
              "      background-color: #E2EBFA;\n",
              "      box-shadow: 0px 1px 2px rgba(60, 64, 67, 0.3), 0px 1px 3px 1px rgba(60, 64, 67, 0.15);\n",
              "      fill: #174EA6;\n",
              "    }\n",
              "\n",
              "    [theme=dark] .colab-df-convert {\n",
              "      background-color: #3B4455;\n",
              "      fill: #D2E3FC;\n",
              "    }\n",
              "\n",
              "    [theme=dark] .colab-df-convert:hover {\n",
              "      background-color: #434B5C;\n",
              "      box-shadow: 0px 1px 3px 1px rgba(0, 0, 0, 0.15);\n",
              "      filter: drop-shadow(0px 1px 2px rgba(0, 0, 0, 0.3));\n",
              "      fill: #FFFFFF;\n",
              "    }\n",
              "  </style>\n",
              "\n",
              "      <script>\n",
              "        const buttonEl =\n",
              "          document.querySelector('#df-8fefb85b-252a-4722-b6fd-24834271ffe9 button.colab-df-convert');\n",
              "        buttonEl.style.display =\n",
              "          google.colab.kernel.accessAllowed ? 'block' : 'none';\n",
              "\n",
              "        async function convertToInteractive(key) {\n",
              "          const element = document.querySelector('#df-8fefb85b-252a-4722-b6fd-24834271ffe9');\n",
              "          const dataTable =\n",
              "            await google.colab.kernel.invokeFunction('convertToInteractive',\n",
              "                                                     [key], {});\n",
              "          if (!dataTable) return;\n",
              "\n",
              "          const docLinkHtml = 'Like what you see? Visit the ' +\n",
              "            '<a target=\"_blank\" href=https://colab.research.google.com/notebooks/data_table.ipynb>data table notebook</a>'\n",
              "            + ' to learn more about interactive tables.';\n",
              "          element.innerHTML = '';\n",
              "          dataTable['output_type'] = 'display_data';\n",
              "          await google.colab.output.renderOutput(dataTable, element);\n",
              "          const docLink = document.createElement('div');\n",
              "          docLink.innerHTML = docLinkHtml;\n",
              "          element.appendChild(docLink);\n",
              "        }\n",
              "      </script>\n",
              "    </div>\n",
              "  </div>\n",
              "  "
            ],
            "text/plain": [
              "               year         price  ...           mpg    engineSize\n",
              "count  12988.000000  12988.000000  ...  12988.000000  12988.000000\n",
              "mean    2017.281876  24074.926933  ...     55.437142      2.050901\n",
              "std        2.228515   9866.224575  ...     15.025999      0.532596\n",
              "min     1970.000000    650.000000  ...      1.100000      0.000000\n",
              "25%     2016.000000  17357.500000  ...     45.600000      1.675000\n",
              "50%     2018.000000  22299.000000  ...     56.500000      2.000000\n",
              "75%     2019.000000  28706.000000  ...     64.200000      2.100000\n",
              "max     2020.000000  65990.000000  ...    217.300000      6.200000\n",
              "\n",
              "[8 rows x 6 columns]"
            ]
          },
          "metadata": {},
          "execution_count": 33
        }
      ]
    },
    {
      "cell_type": "code",
      "source": [
        "plt.figure(figsize=(7,5));\n",
        "sns.distplot(ydoksandokuz[\"price\"]);"
      ],
      "metadata": {
        "colab": {
          "base_uri": "https://localhost:8080/",
          "height": 402
        },
        "id": "DbiVRL0WMNj2",
        "outputId": "882789a7-c21b-42ad-b8d7-0af351032427"
      },
      "execution_count": 38,
      "outputs": [
        {
          "output_type": "stream",
          "name": "stderr",
          "text": [
            "/usr/local/lib/python3.7/dist-packages/seaborn/distributions.py:2619: FutureWarning: `distplot` is a deprecated function and will be removed in a future version. Please adapt your code to use either `displot` (a figure-level function with similar flexibility) or `histplot` (an axes-level function for histograms).\n",
            "  warnings.warn(msg, FutureWarning)\n"
          ]
        },
        {
          "output_type": "display_data",
          "data": {
            "image/png": "[encoded data removed]",
            "text/plain": [
              "<Figure size 504x360 with 1 Axes>"
            ]
          },
          "metadata": {
            "needs_background": "light"
          }
        }
      ]
    },
    {
      "cell_type": "code",
      "source": [
        "#yıllara göre ortalama fiyat\n",
        "data.groupby(\"year\").mean()[\"price\"]"
      ],
      "metadata": {
        "colab": {
          "base_uri": "https://localhost:8080/"
        },
        "id": "vNn8AHZ5MtRp",
        "outputId": "f472c21a-43fa-4caa-adef-30e06e08fdae"
      },
      "execution_count": 41,
      "outputs": [
        {
          "output_type": "execute_result",
          "data": {
            "text/plain": [
              "year\n",
              "1970    24999.000000\n",
              "1997     9995.000000\n",
              "1998     8605.000000\n",
              "1999     5995.000000\n",
              "2000     5743.333333\n",
              "2001     4957.900000\n",
              "2002     5820.444444\n",
              "2003     4878.000000\n",
              "2004     4727.615385\n",
              "2005     4426.111111\n",
              "2006     4036.875000\n",
              "2007     5136.045455\n",
              "2008     6967.437500\n",
              "2009     6166.764706\n",
              "2010     8308.473684\n",
              "2011    12624.894737\n",
              "2012    10845.140351\n",
              "2013    11939.842466\n",
              "2014    14042.936864\n",
              "2015    16731.780020\n",
              "2016    19307.892948\n",
              "2017    21514.307854\n",
              "2018    25720.162918\n",
              "2019    31290.020865\n",
              "2020    35433.282337\n",
              "Name: price, dtype: float64"
            ]
          },
          "metadata": {},
          "execution_count": 41
        }
      ]
    },
    {
      "cell_type": "code",
      "source": [
        "ydoksandokuz.groupby(\"year\").mean()[\"price\"]"
      ],
      "metadata": {
        "colab": {
          "base_uri": "https://localhost:8080/"
        },
        "id": "9Yub4s7JM8_Z",
        "outputId": "0aa6ced4-2461-47ca-c031-4eebc7dab6ab"
      },
      "execution_count": 42,
      "outputs": [
        {
          "output_type": "execute_result",
          "data": {
            "text/plain": [
              "year\n",
              "1970    24999.000000\n",
              "1997     9995.000000\n",
              "1998     8605.000000\n",
              "1999     5995.000000\n",
              "2000     5743.333333\n",
              "2001     4957.900000\n",
              "2002     5820.444444\n",
              "2003     4878.000000\n",
              "2004     4727.615385\n",
              "2005     4426.111111\n",
              "2006     4036.875000\n",
              "2007     5136.045455\n",
              "2008     6967.437500\n",
              "2009     6166.764706\n",
              "2010     8308.473684\n",
              "2011     8913.459459\n",
              "2012    10845.140351\n",
              "2013    11939.842466\n",
              "2014    14042.936864\n",
              "2015    16647.822222\n",
              "2016    19223.558943\n",
              "2017    21356.280421\n",
              "2018    24800.844506\n",
              "2019    30289.524832\n",
              "2020    34234.794872\n",
              "Name: price, dtype: float64"
            ]
          },
          "metadata": {},
          "execution_count": 42
        }
      ]
    },
    {
      "cell_type": "code",
      "source": [
        "data[data.year != 1970].groupby(\"year\").mean()[\"price\"]"
      ],
      "metadata": {
        "colab": {
          "base_uri": "https://localhost:8080/"
        },
        "id": "4sBWyLT3Nby4",
        "outputId": "32be8f32-f087-4868-b755-d7d61de718c0"
      },
      "execution_count": 45,
      "outputs": [
        {
          "output_type": "execute_result",
          "data": {
            "text/plain": [
              "year\n",
              "1997     9995.000000\n",
              "1998     8605.000000\n",
              "1999     5995.000000\n",
              "2000     5743.333333\n",
              "2001     4957.900000\n",
              "2002     5820.444444\n",
              "2003     4878.000000\n",
              "2004     4727.615385\n",
              "2005     4426.111111\n",
              "2006     4036.875000\n",
              "2007     5136.045455\n",
              "2008     6967.437500\n",
              "2009     6166.764706\n",
              "2010     8308.473684\n",
              "2011    12624.894737\n",
              "2012    10845.140351\n",
              "2013    11939.842466\n",
              "2014    14042.936864\n",
              "2015    16731.780020\n",
              "2016    19307.892948\n",
              "2017    21514.307854\n",
              "2018    25720.162918\n",
              "2019    31290.020865\n",
              "2020    35433.282337\n",
              "Name: price, dtype: float64"
            ]
          },
          "metadata": {},
          "execution_count": 45
        }
      ]
    },
    {
      "cell_type": "code",
      "source": [
        "data = ydoksandokuz"
      ],
      "metadata": {
        "id": "JXk9nsQqNnhy"
      },
      "execution_count": 46,
      "outputs": []
    },
    {
      "cell_type": "code",
      "source": [
        "data=data[data.year!=1970]\n",
        "data.groupby(\"year\").mean()[\"price\"]"
      ],
      "metadata": {
        "colab": {
          "base_uri": "https://localhost:8080/"
        },
        "id": "2Q-4fXEBN1kj",
        "outputId": "9f8265dd-8924-4752-b4d4-d18f3825e02d"
      },
      "execution_count": 47,
      "outputs": [
        {
          "output_type": "execute_result",
          "data": {
            "text/plain": [
              "year\n",
              "1997     9995.000000\n",
              "1998     8605.000000\n",
              "1999     5995.000000\n",
              "2000     5743.333333\n",
              "2001     4957.900000\n",
              "2002     5820.444444\n",
              "2003     4878.000000\n",
              "2004     4727.615385\n",
              "2005     4426.111111\n",
              "2006     4036.875000\n",
              "2007     5136.045455\n",
              "2008     6967.437500\n",
              "2009     6166.764706\n",
              "2010     8308.473684\n",
              "2011     8913.459459\n",
              "2012    10845.140351\n",
              "2013    11939.842466\n",
              "2014    14042.936864\n",
              "2015    16647.822222\n",
              "2016    19223.558943\n",
              "2017    21356.280421\n",
              "2018    24800.844506\n",
              "2019    30289.524832\n",
              "2020    34234.794872\n",
              "Name: price, dtype: float64"
            ]
          },
          "metadata": {},
          "execution_count": 47
        }
      ]
    },
    {
      "cell_type": "code",
      "source": [
        "data.head()"
      ],
      "metadata": {
        "colab": {
          "base_uri": "https://localhost:8080/",
          "height": 206
        },
        "id": "4HyZRUMEOC5Z",
        "outputId": "433cdaf6-5b51-4324-9016-7b9653737bb4"
      },
      "execution_count": 48,
      "outputs": [
        {
          "output_type": "execute_result",
          "data": {
            "text/html": [
              "\n",
              "  <div id=\"df-6f09df73-1509-43c0-866e-35aaab3e7ce6\">\n",
              "    <div class=\"colab-df-container\">\n",
              "      <div>\n",
              "<style scoped>\n",
              "    .dataframe tbody tr th:only-of-type {\n",
              "        vertical-align: middle;\n",
              "    }\n",
              "\n",
              "    .dataframe tbody tr th {\n",
              "        vertical-align: top;\n",
              "    }\n",
              "\n",
              "    .dataframe thead th {\n",
              "        text-align: right;\n",
              "    }\n",
              "</style>\n",
              "<table border=\"1\" class=\"dataframe\">\n",
              "  <thead>\n",
              "    <tr style=\"text-align: right;\">\n",
              "      <th></th>\n",
              "      <th>year</th>\n",
              "      <th>price</th>\n",
              "      <th>transmission</th>\n",
              "      <th>mileage</th>\n",
              "      <th>tax</th>\n",
              "      <th>mpg</th>\n",
              "      <th>engineSize</th>\n",
              "    </tr>\n",
              "  </thead>\n",
              "  <tbody>\n",
              "    <tr>\n",
              "      <th>6177</th>\n",
              "      <td>2019</td>\n",
              "      <td>65990</td>\n",
              "      <td>Semi-Auto</td>\n",
              "      <td>5076</td>\n",
              "      <td>150</td>\n",
              "      <td>30.4</td>\n",
              "      <td>3.0</td>\n",
              "    </tr>\n",
              "    <tr>\n",
              "      <th>5779</th>\n",
              "      <td>2020</td>\n",
              "      <td>65990</td>\n",
              "      <td>Semi-Auto</td>\n",
              "      <td>999</td>\n",
              "      <td>145</td>\n",
              "      <td>28.0</td>\n",
              "      <td>4.0</td>\n",
              "    </tr>\n",
              "    <tr>\n",
              "      <th>3191</th>\n",
              "      <td>2020</td>\n",
              "      <td>65980</td>\n",
              "      <td>Semi-Auto</td>\n",
              "      <td>3999</td>\n",
              "      <td>145</td>\n",
              "      <td>28.0</td>\n",
              "      <td>4.0</td>\n",
              "    </tr>\n",
              "    <tr>\n",
              "      <th>4727</th>\n",
              "      <td>2019</td>\n",
              "      <td>65000</td>\n",
              "      <td>Semi-Auto</td>\n",
              "      <td>3398</td>\n",
              "      <td>145</td>\n",
              "      <td>27.2</td>\n",
              "      <td>4.0</td>\n",
              "    </tr>\n",
              "    <tr>\n",
              "      <th>8814</th>\n",
              "      <td>2019</td>\n",
              "      <td>64999</td>\n",
              "      <td>Semi-Auto</td>\n",
              "      <td>119</td>\n",
              "      <td>145</td>\n",
              "      <td>40.9</td>\n",
              "      <td>3.0</td>\n",
              "    </tr>\n",
              "  </tbody>\n",
              "</table>\n",
              "</div>\n",
              "      <button class=\"colab-df-convert\" onclick=\"convertToInteractive('df-6f09df73-1509-43c0-866e-35aaab3e7ce6')\"\n",
              "              title=\"Convert this dataframe to an interactive table.\"\n",
              "              style=\"display:none;\">\n",
              "        \n",
              "  <svg xmlns=\"http://www.w3.org/2000/svg\" height=\"24px\"viewBox=\"0 0 24 24\"\n",
              "       width=\"24px\">\n",
              "    <path d=\"M0 0h24v24H0V0z\" fill=\"none\"/>\n",
              "    <path d=\"M18.56 5.44l.94 2.06.94-2.06 2.06-.94-2.06-.94-.94-2.06-.94 2.06-2.06.94zm-11 1L8.5 8.5l.94-2.06 2.06-.94-2.06-.94L8.5 2.5l-.94 2.06-2.06.94zm10 10l.94 2.06.94-2.06 2.06-.94-2.06-.94-.94-2.06-.94 2.06-2.06.94z\"/><path d=\"M17.41 7.96l-1.37-1.37c-.4-.4-.92-.59-1.43-.59-.52 0-1.04.2-1.43.59L10.3 9.45l-7.72 7.72c-.78.78-.78 2.05 0 2.83L4 21.41c.39.39.9.59 1.41.59.51 0 1.02-.2 1.41-.59l7.78-7.78 2.81-2.81c.8-.78.8-2.07 0-2.86zM5.41 20L4 18.59l7.72-7.72 1.47 1.35L5.41 20z\"/>\n",
              "  </svg>\n",
              "      </button>\n",
              "      \n",
              "  <style>\n",
              "    .colab-df-container {\n",
              "      display:flex;\n",
              "      flex-wrap:wrap;\n",
              "      gap: 12px;\n",
              "    }\n",
              "\n",
              "    .colab-df-convert {\n",
              "      background-color: #E8F0FE;\n",
              "      border: none;\n",
              "      border-radius: 50%;\n",
              "      cursor: pointer;\n",
              "      display: none;\n",
              "      fill: #1967D2;\n",
              "      height: 32px;\n",
              "      padding: 0 0 0 0;\n",
              "      width: 32px;\n",
              "    }\n",
              "\n",
              "    .colab-df-convert:hover {\n",
              "      background-color: #E2EBFA;\n",
              "      box-shadow: 0px 1px 2px rgba(60, 64, 67, 0.3), 0px 1px 3px 1px rgba(60, 64, 67, 0.15);\n",
              "      fill: #174EA6;\n",
              "    }\n",
              "\n",
              "    [theme=dark] .colab-df-convert {\n",
              "      background-color: #3B4455;\n",
              "      fill: #D2E3FC;\n",
              "    }\n",
              "\n",
              "    [theme=dark] .colab-df-convert:hover {\n",
              "      background-color: #434B5C;\n",
              "      box-shadow: 0px 1px 3px 1px rgba(0, 0, 0, 0.15);\n",
              "      filter: drop-shadow(0px 1px 2px rgba(0, 0, 0, 0.3));\n",
              "      fill: #FFFFFF;\n",
              "    }\n",
              "  </style>\n",
              "\n",
              "      <script>\n",
              "        const buttonEl =\n",
              "          document.querySelector('#df-6f09df73-1509-43c0-866e-35aaab3e7ce6 button.colab-df-convert');\n",
              "        buttonEl.style.display =\n",
              "          google.colab.kernel.accessAllowed ? 'block' : 'none';\n",
              "\n",
              "        async function convertToInteractive(key) {\n",
              "          const element = document.querySelector('#df-6f09df73-1509-43c0-866e-35aaab3e7ce6');\n",
              "          const dataTable =\n",
              "            await google.colab.kernel.invokeFunction('convertToInteractive',\n",
              "                                                     [key], {});\n",
              "          if (!dataTable) return;\n",
              "\n",
              "          const docLinkHtml = 'Like what you see? Visit the ' +\n",
              "            '<a target=\"_blank\" href=https://colab.research.google.com/notebooks/data_table.ipynb>data table notebook</a>'\n",
              "            + ' to learn more about interactive tables.';\n",
              "          element.innerHTML = '';\n",
              "          dataTable['output_type'] = 'display_data';\n",
              "          await google.colab.output.renderOutput(dataTable, element);\n",
              "          const docLink = document.createElement('div');\n",
              "          docLink.innerHTML = docLinkHtml;\n",
              "          element.appendChild(docLink);\n",
              "        }\n",
              "      </script>\n",
              "    </div>\n",
              "  </div>\n",
              "  "
            ],
            "text/plain": [
              "      year  price transmission  mileage  tax   mpg  engineSize\n",
              "6177  2019  65990    Semi-Auto     5076  150  30.4         3.0\n",
              "5779  2020  65990    Semi-Auto      999  145  28.0         4.0\n",
              "3191  2020  65980    Semi-Auto     3999  145  28.0         4.0\n",
              "4727  2019  65000    Semi-Auto     3398  145  27.2         4.0\n",
              "8814  2019  64999    Semi-Auto      119  145  40.9         3.0"
            ]
          },
          "metadata": {},
          "execution_count": 48
        }
      ]
    },
    {
      "cell_type": "code",
      "source": [
        "#transmission kolonunu çıkarma\n",
        "data =data.drop(\"transmission\", axis=1)"
      ],
      "metadata": {
        "id": "kz8T6sAPOIRQ"
      },
      "execution_count": 49,
      "outputs": []
    },
    {
      "cell_type": "code",
      "source": [
        "y=data[\"price\"].values \n",
        "x=data.drop(\"price\",axis=1).values\n",
        "y"
      ],
      "metadata": {
        "colab": {
          "base_uri": "https://localhost:8080/"
        },
        "id": "HWEBu1C4OTKc",
        "outputId": "43b3ade0-661c-44ce-a681-10a14c6556d1"
      },
      "execution_count": 50,
      "outputs": [
        {
          "output_type": "execute_result",
          "data": {
            "text/plain": [
              "array([65990, 65990, 65980, ...,  1490,  1350,   650])"
            ]
          },
          "metadata": {},
          "execution_count": 50
        }
      ]
    },
    {
      "cell_type": "code",
      "source": [
        "x"
      ],
      "metadata": {
        "colab": {
          "base_uri": "https://localhost:8080/"
        },
        "id": "frwVweKuOy1X",
        "outputId": "2cb6020f-60fd-4c49-af80-213306c62429"
      },
      "execution_count": 51,
      "outputs": [
        {
          "output_type": "execute_result",
          "data": {
            "text/plain": [
              "array([[2.01900e+03, 5.07600e+03, 1.50000e+02, 3.04000e+01, 3.00000e+00],\n",
              "       [2.02000e+03, 9.99000e+02, 1.45000e+02, 2.80000e+01, 4.00000e+00],\n",
              "       [2.02000e+03, 3.99900e+03, 1.45000e+02, 2.80000e+01, 4.00000e+00],\n",
              "       ...,\n",
              "       [2.00000e+03, 8.70000e+04, 2.65000e+02, 2.72000e+01, 3.20000e+00],\n",
              "       [2.01000e+03, 1.16126e+05, 1.45000e+02, 5.43000e+01, 2.00000e+00],\n",
              "       [2.00300e+03, 1.09090e+05, 2.35000e+02, 4.00000e+01, 1.40000e+00]])"
            ]
          },
          "metadata": {},
          "execution_count": 51
        }
      ]
    },
    {
      "cell_type": "code",
      "source": [
        "from sklearn.model_selection import train_test_split"
      ],
      "metadata": {
        "id": "PNyMowF9Ozxm"
      },
      "execution_count": 52,
      "outputs": []
    },
    {
      "cell_type": "code",
      "source": [
        "x_train, x_test, y_train, y_test = train_test_split(x, y, test_size=0.3, random_state=10)"
      ],
      "metadata": {
        "id": "5c8eUeiEO5Wi"
      },
      "execution_count": 53,
      "outputs": []
    },
    {
      "cell_type": "code",
      "source": [
        "len(x_train)"
      ],
      "metadata": {
        "colab": {
          "base_uri": "https://localhost:8080/"
        },
        "id": "LLYCBJ03PNCh",
        "outputId": "2fd4fd5a-d31f-4451-f73f-c0c82c0a53dd"
      },
      "execution_count": 54,
      "outputs": [
        {
          "output_type": "execute_result",
          "data": {
            "text/plain": [
              "9090"
            ]
          },
          "metadata": {},
          "execution_count": 54
        }
      ]
    },
    {
      "cell_type": "code",
      "source": [
        "len(x_test)"
      ],
      "metadata": {
        "colab": {
          "base_uri": "https://localhost:8080/"
        },
        "id": "djIcbtGuPQJH",
        "outputId": "b16c619e-c17a-4c43-d6b1-9d2a59ff6934"
      },
      "execution_count": 55,
      "outputs": [
        {
          "output_type": "execute_result",
          "data": {
            "text/plain": [
              "3897"
            ]
          },
          "metadata": {},
          "execution_count": 55
        }
      ]
    },
    {
      "cell_type": "code",
      "source": [
        "from sklearn.preprocessing import MinMaxScaler"
      ],
      "metadata": {
        "id": "4OJ92eI5PSth"
      },
      "execution_count": 56,
      "outputs": []
    },
    {
      "cell_type": "code",
      "source": [
        "scaler =MinMaxScaler()"
      ],
      "metadata": {
        "id": "AAzWYBodPcrk"
      },
      "execution_count": 57,
      "outputs": []
    },
    {
      "cell_type": "code",
      "source": [
        "x_train=scaler.fit_transform(x_train)\n",
        "x_test=scaler.transform(x_test)"
      ],
      "metadata": {
        "id": "IEgaAgjuPfFp"
      },
      "execution_count": 58,
      "outputs": []
    },
    {
      "cell_type": "code",
      "source": [
        "from tensorflow.keras.models import Sequential\n",
        "from tensorflow.keras.layers import Dense"
      ],
      "metadata": {
        "id": "P5fzwS5_P1HX"
      },
      "execution_count": 59,
      "outputs": []
    },
    {
      "cell_type": "code",
      "source": [
        "x_train.shape"
      ],
      "metadata": {
        "colab": {
          "base_uri": "https://localhost:8080/"
        },
        "id": "wkjjzbjoQCys",
        "outputId": "889925d8-061c-421a-9191-173ceb614912"
      },
      "execution_count": 60,
      "outputs": [
        {
          "output_type": "execute_result",
          "data": {
            "text/plain": [
              "(9090, 5)"
            ]
          },
          "metadata": {},
          "execution_count": 60
        }
      ]
    },
    {
      "cell_type": "code",
      "source": [
        "model = Sequential()\n",
        "\n",
        "model.add(Dense(12,activation=\"relu\"))\n",
        "model.add(Dense(12,activation=\"relu\"))\n",
        "model.add(Dense(12,activation=\"relu\"))\n",
        "model.add(Dense(12,activation=\"relu\"))\n",
        "\n",
        "model.add(Dense(1))\n",
        "\n",
        "model.compile(optimizer=\"adam\",loss=\"mse\")"
      ],
      "metadata": {
        "id": "yJdz4objQGUL"
      },
      "execution_count": 61,
      "outputs": []
    },
    {
      "cell_type": "code",
      "source": [
        "model.fit(x=x_train, y=y_train, validation_data=(x_test,y_test), batch_size=250, epochs =300 )"
      ],
      "metadata": {
        "colab": {
          "base_uri": "https://localhost:8080/"
        },
        "id": "QK503sNxQiDs",
        "outputId": "937b60c1-aad4-42bd-ab83-172a92987014"
      },
      "execution_count": 63,
      "outputs": [
        {
          "output_type": "stream",
          "name": "stdout",
          "text": [
            "Epoch 1/300\n",
            "37/37 [==============================] - 2s 7ms/step - loss: 672140480.0000 - val_loss: 688094720.0000\n",
            "Epoch 2/300\n",
            "37/37 [==============================] - 0s 3ms/step - loss: 672106432.0000 - val_loss: 688030464.0000\n",
            "Epoch 3/300\n",
            "37/37 [==============================] - 0s 4ms/step - loss: 671981184.0000 - val_loss: 687806592.0000\n",
            "Epoch 4/300\n",
            "37/37 [==============================] - 0s 3ms/step - loss: 671588672.0000 - val_loss: 687147968.0000\n",
            "Epoch 5/300\n",
            "37/37 [==============================] - 0s 3ms/step - loss: 670521472.0000 - val_loss: 685475520.0000\n",
            "Epoch 6/300\n",
            "37/37 [==============================] - 0s 3ms/step - loss: 668009856.0000 - val_loss: 681735104.0000\n",
            "Epoch 7/300\n",
            "37/37 [==============================] - 0s 3ms/step - loss: 662631424.0000 - val_loss: 673956032.0000\n",
            "Epoch 8/300\n",
            "37/37 [==============================] - 0s 3ms/step - loss: 651930944.0000 - val_loss: 659153664.0000\n",
            "Epoch 9/300\n",
            "37/37 [==============================] - 0s 3ms/step - loss: 632391744.0000 - val_loss: 633085824.0000\n",
            "Epoch 10/300\n",
            "37/37 [==============================] - 0s 3ms/step - loss: 599534976.0000 - val_loss: 591026112.0000\n",
            "Epoch 11/300\n",
            "37/37 [==============================] - 0s 3ms/step - loss: 549130752.0000 - val_loss: 529495104.0000\n",
            "Epoch 12/300\n",
            "37/37 [==============================] - 0s 3ms/step - loss: 478776800.0000 - val_loss: 447592832.0000\n",
            "Epoch 13/300\n",
            "37/37 [==============================] - 0s 3ms/step - loss: 390543136.0000 - val_loss: 350912320.0000\n",
            "Epoch 14/300\n",
            "37/37 [==============================] - 0s 3ms/step - loss: 293287936.0000 - val_loss: 252524112.0000\n",
            "Epoch 15/300\n",
            "37/37 [==============================] - 0s 3ms/step - loss: 203359152.0000 - val_loss: 170536944.0000\n",
            "Epoch 16/300\n",
            "37/37 [==============================] - 0s 3ms/step - loss: 137827952.0000 - val_loss: 119523440.0000\n",
            "Epoch 17/300\n",
            "37/37 [==============================] - 0s 3ms/step - loss: 103243512.0000 - val_loss: 97447624.0000\n",
            "Epoch 18/300\n",
            "37/37 [==============================] - 0s 3ms/step - loss: 91050704.0000 - val_loss: 90808024.0000\n",
            "Epoch 19/300\n",
            "37/37 [==============================] - 0s 3ms/step - loss: 87799096.0000 - val_loss: 89042176.0000\n",
            "Epoch 20/300\n",
            "37/37 [==============================] - 0s 3ms/step - loss: 86855968.0000 - val_loss: 88162976.0000\n",
            "Epoch 21/300\n",
            "37/37 [==============================] - 0s 3ms/step - loss: 86239552.0000 - val_loss: 87539784.0000\n",
            "Epoch 22/300\n",
            "37/37 [==============================] - 0s 3ms/step - loss: 85671384.0000 - val_loss: 86978952.0000\n",
            "Epoch 23/300\n",
            "37/37 [==============================] - 0s 3ms/step - loss: 85133104.0000 - val_loss: 86451552.0000\n",
            "Epoch 24/300\n",
            "37/37 [==============================] - 0s 3ms/step - loss: 84614008.0000 - val_loss: 85947368.0000\n",
            "Epoch 25/300\n",
            "37/37 [==============================] - 0s 3ms/step - loss: 84111176.0000 - val_loss: 85472056.0000\n",
            "Epoch 26/300\n",
            "37/37 [==============================] - 0s 3ms/step - loss: 83619848.0000 - val_loss: 84976816.0000\n",
            "Epoch 27/300\n",
            "37/37 [==============================] - 0s 3ms/step - loss: 83140048.0000 - val_loss: 84488024.0000\n",
            "Epoch 28/300\n",
            "37/37 [==============================] - 0s 3ms/step - loss: 82667328.0000 - val_loss: 84027176.0000\n",
            "Epoch 29/300\n",
            "37/37 [==============================] - 0s 3ms/step - loss: 82199560.0000 - val_loss: 83552528.0000\n",
            "Epoch 30/300\n",
            "37/37 [==============================] - 0s 3ms/step - loss: 81733224.0000 - val_loss: 83104816.0000\n",
            "Epoch 31/300\n",
            "37/37 [==============================] - 0s 3ms/step - loss: 81283376.0000 - val_loss: 82635184.0000\n",
            "Epoch 32/300\n",
            "37/37 [==============================] - 0s 3ms/step - loss: 80815536.0000 - val_loss: 82195864.0000\n",
            "Epoch 33/300\n",
            "37/37 [==============================] - 0s 3ms/step - loss: 80360528.0000 - val_loss: 81753448.0000\n",
            "Epoch 34/300\n",
            "37/37 [==============================] - 0s 3ms/step - loss: 79910024.0000 - val_loss: 81289208.0000\n",
            "Epoch 35/300\n",
            "37/37 [==============================] - 0s 4ms/step - loss: 79458600.0000 - val_loss: 80849288.0000\n",
            "Epoch 36/300\n",
            "37/37 [==============================] - 0s 3ms/step - loss: 79013712.0000 - val_loss: 80417016.0000\n",
            "Epoch 37/300\n",
            "37/37 [==============================] - 0s 3ms/step - loss: 78567040.0000 - val_loss: 79961176.0000\n",
            "Epoch 38/300\n",
            "37/37 [==============================] - 0s 3ms/step - loss: 78118080.0000 - val_loss: 79505104.0000\n",
            "Epoch 39/300\n",
            "37/37 [==============================] - 0s 3ms/step - loss: 77682056.0000 - val_loss: 79083464.0000\n",
            "Epoch 40/300\n",
            "37/37 [==============================] - 0s 3ms/step - loss: 77230104.0000 - val_loss: 78630544.0000\n",
            "Epoch 41/300\n",
            "37/37 [==============================] - 0s 3ms/step - loss: 76791936.0000 - val_loss: 78199056.0000\n",
            "Epoch 42/300\n",
            "37/37 [==============================] - 0s 3ms/step - loss: 76329032.0000 - val_loss: 77720112.0000\n",
            "Epoch 43/300\n",
            "37/37 [==============================] - 0s 3ms/step - loss: 75879640.0000 - val_loss: 77289456.0000\n",
            "Epoch 44/300\n",
            "37/37 [==============================] - 0s 3ms/step - loss: 75430200.0000 - val_loss: 76854504.0000\n",
            "Epoch 45/300\n",
            "37/37 [==============================] - 0s 3ms/step - loss: 74993440.0000 - val_loss: 76413160.0000\n",
            "Epoch 46/300\n",
            "37/37 [==============================] - 0s 3ms/step - loss: 74526816.0000 - val_loss: 75957680.0000\n",
            "Epoch 47/300\n",
            "37/37 [==============================] - 0s 3ms/step - loss: 74075208.0000 - val_loss: 75498400.0000\n",
            "Epoch 48/300\n",
            "37/37 [==============================] - 0s 3ms/step - loss: 73613920.0000 - val_loss: 75062440.0000\n",
            "Epoch 49/300\n",
            "37/37 [==============================] - 0s 3ms/step - loss: 73157520.0000 - val_loss: 74597928.0000\n",
            "Epoch 50/300\n",
            "37/37 [==============================] - 0s 3ms/step - loss: 72707088.0000 - val_loss: 74150880.0000\n",
            "Epoch 51/300\n",
            "37/37 [==============================] - 0s 3ms/step - loss: 72253608.0000 - val_loss: 73673160.0000\n",
            "Epoch 52/300\n",
            "37/37 [==============================] - 0s 3ms/step - loss: 71773632.0000 - val_loss: 73227112.0000\n",
            "Epoch 53/300\n",
            "37/37 [==============================] - 0s 3ms/step - loss: 71315040.0000 - val_loss: 72741128.0000\n",
            "Epoch 54/300\n",
            "37/37 [==============================] - 0s 3ms/step - loss: 70829600.0000 - val_loss: 72301088.0000\n",
            "Epoch 55/300\n",
            "37/37 [==============================] - 0s 3ms/step - loss: 70356792.0000 - val_loss: 71843720.0000\n",
            "Epoch 56/300\n",
            "37/37 [==============================] - 0s 3ms/step - loss: 69876520.0000 - val_loss: 71350920.0000\n",
            "Epoch 57/300\n",
            "37/37 [==============================] - 0s 3ms/step - loss: 69399296.0000 - val_loss: 70879808.0000\n",
            "Epoch 58/300\n",
            "37/37 [==============================] - 0s 3ms/step - loss: 68906240.0000 - val_loss: 70394376.0000\n",
            "Epoch 59/300\n",
            "37/37 [==============================] - 0s 3ms/step - loss: 68416024.0000 - val_loss: 69885672.0000\n",
            "Epoch 60/300\n",
            "37/37 [==============================] - 0s 3ms/step - loss: 67913608.0000 - val_loss: 69404264.0000\n",
            "Epoch 61/300\n",
            "37/37 [==============================] - 0s 3ms/step - loss: 67414688.0000 - val_loss: 68907528.0000\n",
            "Epoch 62/300\n",
            "37/37 [==============================] - 0s 3ms/step - loss: 66913108.0000 - val_loss: 68402680.0000\n",
            "Epoch 63/300\n",
            "37/37 [==============================] - 0s 4ms/step - loss: 66400088.0000 - val_loss: 67889712.0000\n",
            "Epoch 64/300\n",
            "37/37 [==============================] - 0s 3ms/step - loss: 65884024.0000 - val_loss: 67384704.0000\n",
            "Epoch 65/300\n",
            "37/37 [==============================] - 0s 3ms/step - loss: 65385188.0000 - val_loss: 66836136.0000\n",
            "Epoch 66/300\n",
            "37/37 [==============================] - 0s 3ms/step - loss: 64855660.0000 - val_loss: 66337948.0000\n",
            "Epoch 67/300\n",
            "37/37 [==============================] - 0s 3ms/step - loss: 64315820.0000 - val_loss: 65813716.0000\n",
            "Epoch 68/300\n",
            "37/37 [==============================] - 0s 3ms/step - loss: 63755288.0000 - val_loss: 65272268.0000\n",
            "Epoch 69/300\n",
            "37/37 [==============================] - 0s 3ms/step - loss: 63206500.0000 - val_loss: 64727040.0000\n",
            "Epoch 70/300\n",
            "37/37 [==============================] - 0s 3ms/step - loss: 62656532.0000 - val_loss: 64165200.0000\n",
            "Epoch 71/300\n",
            "37/37 [==============================] - 0s 3ms/step - loss: 62103768.0000 - val_loss: 63605668.0000\n",
            "Epoch 72/300\n",
            "37/37 [==============================] - 0s 3ms/step - loss: 61513648.0000 - val_loss: 63021460.0000\n",
            "Epoch 73/300\n",
            "37/37 [==============================] - 0s 3ms/step - loss: 60945164.0000 - val_loss: 62460324.0000\n",
            "Epoch 74/300\n",
            "37/37 [==============================] - 0s 3ms/step - loss: 60360040.0000 - val_loss: 61854980.0000\n",
            "Epoch 75/300\n",
            "37/37 [==============================] - 0s 3ms/step - loss: 59761476.0000 - val_loss: 61265572.0000\n",
            "Epoch 76/300\n",
            "37/37 [==============================] - 0s 4ms/step - loss: 59143400.0000 - val_loss: 60657180.0000\n",
            "Epoch 77/300\n",
            "37/37 [==============================] - 0s 3ms/step - loss: 58539060.0000 - val_loss: 60031796.0000\n",
            "Epoch 78/300\n",
            "37/37 [==============================] - 0s 3ms/step - loss: 57898384.0000 - val_loss: 59378744.0000\n",
            "Epoch 79/300\n",
            "37/37 [==============================] - 0s 3ms/step - loss: 57256240.0000 - val_loss: 58744048.0000\n",
            "Epoch 80/300\n",
            "37/37 [==============================] - 0s 3ms/step - loss: 56606800.0000 - val_loss: 58098396.0000\n",
            "Epoch 81/300\n",
            "37/37 [==============================] - 0s 3ms/step - loss: 55958036.0000 - val_loss: 57458024.0000\n",
            "Epoch 82/300\n",
            "37/37 [==============================] - 0s 4ms/step - loss: 55286396.0000 - val_loss: 56742480.0000\n",
            "Epoch 83/300\n",
            "37/37 [==============================] - 0s 3ms/step - loss: 54600836.0000 - val_loss: 56072736.0000\n",
            "Epoch 84/300\n",
            "37/37 [==============================] - 0s 3ms/step - loss: 53911912.0000 - val_loss: 55357492.0000\n",
            "Epoch 85/300\n",
            "37/37 [==============================] - 0s 3ms/step - loss: 53191832.0000 - val_loss: 54645716.0000\n",
            "Epoch 86/300\n",
            "37/37 [==============================] - 0s 3ms/step - loss: 52480924.0000 - val_loss: 53919224.0000\n",
            "Epoch 87/300\n",
            "37/37 [==============================] - 0s 3ms/step - loss: 51755676.0000 - val_loss: 53201280.0000\n",
            "Epoch 88/300\n",
            "37/37 [==============================] - 0s 3ms/step - loss: 51032844.0000 - val_loss: 52432620.0000\n",
            "Epoch 89/300\n",
            "37/37 [==============================] - 0s 3ms/step - loss: 50264296.0000 - val_loss: 51671952.0000\n",
            "Epoch 90/300\n",
            "37/37 [==============================] - 0s 3ms/step - loss: 49508328.0000 - val_loss: 50915632.0000\n",
            "Epoch 91/300\n",
            "37/37 [==============================] - 0s 3ms/step - loss: 48743620.0000 - val_loss: 50115836.0000\n",
            "Epoch 92/300\n",
            "37/37 [==============================] - 0s 3ms/step - loss: 47959000.0000 - val_loss: 49318244.0000\n",
            "Epoch 93/300\n",
            "37/37 [==============================] - 0s 3ms/step - loss: 47179664.0000 - val_loss: 48512000.0000\n",
            "Epoch 94/300\n",
            "37/37 [==============================] - 0s 3ms/step - loss: 46400288.0000 - val_loss: 47725556.0000\n",
            "Epoch 95/300\n",
            "37/37 [==============================] - 0s 4ms/step - loss: 45612460.0000 - val_loss: 46926884.0000\n",
            "Epoch 96/300\n",
            "37/37 [==============================] - 0s 3ms/step - loss: 44815552.0000 - val_loss: 46090100.0000\n",
            "Epoch 97/300\n",
            "37/37 [==============================] - 0s 3ms/step - loss: 44032256.0000 - val_loss: 45277440.0000\n",
            "Epoch 98/300\n",
            "37/37 [==============================] - 0s 3ms/step - loss: 43260892.0000 - val_loss: 44484304.0000\n",
            "Epoch 99/300\n",
            "37/37 [==============================] - 0s 3ms/step - loss: 42466012.0000 - val_loss: 43715328.0000\n",
            "Epoch 100/300\n",
            "37/37 [==============================] - 0s 3ms/step - loss: 41695588.0000 - val_loss: 42877936.0000\n",
            "Epoch 101/300\n",
            "37/37 [==============================] - 0s 3ms/step - loss: 40911088.0000 - val_loss: 42086796.0000\n",
            "Epoch 102/300\n",
            "37/37 [==============================] - 0s 3ms/step - loss: 40125508.0000 - val_loss: 41289976.0000\n",
            "Epoch 103/300\n",
            "37/37 [==============================] - 0s 3ms/step - loss: 39400832.0000 - val_loss: 40537580.0000\n",
            "Epoch 104/300\n",
            "37/37 [==============================] - 0s 3ms/step - loss: 38590732.0000 - val_loss: 39705236.0000\n",
            "Epoch 105/300\n",
            "37/37 [==============================] - 0s 3ms/step - loss: 37814892.0000 - val_loss: 38920748.0000\n",
            "Epoch 106/300\n",
            "37/37 [==============================] - 0s 3ms/step - loss: 37077776.0000 - val_loss: 38144016.0000\n",
            "Epoch 107/300\n",
            "37/37 [==============================] - 0s 3ms/step - loss: 36373072.0000 - val_loss: 37415164.0000\n",
            "Epoch 108/300\n",
            "37/37 [==============================] - 0s 3ms/step - loss: 35640084.0000 - val_loss: 36681588.0000\n",
            "Epoch 109/300\n",
            "37/37 [==============================] - 0s 3ms/step - loss: 34933808.0000 - val_loss: 35965756.0000\n",
            "Epoch 110/300\n",
            "37/37 [==============================] - 0s 3ms/step - loss: 34247748.0000 - val_loss: 35273012.0000\n",
            "Epoch 111/300\n",
            "37/37 [==============================] - 0s 3ms/step - loss: 33588108.0000 - val_loss: 34582896.0000\n",
            "Epoch 112/300\n",
            "37/37 [==============================] - 0s 3ms/step - loss: 32945260.0000 - val_loss: 33927344.0000\n",
            "Epoch 113/300\n",
            "37/37 [==============================] - 0s 3ms/step - loss: 32280738.0000 - val_loss: 33277206.0000\n",
            "Epoch 114/300\n",
            "37/37 [==============================] - 0s 3ms/step - loss: 31658128.0000 - val_loss: 32651532.0000\n",
            "Epoch 115/300\n",
            "37/37 [==============================] - 0s 3ms/step - loss: 31059792.0000 - val_loss: 32052386.0000\n",
            "Epoch 116/300\n",
            "37/37 [==============================] - 0s 3ms/step - loss: 30487838.0000 - val_loss: 31500728.0000\n",
            "Epoch 117/300\n",
            "37/37 [==============================] - 0s 3ms/step - loss: 29938662.0000 - val_loss: 30960532.0000\n",
            "Epoch 118/300\n",
            "37/37 [==============================] - 0s 3ms/step - loss: 29412610.0000 - val_loss: 30432842.0000\n",
            "Epoch 119/300\n",
            "37/37 [==============================] - 0s 3ms/step - loss: 28933878.0000 - val_loss: 29948694.0000\n",
            "Epoch 120/300\n",
            "37/37 [==============================] - 0s 3ms/step - loss: 28482656.0000 - val_loss: 29506978.0000\n",
            "Epoch 121/300\n",
            "37/37 [==============================] - 0s 3ms/step - loss: 28053380.0000 - val_loss: 29078694.0000\n",
            "Epoch 122/300\n",
            "37/37 [==============================] - 0s 3ms/step - loss: 27662518.0000 - val_loss: 28700422.0000\n",
            "Epoch 123/300\n",
            "37/37 [==============================] - 0s 3ms/step - loss: 27306938.0000 - val_loss: 28359740.0000\n",
            "Epoch 124/300\n",
            "37/37 [==============================] - 0s 3ms/step - loss: 26963648.0000 - val_loss: 28033944.0000\n",
            "Epoch 125/300\n",
            "37/37 [==============================] - 0s 3ms/step - loss: 26642984.0000 - val_loss: 27706114.0000\n",
            "Epoch 126/300\n",
            "37/37 [==============================] - 0s 3ms/step - loss: 26350426.0000 - val_loss: 27439566.0000\n",
            "Epoch 127/300\n",
            "37/37 [==============================] - 0s 3ms/step - loss: 26102878.0000 - val_loss: 27211200.0000\n",
            "Epoch 128/300\n",
            "37/37 [==============================] - 0s 3ms/step - loss: 25865330.0000 - val_loss: 26933630.0000\n",
            "Epoch 129/300\n",
            "37/37 [==============================] - 0s 3ms/step - loss: 25618916.0000 - val_loss: 26713818.0000\n",
            "Epoch 130/300\n",
            "37/37 [==============================] - 0s 3ms/step - loss: 25446442.0000 - val_loss: 26536520.0000\n",
            "Epoch 131/300\n",
            "37/37 [==============================] - 0s 3ms/step - loss: 25223300.0000 - val_loss: 26313812.0000\n",
            "Epoch 132/300\n",
            "37/37 [==============================] - 0s 3ms/step - loss: 25039512.0000 - val_loss: 26131252.0000\n",
            "Epoch 133/300\n",
            "37/37 [==============================] - 0s 3ms/step - loss: 24872448.0000 - val_loss: 25954044.0000\n",
            "Epoch 134/300\n",
            "37/37 [==============================] - 0s 3ms/step - loss: 24695714.0000 - val_loss: 25814808.0000\n",
            "Epoch 135/300\n",
            "37/37 [==============================] - 0s 3ms/step - loss: 24546648.0000 - val_loss: 25658370.0000\n",
            "Epoch 136/300\n",
            "37/37 [==============================] - 0s 3ms/step - loss: 24401694.0000 - val_loss: 25506664.0000\n",
            "Epoch 137/300\n",
            "37/37 [==============================] - 0s 3ms/step - loss: 24276732.0000 - val_loss: 25389052.0000\n",
            "Epoch 138/300\n",
            "37/37 [==============================] - 0s 3ms/step - loss: 24162872.0000 - val_loss: 25256678.0000\n",
            "Epoch 139/300\n",
            "37/37 [==============================] - 0s 3ms/step - loss: 24047874.0000 - val_loss: 25134202.0000\n",
            "Epoch 140/300\n",
            "37/37 [==============================] - 0s 3ms/step - loss: 23931842.0000 - val_loss: 25034722.0000\n",
            "Epoch 141/300\n",
            "37/37 [==============================] - 0s 3ms/step - loss: 23823604.0000 - val_loss: 24962848.0000\n",
            "Epoch 142/300\n",
            "37/37 [==============================] - 0s 3ms/step - loss: 23709718.0000 - val_loss: 24815754.0000\n",
            "Epoch 143/300\n",
            "37/37 [==============================] - 0s 3ms/step - loss: 23616588.0000 - val_loss: 24726970.0000\n",
            "Epoch 144/300\n",
            "37/37 [==============================] - 0s 3ms/step - loss: 23522180.0000 - val_loss: 24636172.0000\n",
            "Epoch 145/300\n",
            "37/37 [==============================] - 0s 3ms/step - loss: 23427160.0000 - val_loss: 24537836.0000\n",
            "Epoch 146/300\n",
            "37/37 [==============================] - 0s 3ms/step - loss: 23355222.0000 - val_loss: 24485854.0000\n",
            "Epoch 147/300\n",
            "37/37 [==============================] - 0s 3ms/step - loss: 23278574.0000 - val_loss: 24370528.0000\n",
            "Epoch 148/300\n",
            "37/37 [==============================] - 0s 3ms/step - loss: 23208724.0000 - val_loss: 24305672.0000\n",
            "Epoch 149/300\n",
            "37/37 [==============================] - 0s 3ms/step - loss: 23115924.0000 - val_loss: 24225234.0000\n",
            "Epoch 150/300\n",
            "37/37 [==============================] - 0s 3ms/step - loss: 23040870.0000 - val_loss: 24142094.0000\n",
            "Epoch 151/300\n",
            "37/37 [==============================] - 0s 3ms/step - loss: 22969572.0000 - val_loss: 24085182.0000\n",
            "Epoch 152/300\n",
            "37/37 [==============================] - 0s 3ms/step - loss: 22907688.0000 - val_loss: 24036462.0000\n",
            "Epoch 153/300\n",
            "37/37 [==============================] - 0s 4ms/step - loss: 22848800.0000 - val_loss: 24008036.0000\n",
            "Epoch 154/300\n",
            "37/37 [==============================] - 0s 3ms/step - loss: 22776266.0000 - val_loss: 23872368.0000\n",
            "Epoch 155/300\n",
            "37/37 [==============================] - 0s 3ms/step - loss: 22692180.0000 - val_loss: 23812898.0000\n",
            "Epoch 156/300\n",
            "37/37 [==============================] - 0s 3ms/step - loss: 22637752.0000 - val_loss: 23752366.0000\n",
            "Epoch 157/300\n",
            "37/37 [==============================] - 0s 3ms/step - loss: 22591502.0000 - val_loss: 23794186.0000\n",
            "Epoch 158/300\n",
            "37/37 [==============================] - 0s 3ms/step - loss: 22528898.0000 - val_loss: 23639928.0000\n",
            "Epoch 159/300\n",
            "37/37 [==============================] - 0s 3ms/step - loss: 22452584.0000 - val_loss: 23594490.0000\n",
            "Epoch 160/300\n",
            "37/37 [==============================] - 0s 3ms/step - loss: 22403598.0000 - val_loss: 23532192.0000\n",
            "Epoch 161/300\n",
            "37/37 [==============================] - 0s 3ms/step - loss: 22357008.0000 - val_loss: 23492920.0000\n",
            "Epoch 162/300\n",
            "37/37 [==============================] - 0s 3ms/step - loss: 22294188.0000 - val_loss: 23426194.0000\n",
            "Epoch 163/300\n",
            "37/37 [==============================] - 0s 3ms/step - loss: 22235416.0000 - val_loss: 23386668.0000\n",
            "Epoch 164/300\n",
            "37/37 [==============================] - 0s 3ms/step - loss: 22183410.0000 - val_loss: 23369922.0000\n",
            "Epoch 165/300\n",
            "37/37 [==============================] - 0s 3ms/step - loss: 22149666.0000 - val_loss: 23277044.0000\n",
            "Epoch 166/300\n",
            "37/37 [==============================] - 0s 3ms/step - loss: 22082488.0000 - val_loss: 23249080.0000\n",
            "Epoch 167/300\n",
            "37/37 [==============================] - 0s 3ms/step - loss: 22030032.0000 - val_loss: 23183162.0000\n",
            "Epoch 168/300\n",
            "37/37 [==============================] - 0s 3ms/step - loss: 21984148.0000 - val_loss: 23154332.0000\n",
            "Epoch 169/300\n",
            "37/37 [==============================] - 0s 3ms/step - loss: 21974406.0000 - val_loss: 23096508.0000\n",
            "Epoch 170/300\n",
            "37/37 [==============================] - 0s 3ms/step - loss: 21898082.0000 - val_loss: 23051878.0000\n",
            "Epoch 171/300\n",
            "37/37 [==============================] - 0s 3ms/step - loss: 21849514.0000 - val_loss: 23008150.0000\n",
            "Epoch 172/300\n",
            "37/37 [==============================] - 0s 3ms/step - loss: 21808796.0000 - val_loss: 23004160.0000\n",
            "Epoch 173/300\n",
            "37/37 [==============================] - 0s 3ms/step - loss: 21776476.0000 - val_loss: 22955012.0000\n",
            "Epoch 174/300\n",
            "37/37 [==============================] - 0s 3ms/step - loss: 21704852.0000 - val_loss: 22903382.0000\n",
            "Epoch 175/300\n",
            "37/37 [==============================] - 0s 3ms/step - loss: 21675716.0000 - val_loss: 22900116.0000\n",
            "Epoch 176/300\n",
            "37/37 [==============================] - 0s 3ms/step - loss: 21620966.0000 - val_loss: 22789438.0000\n",
            "Epoch 177/300\n",
            "37/37 [==============================] - 0s 3ms/step - loss: 21578278.0000 - val_loss: 22745420.0000\n",
            "Epoch 178/300\n",
            "37/37 [==============================] - 0s 3ms/step - loss: 21528628.0000 - val_loss: 22710274.0000\n",
            "Epoch 179/300\n",
            "37/37 [==============================] - 0s 3ms/step - loss: 21469684.0000 - val_loss: 22671332.0000\n",
            "Epoch 180/300\n",
            "37/37 [==============================] - 0s 3ms/step - loss: 21416712.0000 - val_loss: 22685366.0000\n",
            "Epoch 181/300\n",
            "37/37 [==============================] - 0s 3ms/step - loss: 21401990.0000 - val_loss: 22580024.0000\n",
            "Epoch 182/300\n",
            "37/37 [==============================] - 0s 3ms/step - loss: 21326138.0000 - val_loss: 22572050.0000\n",
            "Epoch 183/300\n",
            "37/37 [==============================] - 0s 3ms/step - loss: 21318364.0000 - val_loss: 22505088.0000\n",
            "Epoch 184/300\n",
            "37/37 [==============================] - 0s 3ms/step - loss: 21254770.0000 - val_loss: 22475686.0000\n",
            "Epoch 185/300\n",
            "37/37 [==============================] - 0s 3ms/step - loss: 21246206.0000 - val_loss: 22426270.0000\n",
            "Epoch 186/300\n",
            "37/37 [==============================] - 0s 3ms/step - loss: 21148498.0000 - val_loss: 22420086.0000\n",
            "Epoch 187/300\n",
            "37/37 [==============================] - 0s 4ms/step - loss: 21104102.0000 - val_loss: 22360368.0000\n",
            "Epoch 188/300\n",
            "37/37 [==============================] - 0s 3ms/step - loss: 21064342.0000 - val_loss: 22325924.0000\n",
            "Epoch 189/300\n",
            "37/37 [==============================] - 0s 3ms/step - loss: 21020956.0000 - val_loss: 22295842.0000\n",
            "Epoch 190/300\n",
            "37/37 [==============================] - 0s 3ms/step - loss: 20979182.0000 - val_loss: 22259190.0000\n",
            "Epoch 191/300\n",
            "37/37 [==============================] - 0s 3ms/step - loss: 20938384.0000 - val_loss: 22231104.0000\n",
            "Epoch 192/300\n",
            "37/37 [==============================] - 0s 4ms/step - loss: 20908428.0000 - val_loss: 22193682.0000\n",
            "Epoch 193/300\n",
            "37/37 [==============================] - 0s 3ms/step - loss: 20870798.0000 - val_loss: 22183122.0000\n",
            "Epoch 194/300\n",
            "37/37 [==============================] - 0s 3ms/step - loss: 20840866.0000 - val_loss: 22132218.0000\n",
            "Epoch 195/300\n",
            "37/37 [==============================] - 0s 3ms/step - loss: 20793698.0000 - val_loss: 22126122.0000\n",
            "Epoch 196/300\n",
            "37/37 [==============================] - 0s 3ms/step - loss: 20747758.0000 - val_loss: 22068518.0000\n",
            "Epoch 197/300\n",
            "37/37 [==============================] - 0s 3ms/step - loss: 20724054.0000 - val_loss: 22045836.0000\n",
            "Epoch 198/300\n",
            "37/37 [==============================] - 0s 3ms/step - loss: 20706740.0000 - val_loss: 22019568.0000\n",
            "Epoch 199/300\n",
            "37/37 [==============================] - 0s 3ms/step - loss: 20663014.0000 - val_loss: 21975548.0000\n",
            "Epoch 200/300\n",
            "37/37 [==============================] - 0s 3ms/step - loss: 20626782.0000 - val_loss: 21956902.0000\n",
            "Epoch 201/300\n",
            "37/37 [==============================] - 0s 3ms/step - loss: 20563640.0000 - val_loss: 21930776.0000\n",
            "Epoch 202/300\n",
            "37/37 [==============================] - 0s 3ms/step - loss: 20533266.0000 - val_loss: 21886952.0000\n",
            "Epoch 203/300\n",
            "37/37 [==============================] - 0s 3ms/step - loss: 20493460.0000 - val_loss: 21859522.0000\n",
            "Epoch 204/300\n",
            "37/37 [==============================] - 0s 3ms/step - loss: 20466882.0000 - val_loss: 21841634.0000\n",
            "Epoch 205/300\n",
            "37/37 [==============================] - 0s 3ms/step - loss: 20430854.0000 - val_loss: 21839660.0000\n",
            "Epoch 206/300\n",
            "37/37 [==============================] - 0s 3ms/step - loss: 20416080.0000 - val_loss: 21834196.0000\n",
            "Epoch 207/300\n",
            "37/37 [==============================] - 0s 3ms/step - loss: 20353118.0000 - val_loss: 21760636.0000\n",
            "Epoch 208/300\n",
            "37/37 [==============================] - 0s 3ms/step - loss: 20321486.0000 - val_loss: 21775054.0000\n",
            "Epoch 209/300\n",
            "37/37 [==============================] - 0s 3ms/step - loss: 20334054.0000 - val_loss: 21728534.0000\n",
            "Epoch 210/300\n",
            "37/37 [==============================] - 0s 3ms/step - loss: 20281586.0000 - val_loss: 21702532.0000\n",
            "Epoch 211/300\n",
            "37/37 [==============================] - 0s 3ms/step - loss: 20246746.0000 - val_loss: 21700788.0000\n",
            "Epoch 212/300\n",
            "37/37 [==============================] - 0s 3ms/step - loss: 20243930.0000 - val_loss: 21675418.0000\n",
            "Epoch 213/300\n",
            "37/37 [==============================] - 0s 3ms/step - loss: 20214016.0000 - val_loss: 21643396.0000\n",
            "Epoch 214/300\n",
            "37/37 [==============================] - 0s 3ms/step - loss: 20185968.0000 - val_loss: 21615924.0000\n",
            "Epoch 215/300\n",
            "37/37 [==============================] - 0s 3ms/step - loss: 20167994.0000 - val_loss: 21595670.0000\n",
            "Epoch 216/300\n",
            "37/37 [==============================] - 0s 3ms/step - loss: 20143692.0000 - val_loss: 21627158.0000\n",
            "Epoch 217/300\n",
            "37/37 [==============================] - 0s 3ms/step - loss: 20127194.0000 - val_loss: 21605872.0000\n",
            "Epoch 218/300\n",
            "37/37 [==============================] - 0s 3ms/step - loss: 20129484.0000 - val_loss: 21570706.0000\n",
            "Epoch 219/300\n",
            "37/37 [==============================] - 0s 3ms/step - loss: 20078744.0000 - val_loss: 21523336.0000\n",
            "Epoch 220/300\n",
            "37/37 [==============================] - 0s 3ms/step - loss: 20073748.0000 - val_loss: 21543064.0000\n",
            "Epoch 221/300\n",
            "37/37 [==============================] - 0s 4ms/step - loss: 20046068.0000 - val_loss: 21481514.0000\n",
            "Epoch 222/300\n",
            "37/37 [==============================] - 0s 3ms/step - loss: 20005664.0000 - val_loss: 21464966.0000\n",
            "Epoch 223/300\n",
            "37/37 [==============================] - 0s 3ms/step - loss: 19998932.0000 - val_loss: 21456962.0000\n",
            "Epoch 224/300\n",
            "37/37 [==============================] - 0s 3ms/step - loss: 20004526.0000 - val_loss: 21433476.0000\n",
            "Epoch 225/300\n",
            "37/37 [==============================] - 0s 3ms/step - loss: 19963384.0000 - val_loss: 21413522.0000\n",
            "Epoch 226/300\n",
            "37/37 [==============================] - 0s 3ms/step - loss: 19927338.0000 - val_loss: 21431270.0000\n",
            "Epoch 227/300\n",
            "37/37 [==============================] - 0s 3ms/step - loss: 19927456.0000 - val_loss: 21391198.0000\n",
            "Epoch 228/300\n",
            "37/37 [==============================] - 0s 3ms/step - loss: 19909862.0000 - val_loss: 21369382.0000\n",
            "Epoch 229/300\n",
            "37/37 [==============================] - 0s 3ms/step - loss: 19903434.0000 - val_loss: 21358268.0000\n",
            "Epoch 230/300\n",
            "37/37 [==============================] - 0s 3ms/step - loss: 19864258.0000 - val_loss: 21360628.0000\n",
            "Epoch 231/300\n",
            "37/37 [==============================] - 0s 3ms/step - loss: 19851560.0000 - val_loss: 21364602.0000\n",
            "Epoch 232/300\n",
            "37/37 [==============================] - 0s 3ms/step - loss: 19859060.0000 - val_loss: 21293650.0000\n",
            "Epoch 233/300\n",
            "37/37 [==============================] - 0s 3ms/step - loss: 19813238.0000 - val_loss: 21294452.0000\n",
            "Epoch 234/300\n",
            "37/37 [==============================] - 0s 3ms/step - loss: 19812200.0000 - val_loss: 21277360.0000\n",
            "Epoch 235/300\n",
            "37/37 [==============================] - 0s 3ms/step - loss: 19774396.0000 - val_loss: 21253660.0000\n",
            "Epoch 236/300\n",
            "37/37 [==============================] - 0s 3ms/step - loss: 19772634.0000 - val_loss: 21255456.0000\n",
            "Epoch 237/300\n",
            "37/37 [==============================] - 0s 3ms/step - loss: 19744890.0000 - val_loss: 21244296.0000\n",
            "Epoch 238/300\n",
            "37/37 [==============================] - 0s 3ms/step - loss: 19761496.0000 - val_loss: 21212356.0000\n",
            "Epoch 239/300\n",
            "37/37 [==============================] - 0s 3ms/step - loss: 19725496.0000 - val_loss: 21205578.0000\n",
            "Epoch 240/300\n",
            "37/37 [==============================] - 0s 3ms/step - loss: 19708206.0000 - val_loss: 21191150.0000\n",
            "Epoch 241/300\n",
            "37/37 [==============================] - 0s 3ms/step - loss: 19699226.0000 - val_loss: 21206356.0000\n",
            "Epoch 242/300\n",
            "37/37 [==============================] - 0s 4ms/step - loss: 19690482.0000 - val_loss: 21172872.0000\n",
            "Epoch 243/300\n",
            "37/37 [==============================] - 0s 3ms/step - loss: 19667940.0000 - val_loss: 21153226.0000\n",
            "Epoch 244/300\n",
            "37/37 [==============================] - 0s 3ms/step - loss: 19670584.0000 - val_loss: 21169742.0000\n",
            "Epoch 245/300\n",
            "37/37 [==============================] - 0s 3ms/step - loss: 19664860.0000 - val_loss: 21123598.0000\n",
            "Epoch 246/300\n",
            "37/37 [==============================] - 0s 3ms/step - loss: 19629762.0000 - val_loss: 21123612.0000\n",
            "Epoch 247/300\n",
            "37/37 [==============================] - 0s 3ms/step - loss: 19632034.0000 - val_loss: 21083738.0000\n",
            "Epoch 248/300\n",
            "37/37 [==============================] - 0s 3ms/step - loss: 19616254.0000 - val_loss: 21104762.0000\n",
            "Epoch 249/300\n",
            "37/37 [==============================] - 0s 3ms/step - loss: 19588558.0000 - val_loss: 21087528.0000\n",
            "Epoch 250/300\n",
            "37/37 [==============================] - 0s 4ms/step - loss: 19601568.0000 - val_loss: 21054000.0000\n",
            "Epoch 251/300\n",
            "37/37 [==============================] - 0s 3ms/step - loss: 19580202.0000 - val_loss: 21041258.0000\n",
            "Epoch 252/300\n",
            "37/37 [==============================] - 0s 3ms/step - loss: 19558824.0000 - val_loss: 21040802.0000\n",
            "Epoch 253/300\n",
            "37/37 [==============================] - 0s 3ms/step - loss: 19547778.0000 - val_loss: 21017560.0000\n",
            "Epoch 254/300\n",
            "37/37 [==============================] - 0s 3ms/step - loss: 19536724.0000 - val_loss: 21110366.0000\n",
            "Epoch 255/300\n",
            "37/37 [==============================] - 0s 3ms/step - loss: 19569452.0000 - val_loss: 20996090.0000\n",
            "Epoch 256/300\n",
            "37/37 [==============================] - 0s 3ms/step - loss: 19512250.0000 - val_loss: 20992022.0000\n",
            "Epoch 257/300\n",
            "37/37 [==============================] - 0s 3ms/step - loss: 19527134.0000 - val_loss: 20981534.0000\n",
            "Epoch 258/300\n",
            "37/37 [==============================] - 0s 3ms/step - loss: 19492162.0000 - val_loss: 20950014.0000\n",
            "Epoch 259/300\n",
            "37/37 [==============================] - 0s 4ms/step - loss: 19491104.0000 - val_loss: 20968346.0000\n",
            "Epoch 260/300\n",
            "37/37 [==============================] - 0s 3ms/step - loss: 19467918.0000 - val_loss: 21120202.0000\n",
            "Epoch 261/300\n",
            "37/37 [==============================] - 0s 4ms/step - loss: 19519786.0000 - val_loss: 20941682.0000\n",
            "Epoch 262/300\n",
            "37/37 [==============================] - 0s 4ms/step - loss: 19450546.0000 - val_loss: 20914000.0000\n",
            "Epoch 263/300\n",
            "37/37 [==============================] - 0s 4ms/step - loss: 19437122.0000 - val_loss: 20895492.0000\n",
            "Epoch 264/300\n",
            "37/37 [==============================] - 0s 3ms/step - loss: 19409620.0000 - val_loss: 20883946.0000\n",
            "Epoch 265/300\n",
            "37/37 [==============================] - 0s 3ms/step - loss: 19435152.0000 - val_loss: 20868464.0000\n",
            "Epoch 266/300\n",
            "37/37 [==============================] - 0s 3ms/step - loss: 19391896.0000 - val_loss: 20864970.0000\n",
            "Epoch 267/300\n",
            "37/37 [==============================] - 0s 3ms/step - loss: 19383088.0000 - val_loss: 20856422.0000\n",
            "Epoch 268/300\n",
            "37/37 [==============================] - 0s 3ms/step - loss: 19385372.0000 - val_loss: 20838978.0000\n",
            "Epoch 269/300\n",
            "37/37 [==============================] - 0s 3ms/step - loss: 19362638.0000 - val_loss: 20829826.0000\n",
            "Epoch 270/300\n",
            "37/37 [==============================] - 0s 3ms/step - loss: 19347852.0000 - val_loss: 20873698.0000\n",
            "Epoch 271/300\n",
            "37/37 [==============================] - 0s 3ms/step - loss: 19327898.0000 - val_loss: 20806510.0000\n",
            "Epoch 272/300\n",
            "37/37 [==============================] - 0s 3ms/step - loss: 19321434.0000 - val_loss: 20807054.0000\n",
            "Epoch 273/300\n",
            "37/37 [==============================] - 0s 3ms/step - loss: 19309610.0000 - val_loss: 20785526.0000\n",
            "Epoch 274/300\n",
            "37/37 [==============================] - 0s 3ms/step - loss: 19309954.0000 - val_loss: 20844458.0000\n",
            "Epoch 275/300\n",
            "37/37 [==============================] - 0s 3ms/step - loss: 19309072.0000 - val_loss: 20770546.0000\n",
            "Epoch 276/300\n",
            "37/37 [==============================] - 0s 4ms/step - loss: 19277558.0000 - val_loss: 20758886.0000\n",
            "Epoch 277/300\n",
            "37/37 [==============================] - 0s 3ms/step - loss: 19262580.0000 - val_loss: 20758588.0000\n",
            "Epoch 278/300\n",
            "37/37 [==============================] - 0s 3ms/step - loss: 19273178.0000 - val_loss: 20735050.0000\n",
            "Epoch 279/300\n",
            "37/37 [==============================] - 0s 5ms/step - loss: 19250484.0000 - val_loss: 20732090.0000\n",
            "Epoch 280/300\n",
            "37/37 [==============================] - 0s 3ms/step - loss: 19236030.0000 - val_loss: 20736956.0000\n",
            "Epoch 281/300\n",
            "37/37 [==============================] - 0s 3ms/step - loss: 19226906.0000 - val_loss: 20730276.0000\n",
            "Epoch 282/300\n",
            "37/37 [==============================] - 0s 3ms/step - loss: 19220144.0000 - val_loss: 20714792.0000\n",
            "Epoch 283/300\n",
            "37/37 [==============================] - 0s 3ms/step - loss: 19206662.0000 - val_loss: 20697326.0000\n",
            "Epoch 284/300\n",
            "37/37 [==============================] - 0s 3ms/step - loss: 19201014.0000 - val_loss: 20709208.0000\n",
            "Epoch 285/300\n",
            "37/37 [==============================] - 0s 3ms/step - loss: 19194668.0000 - val_loss: 20674952.0000\n",
            "Epoch 286/300\n",
            "37/37 [==============================] - 0s 3ms/step - loss: 19198836.0000 - val_loss: 20664888.0000\n",
            "Epoch 287/300\n",
            "37/37 [==============================] - 0s 3ms/step - loss: 19159844.0000 - val_loss: 20710948.0000\n",
            "Epoch 288/300\n",
            "37/37 [==============================] - 0s 3ms/step - loss: 19164532.0000 - val_loss: 20666022.0000\n",
            "Epoch 289/300\n",
            "37/37 [==============================] - 0s 3ms/step - loss: 19145662.0000 - val_loss: 20643660.0000\n",
            "Epoch 290/300\n",
            "37/37 [==============================] - 0s 3ms/step - loss: 19145508.0000 - val_loss: 20633326.0000\n",
            "Epoch 291/300\n",
            "37/37 [==============================] - 0s 3ms/step - loss: 19150754.0000 - val_loss: 20638172.0000\n",
            "Epoch 292/300\n",
            "37/37 [==============================] - 0s 3ms/step - loss: 19129032.0000 - val_loss: 20621670.0000\n",
            "Epoch 293/300\n",
            "37/37 [==============================] - 0s 3ms/step - loss: 19137412.0000 - val_loss: 20616596.0000\n",
            "Epoch 294/300\n",
            "37/37 [==============================] - 0s 3ms/step - loss: 19104620.0000 - val_loss: 20609680.0000\n",
            "Epoch 295/300\n",
            "37/37 [==============================] - 0s 4ms/step - loss: 19102450.0000 - val_loss: 20615862.0000\n",
            "Epoch 296/300\n",
            "37/37 [==============================] - 0s 3ms/step - loss: 19084964.0000 - val_loss: 20584034.0000\n",
            "Epoch 297/300\n",
            "37/37 [==============================] - 0s 3ms/step - loss: 19069362.0000 - val_loss: 20608032.0000\n",
            "Epoch 298/300\n",
            "37/37 [==============================] - 0s 3ms/step - loss: 19069654.0000 - val_loss: 20575728.0000\n",
            "Epoch 299/300\n",
            "37/37 [==============================] - 0s 3ms/step - loss: 19070594.0000 - val_loss: 20576404.0000\n",
            "Epoch 300/300\n",
            "37/37 [==============================] - 0s 3ms/step - loss: 19084912.0000 - val_loss: 20726690.0000\n"
          ]
        },
        {
          "output_type": "execute_result",
          "data": {
            "text/plain": [
              "<keras.callbacks.History at 0x7fbff34f3c10>"
            ]
          },
          "metadata": {},
          "execution_count": 63
        }
      ]
    },
    {
      "cell_type": "code",
      "source": [
        "kayipv =pd.DataFrame(model.history.history)\n",
        "kayipv.head()"
      ],
      "metadata": {
        "colab": {
          "base_uri": "https://localhost:8080/",
          "height": 206
        },
        "id": "GL5N5KDyRBaC",
        "outputId": "4924d3fc-da08-4174-e519-bf504f17fbb8"
      },
      "execution_count": 65,
      "outputs": [
        {
          "output_type": "execute_result",
          "data": {
            "text/html": [
              "\n",
              "  <div id=\"df-ba962fea-1209-4a12-9e5f-a937ed30252c\">\n",
              "    <div class=\"colab-df-container\">\n",
              "      <div>\n",
              "<style scoped>\n",
              "    .dataframe tbody tr th:only-of-type {\n",
              "        vertical-align: middle;\n",
              "    }\n",
              "\n",
              "    .dataframe tbody tr th {\n",
              "        vertical-align: top;\n",
              "    }\n",
              "\n",
              "    .dataframe thead th {\n",
              "        text-align: right;\n",
              "    }\n",
              "</style>\n",
              "<table border=\"1\" class=\"dataframe\">\n",
              "  <thead>\n",
              "    <tr style=\"text-align: right;\">\n",
              "      <th></th>\n",
              "      <th>loss</th>\n",
              "      <th>val_loss</th>\n",
              "    </tr>\n",
              "  </thead>\n",
              "  <tbody>\n",
              "    <tr>\n",
              "      <th>0</th>\n",
              "      <td>672140480.0</td>\n",
              "      <td>688094720.0</td>\n",
              "    </tr>\n",
              "    <tr>\n",
              "      <th>1</th>\n",
              "      <td>672106432.0</td>\n",
              "      <td>688030464.0</td>\n",
              "    </tr>\n",
              "    <tr>\n",
              "      <th>2</th>\n",
              "      <td>671981184.0</td>\n",
              "      <td>687806592.0</td>\n",
              "    </tr>\n",
              "    <tr>\n",
              "      <th>3</th>\n",
              "      <td>671588672.0</td>\n",
              "      <td>687147968.0</td>\n",
              "    </tr>\n",
              "    <tr>\n",
              "      <th>4</th>\n",
              "      <td>670521472.0</td>\n",
              "      <td>685475520.0</td>\n",
              "    </tr>\n",
              "  </tbody>\n",
              "</table>\n",
              "</div>\n",
              "      <button class=\"colab-df-convert\" onclick=\"convertToInteractive('df-ba962fea-1209-4a12-9e5f-a937ed30252c')\"\n",
              "              title=\"Convert this dataframe to an interactive table.\"\n",
              "              style=\"display:none;\">\n",
              "        \n",
              "  <svg xmlns=\"http://www.w3.org/2000/svg\" height=\"24px\"viewBox=\"0 0 24 24\"\n",
              "       width=\"24px\">\n",
              "    <path d=\"M0 0h24v24H0V0z\" fill=\"none\"/>\n",
              "    <path d=\"M18.56 5.44l.94 2.06.94-2.06 2.06-.94-2.06-.94-.94-2.06-.94 2.06-2.06.94zm-11 1L8.5 8.5l.94-2.06 2.06-.94-2.06-.94L8.5 2.5l-.94 2.06-2.06.94zm10 10l.94 2.06.94-2.06 2.06-.94-2.06-.94-.94-2.06-.94 2.06-2.06.94z\"/><path d=\"M17.41 7.96l-1.37-1.37c-.4-.4-.92-.59-1.43-.59-.52 0-1.04.2-1.43.59L10.3 9.45l-7.72 7.72c-.78.78-.78 2.05 0 2.83L4 21.41c.39.39.9.59 1.41.59.51 0 1.02-.2 1.41-.59l7.78-7.78 2.81-2.81c.8-.78.8-2.07 0-2.86zM5.41 20L4 18.59l7.72-7.72 1.47 1.35L5.41 20z\"/>\n",
              "  </svg>\n",
              "      </button>\n",
              "      \n",
              "  <style>\n",
              "    .colab-df-container {\n",
              "      display:flex;\n",
              "      flex-wrap:wrap;\n",
              "      gap: 12px;\n",
              "    }\n",
              "\n",
              "    .colab-df-convert {\n",
              "      background-color: #E8F0FE;\n",
              "      border: none;\n",
              "      border-radius: 50%;\n",
              "      cursor: pointer;\n",
              "      display: none;\n",
              "      fill: #1967D2;\n",
              "      height: 32px;\n",
              "      padding: 0 0 0 0;\n",
              "      width: 32px;\n",
              "    }\n",
              "\n",
              "    .colab-df-convert:hover {\n",
              "      background-color: #E2EBFA;\n",
              "      box-shadow: 0px 1px 2px rgba(60, 64, 67, 0.3), 0px 1px 3px 1px rgba(60, 64, 67, 0.15);\n",
              "      fill: #174EA6;\n",
              "    }\n",
              "\n",
              "    [theme=dark] .colab-df-convert {\n",
              "      background-color: #3B4455;\n",
              "      fill: #D2E3FC;\n",
              "    }\n",
              "\n",
              "    [theme=dark] .colab-df-convert:hover {\n",
              "      background-color: #434B5C;\n",
              "      box-shadow: 0px 1px 3px 1px rgba(0, 0, 0, 0.15);\n",
              "      filter: drop-shadow(0px 1px 2px rgba(0, 0, 0, 0.3));\n",
              "      fill: #FFFFFF;\n",
              "    }\n",
              "  </style>\n",
              "\n",
              "      <script>\n",
              "        const buttonEl =\n",
              "          document.querySelector('#df-ba962fea-1209-4a12-9e5f-a937ed30252c button.colab-df-convert');\n",
              "        buttonEl.style.display =\n",
              "          google.colab.kernel.accessAllowed ? 'block' : 'none';\n",
              "\n",
              "        async function convertToInteractive(key) {\n",
              "          const element = document.querySelector('#df-ba962fea-1209-4a12-9e5f-a937ed30252c');\n",
              "          const dataTable =\n",
              "            await google.colab.kernel.invokeFunction('convertToInteractive',\n",
              "                                                     [key], {});\n",
              "          if (!dataTable) return;\n",
              "\n",
              "          const docLinkHtml = 'Like what you see? Visit the ' +\n",
              "            '<a target=\"_blank\" href=https://colab.research.google.com/notebooks/data_table.ipynb>data table notebook</a>'\n",
              "            + ' to learn more about interactive tables.';\n",
              "          element.innerHTML = '';\n",
              "          dataTable['output_type'] = 'display_data';\n",
              "          await google.colab.output.renderOutput(dataTable, element);\n",
              "          const docLink = document.createElement('div');\n",
              "          docLink.innerHTML = docLinkHtml;\n",
              "          element.appendChild(docLink);\n",
              "        }\n",
              "      </script>\n",
              "    </div>\n",
              "  </div>\n",
              "  "
            ],
            "text/plain": [
              "          loss     val_loss\n",
              "0  672140480.0  688094720.0\n",
              "1  672106432.0  688030464.0\n",
              "2  671981184.0  687806592.0\n",
              "3  671588672.0  687147968.0\n",
              "4  670521472.0  685475520.0"
            ]
          },
          "metadata": {},
          "execution_count": 65
        }
      ]
    },
    {
      "cell_type": "code",
      "source": [
        "kayipv.plot();"
      ],
      "metadata": {
        "colab": {
          "base_uri": "https://localhost:8080/",
          "height": 276
        },
        "id": "rHkSBU4YRe7a",
        "outputId": "32032902-3e70-4348-bca6-9289d4318173"
      },
      "execution_count": 66,
      "outputs": [
        {
          "output_type": "display_data",
          "data": {
            "image/png": "[encoded data removed]",
            "text/plain": [
              "<Figure size 432x288 with 1 Axes>"
            ]
          },
          "metadata": {
            "needs_background": "light"
          }
        }
      ]
    },
    {
      "cell_type": "code",
      "source": [
        "from sklearn.metrics import mean_squared_error,mean_absolute_error"
      ],
      "metadata": {
        "id": "XqiukqSLRj0B"
      },
      "execution_count": 67,
      "outputs": []
    },
    {
      "cell_type": "code",
      "source": [
        "td=model.predict(x_test)\n",
        "td"
      ],
      "metadata": {
        "colab": {
          "base_uri": "https://localhost:8080/"
        },
        "id": "Apz-tWGbSNIx",
        "outputId": "1ec5f591-5482-4300-ffaf-108dc9c7aa1c"
      },
      "execution_count": 68,
      "outputs": [
        {
          "output_type": "execute_result",
          "data": {
            "text/plain": [
              "array([[21869.092],\n",
              "       [23332.506],\n",
              "       [24505.309],\n",
              "       ...,\n",
              "       [25619.256],\n",
              "       [12263.444],\n",
              "       [24182.264]], dtype=float32)"
            ]
          },
          "metadata": {},
          "execution_count": 68
        }
      ]
    },
    {
      "cell_type": "code",
      "source": [
        "mean_absolute_error(y_test,td)"
      ],
      "metadata": {
        "colab": {
          "base_uri": "https://localhost:8080/"
        },
        "id": "HJkIT9pLSSU9",
        "outputId": "2afa7f28-d89e-403f-afee-e4be7188cfb1"
      },
      "execution_count": 69,
      "outputs": [
        {
          "output_type": "execute_result",
          "data": {
            "text/plain": [
              "3195.34095110268"
            ]
          },
          "metadata": {},
          "execution_count": 69
        }
      ]
    },
    {
      "cell_type": "code",
      "source": [
        "data.describe()"
      ],
      "metadata": {
        "colab": {
          "base_uri": "https://localhost:8080/",
          "height": 300
        },
        "id": "jKAvoTRnSmd-",
        "outputId": "5e468aa2-361b-44bf-fb3a-34ca36fb751a"
      },
      "execution_count": 70,
      "outputs": [
        {
          "output_type": "execute_result",
          "data": {
            "text/html": [
              "\n",
              "  <div id=\"df-bd2c6869-7d58-491d-ab05-e369a86c6aea\">\n",
              "    <div class=\"colab-df-container\">\n",
              "      <div>\n",
              "<style scoped>\n",
              "    .dataframe tbody tr th:only-of-type {\n",
              "        vertical-align: middle;\n",
              "    }\n",
              "\n",
              "    .dataframe tbody tr th {\n",
              "        vertical-align: top;\n",
              "    }\n",
              "\n",
              "    .dataframe thead th {\n",
              "        text-align: right;\n",
              "    }\n",
              "</style>\n",
              "<table border=\"1\" class=\"dataframe\">\n",
              "  <thead>\n",
              "    <tr style=\"text-align: right;\">\n",
              "      <th></th>\n",
              "      <th>year</th>\n",
              "      <th>price</th>\n",
              "      <th>mileage</th>\n",
              "      <th>tax</th>\n",
              "      <th>mpg</th>\n",
              "      <th>engineSize</th>\n",
              "    </tr>\n",
              "  </thead>\n",
              "  <tbody>\n",
              "    <tr>\n",
              "      <th>count</th>\n",
              "      <td>12987.000000</td>\n",
              "      <td>12987.000000</td>\n",
              "      <td>12987.000000</td>\n",
              "      <td>12987.000000</td>\n",
              "      <td>12987.000000</td>\n",
              "      <td>12987.000000</td>\n",
              "    </tr>\n",
              "    <tr>\n",
              "      <th>mean</th>\n",
              "      <td>2017.285516</td>\n",
              "      <td>24074.855779</td>\n",
              "      <td>22133.367367</td>\n",
              "      <td>129.676215</td>\n",
              "      <td>55.438392</td>\n",
              "      <td>2.051059</td>\n",
              "    </tr>\n",
              "    <tr>\n",
              "      <th>std</th>\n",
              "      <td>2.189633</td>\n",
              "      <td>9866.601115</td>\n",
              "      <td>21197.472376</td>\n",
              "      <td>65.167429</td>\n",
              "      <td>15.025902</td>\n",
              "      <td>0.532313</td>\n",
              "    </tr>\n",
              "    <tr>\n",
              "      <th>min</th>\n",
              "      <td>1997.000000</td>\n",
              "      <td>650.000000</td>\n",
              "      <td>1.000000</td>\n",
              "      <td>0.000000</td>\n",
              "      <td>1.100000</td>\n",
              "      <td>0.000000</td>\n",
              "    </tr>\n",
              "    <tr>\n",
              "      <th>25%</th>\n",
              "      <td>2016.000000</td>\n",
              "      <td>17355.000000</td>\n",
              "      <td>6320.000000</td>\n",
              "      <td>125.000000</td>\n",
              "      <td>45.600000</td>\n",
              "      <td>1.700000</td>\n",
              "    </tr>\n",
              "    <tr>\n",
              "      <th>50%</th>\n",
              "      <td>2018.000000</td>\n",
              "      <td>22299.000000</td>\n",
              "      <td>15371.000000</td>\n",
              "      <td>145.000000</td>\n",
              "      <td>56.500000</td>\n",
              "      <td>2.000000</td>\n",
              "    </tr>\n",
              "    <tr>\n",
              "      <th>75%</th>\n",
              "      <td>2019.000000</td>\n",
              "      <td>28706.000000</td>\n",
              "      <td>31986.500000</td>\n",
              "      <td>145.000000</td>\n",
              "      <td>64.200000</td>\n",
              "      <td>2.100000</td>\n",
              "    </tr>\n",
              "    <tr>\n",
              "      <th>max</th>\n",
              "      <td>2020.000000</td>\n",
              "      <td>65990.000000</td>\n",
              "      <td>259000.000000</td>\n",
              "      <td>580.000000</td>\n",
              "      <td>217.300000</td>\n",
              "      <td>6.200000</td>\n",
              "    </tr>\n",
              "  </tbody>\n",
              "</table>\n",
              "</div>\n",
              "      <button class=\"colab-df-convert\" onclick=\"convertToInteractive('df-bd2c6869-7d58-491d-ab05-e369a86c6aea')\"\n",
              "              title=\"Convert this dataframe to an interactive table.\"\n",
              "              style=\"display:none;\">\n",
              "        \n",
              "  <svg xmlns=\"http://www.w3.org/2000/svg\" height=\"24px\"viewBox=\"0 0 24 24\"\n",
              "       width=\"24px\">\n",
              "    <path d=\"M0 0h24v24H0V0z\" fill=\"none\"/>\n",
              "    <path d=\"M18.56 5.44l.94 2.06.94-2.06 2.06-.94-2.06-.94-.94-2.06-.94 2.06-2.06.94zm-11 1L8.5 8.5l.94-2.06 2.06-.94-2.06-.94L8.5 2.5l-.94 2.06-2.06.94zm10 10l.94 2.06.94-2.06 2.06-.94-2.06-.94-.94-2.06-.94 2.06-2.06.94z\"/><path d=\"M17.41 7.96l-1.37-1.37c-.4-.4-.92-.59-1.43-.59-.52 0-1.04.2-1.43.59L10.3 9.45l-7.72 7.72c-.78.78-.78 2.05 0 2.83L4 21.41c.39.39.9.59 1.41.59.51 0 1.02-.2 1.41-.59l7.78-7.78 2.81-2.81c.8-.78.8-2.07 0-2.86zM5.41 20L4 18.59l7.72-7.72 1.47 1.35L5.41 20z\"/>\n",
              "  </svg>\n",
              "      </button>\n",
              "      \n",
              "  <style>\n",
              "    .colab-df-container {\n",
              "      display:flex;\n",
              "      flex-wrap:wrap;\n",
              "      gap: 12px;\n",
              "    }\n",
              "\n",
              "    .colab-df-convert {\n",
              "      background-color: #E8F0FE;\n",
              "      border: none;\n",
              "      border-radius: 50%;\n",
              "      cursor: pointer;\n",
              "      display: none;\n",
              "      fill: #1967D2;\n",
              "      height: 32px;\n",
              "      padding: 0 0 0 0;\n",
              "      width: 32px;\n",
              "    }\n",
              "\n",
              "    .colab-df-convert:hover {\n",
              "      background-color: #E2EBFA;\n",
              "      box-shadow: 0px 1px 2px rgba(60, 64, 67, 0.3), 0px 1px 3px 1px rgba(60, 64, 67, 0.15);\n",
              "      fill: #174EA6;\n",
              "    }\n",
              "\n",
              "    [theme=dark] .colab-df-convert {\n",
              "      background-color: #3B4455;\n",
              "      fill: #D2E3FC;\n",
              "    }\n",
              "\n",
              "    [theme=dark] .colab-df-convert:hover {\n",
              "      background-color: #434B5C;\n",
              "      box-shadow: 0px 1px 3px 1px rgba(0, 0, 0, 0.15);\n",
              "      filter: drop-shadow(0px 1px 2px rgba(0, 0, 0, 0.3));\n",
              "      fill: #FFFFFF;\n",
              "    }\n",
              "  </style>\n",
              "\n",
              "      <script>\n",
              "        const buttonEl =\n",
              "          document.querySelector('#df-bd2c6869-7d58-491d-ab05-e369a86c6aea button.colab-df-convert');\n",
              "        buttonEl.style.display =\n",
              "          google.colab.kernel.accessAllowed ? 'block' : 'none';\n",
              "\n",
              "        async function convertToInteractive(key) {\n",
              "          const element = document.querySelector('#df-bd2c6869-7d58-491d-ab05-e369a86c6aea');\n",
              "          const dataTable =\n",
              "            await google.colab.kernel.invokeFunction('convertToInteractive',\n",
              "                                                     [key], {});\n",
              "          if (!dataTable) return;\n",
              "\n",
              "          const docLinkHtml = 'Like what you see? Visit the ' +\n",
              "            '<a target=\"_blank\" href=https://colab.research.google.com/notebooks/data_table.ipynb>data table notebook</a>'\n",
              "            + ' to learn more about interactive tables.';\n",
              "          element.innerHTML = '';\n",
              "          dataTable['output_type'] = 'display_data';\n",
              "          await google.colab.output.renderOutput(dataTable, element);\n",
              "          const docLink = document.createElement('div');\n",
              "          docLink.innerHTML = docLinkHtml;\n",
              "          element.appendChild(docLink);\n",
              "        }\n",
              "      </script>\n",
              "    </div>\n",
              "  </div>\n",
              "  "
            ],
            "text/plain": [
              "               year         price  ...           mpg    engineSize\n",
              "count  12987.000000  12987.000000  ...  12987.000000  12987.000000\n",
              "mean    2017.285516  24074.855779  ...     55.438392      2.051059\n",
              "std        2.189633   9866.601115  ...     15.025902      0.532313\n",
              "min     1997.000000    650.000000  ...      1.100000      0.000000\n",
              "25%     2016.000000  17355.000000  ...     45.600000      1.700000\n",
              "50%     2018.000000  22299.000000  ...     56.500000      2.000000\n",
              "75%     2019.000000  28706.000000  ...     64.200000      2.100000\n",
              "max     2020.000000  65990.000000  ...    217.300000      6.200000\n",
              "\n",
              "[8 rows x 6 columns]"
            ]
          },
          "metadata": {},
          "execution_count": 70
        }
      ]
    },
    {
      "cell_type": "code",
      "source": [
        "3195/24074"
      ],
      "metadata": {
        "colab": {
          "base_uri": "https://localhost:8080/"
        },
        "id": "H3xEwi-8SqKz",
        "outputId": "a3524595-abb9-4ae6-fb93-d8f17b12fb71"
      },
      "execution_count": 72,
      "outputs": [
        {
          "output_type": "execute_result",
          "data": {
            "text/plain": [
              "0.1327157929716707"
            ]
          },
          "metadata": {},
          "execution_count": 72
        }
      ]
    },
    {
      "cell_type": "code",
      "source": [
        "plt.scatter(y_test,td);\n",
        "plt.plot(y_test,y_test,\"g-*\")"
      ],
      "metadata": {
        "colab": {
          "base_uri": "https://localhost:8080/",
          "height": 286
        },
        "id": "bWIfveSVSxi6",
        "outputId": "5280f928-12ec-4c80-f157-ec2cb0da79c6"
      },
      "execution_count": 74,
      "outputs": [
        {
          "output_type": "execute_result",
          "data": {
            "text/plain": [
              "[<matplotlib.lines.Line2D at 0x7fbff2cbc9d0>]"
            ]
          },
          "metadata": {},
          "execution_count": 74
        },
        {
          "output_type": "display_data",
          "data": {
            "image/png": "[encoded data removed]",
            "text/plain": [
              "<Figure size 432x288 with 1 Axes>"
            ]
          },
          "metadata": {
            "needs_background": "light"
          }
        }
      ]
    },
    {
      "cell_type": "code",
      "source": [
        "data.iloc[2]"
      ],
      "metadata": {
        "colab": {
          "base_uri": "https://localhost:8080/"
        },
        "id": "E1pmRJeBTFq-",
        "outputId": "b3e1cdfa-f14e-4553-a006-d907592cb2ac"
      },
      "execution_count": 75,
      "outputs": [
        {
          "output_type": "execute_result",
          "data": {
            "text/plain": [
              "year           2020.0\n",
              "price         65980.0\n",
              "mileage        3999.0\n",
              "tax             145.0\n",
              "mpg              28.0\n",
              "engineSize        4.0\n",
              "Name: 3191, dtype: float64"
            ]
          },
          "metadata": {},
          "execution_count": 75
        }
      ]
    },
    {
      "cell_type": "code",
      "source": [
        "yeniaraba=data.drop(\"price\",axis=1).iloc[2]"
      ],
      "metadata": {
        "id": "F-54ChnZTTH_"
      },
      "execution_count": 76,
      "outputs": []
    },
    {
      "cell_type": "code",
      "source": [
        "type(yeniaraba)"
      ],
      "metadata": {
        "colab": {
          "base_uri": "https://localhost:8080/"
        },
        "id": "Z42kqpqUTdZ-",
        "outputId": "7717e252-0371-4e03-cc32-506744326120"
      },
      "execution_count": 77,
      "outputs": [
        {
          "output_type": "execute_result",
          "data": {
            "text/plain": [
              "pandas.core.series.Series"
            ]
          },
          "metadata": {},
          "execution_count": 77
        }
      ]
    },
    {
      "cell_type": "code",
      "source": [
        "yeniaraba = scaler.transform(yeniaraba.values.reshape(-1,5))"
      ],
      "metadata": {
        "id": "5EohfG9nTfzZ"
      },
      "execution_count": 78,
      "outputs": []
    },
    {
      "cell_type": "code",
      "source": [
        "model.predict(yeniaraba)"
      ],
      "metadata": {
        "colab": {
          "base_uri": "https://localhost:8080/"
        },
        "id": "szjmwMI5TwsT",
        "outputId": "493ec0e9-9edf-40b5-c757-77aba063e1e4"
      },
      "execution_count": 79,
      "outputs": [
        {
          "output_type": "execute_result",
          "data": {
            "text/plain": [
              "array([[61319.23]], dtype=float32)"
            ]
          },
          "metadata": {},
          "execution_count": 79
        }
      ]
    },
    {
      "cell_type": "code",
      "source": [
        "# 65980.0 fiyatındaki arabayı 61319.3 olarak tahmin etti."
      ],
      "metadata": {
        "id": "A170gIJQTz4e"
      },
      "execution_count": 80,
      "outputs": []
    },
    {
      "cell_type": "code",
      "source": [
        ""
      ],
      "metadata": {
        "id": "wdgyhaMLUCao"
      },
      "execution_count": null,
      "outputs": []
    }
  ]
}